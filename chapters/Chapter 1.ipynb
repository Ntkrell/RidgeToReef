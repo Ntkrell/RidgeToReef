{
 "cells": [
  {
   "cell_type": "markdown",
   "metadata": {},
   "source": [
    "# Chapter 1: Characterizing Seasonal Rainfall Variability\n",
    "        \n",
    " [⬅️ Previous Chapter](Chapter 0.ipynb)     [➡️ Next Chapter](Chapter 2.ipynb)\n",
    "\n",
    "Rainfall in many dryland ecosystems exhibits pronounced variability from year to year. In this excercise, we will investigate the nature of rainfall at some locations in Kenya and Zambia and use these data to draw inference into the nature of the rainfall process. Finally, we will use the data to develop an empirical model of rainfall that we could use to simulate the rainfall process across many realizations of discrete growing seasons. \n",
    "\n",
    "## Chapter Objectives\n",
    "\n",
    "* Analyze daily rainfall at monthly, seasonal, and yearly scales\n",
    "* Examine the nature of the daily rainfall process\n",
    "* Plot key results and compare findings across stations and over time.\n",
    "\n",
    "First, let's load pandas into our notebook. We use `pd` as the shortname for pandas, which is an informal convention that you will see used across the python data analysis landscape. \n",
    "\n",
    "**NOTE: You only need to run the next cell once per session.**"
   ]
  },
  {
   "cell_type": "code",
   "execution_count": 8,
   "metadata": {},
   "outputs": [],
   "source": [
    "import pandas as pd"
   ]
  },
  {
   "cell_type": "markdown",
   "metadata": {},
   "source": [
    "## Reading in the data\n",
    "\n",
    "All the data for our excercise are stored as `.csv` files. These files are very easy to import into pandas. We read the `.csv` file into a `dataframe`, which is the fundamental unit of storage and analysis pandas. The `dataframe` is similar to `R` dataframes, and can even be thought of as a spreadsheet. Every dataframe contains columns (variables) and rows (values)."
   ]
  },
  {
   "cell_type": "code",
   "execution_count": 9,
   "metadata": {},
   "outputs": [],
   "source": [
    "df = pd.read_csv(\"../data/archers_post_rainfall.csv\")"
   ]
  },
  {
   "cell_type": "markdown",
   "metadata": {},
   "source": [
    "#### What just happened: \n",
    "Our `.csv` file was just imported by pandas and stored in a pandas dataframe, which we called `df` (another common shorthand in the pandas world). The resulting `df` object will allow us to do all sorts of analysis and manipulations of the data, just as if we had loaded the data into a spreadsheet in Excel. \n",
    "\n",
    "If you're not familiar, this would be a good time to check out a pandas tutorial, which is available in [Chapter 0](Chapter 0.ipynb) of this module."
   ]
  },
  {
   "cell_type": "code",
   "execution_count": 7,
   "metadata": {},
   "outputs": [
    {
     "data": {
      "text/plain": [
       "2003.0"
      ]
     },
     "execution_count": 7,
     "metadata": {},
     "output_type": "execute_result"
    }
   ],
   "source": [
    "df.head()"
   ]
  }
 ],
 "metadata": {
  "kernelspec": {
   "display_name": "Python 3",
   "language": "python",
   "name": "python3"
  },
  "language_info": {
   "codemirror_mode": {
    "name": "ipython",
    "version": 3
   },
   "file_extension": ".py",
   "mimetype": "text/x-python",
   "name": "python",
   "nbconvert_exporter": "python",
   "pygments_lexer": "ipython3",
   "version": "3.6.5"
  }
 },
 "nbformat": 4,
 "nbformat_minor": 2
}
