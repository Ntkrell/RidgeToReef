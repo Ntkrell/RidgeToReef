{
 "cells": [
  {
   "cell_type": "markdown",
   "metadata": {},
   "source": [
    "# Chapter 4: Integrating Social and Environmental Data in Coupled Natural-Human Systems <a name=\"top\"></a>\n",
    "\n",
    "<div class=\"alert alert-info\">\n",
    " [⬅️ Previous Chapter](Chapter%203.ipynb)     \n",
    "</div>\n",
    "\n",
    "![](../assets/boni.png)\n",
    "\n",
    "Farmers make several important decisions over the course of a growing season that can have serious consequences for their livelihood. These decisions are subject to a variety of influences such as environmental variability, social norms, government policy, and socio-economic circumstances. In this module, we will explore household-level and field-level data showing variability in planting dates and rainfall, and discuss possible hypotheses for research.\n",
    "\n",
    "The WAVES lab at UCSB installed 10 crop-monitoring weather stations in Kenya in 2015 and an additional 60 in 2018. These [in-field sensors](https://www.arable.com) go beyond traditional weather measurements  by providing spectral data to sense photosynthetic activity, acoustic detection of precipitation, net radiometry for energy budgets, IR thermometers and telemetry to build advanced analytics and precision agriculture tools. For this activity, we will use data from an older generation of devices for analyzing rainfall. \n",
    "\n",
    "Where we work in the Rift Valley Province Mt. Kenya region (0.0˚N, 37.0˚E) is characterized by equatorial rainfall with a bimodal rainfall regime which peaks in the boreal spring (roughly March to May; \"long rains\") and boreal automumn (October and November: \"short rains\").  \n",
    "\n",
    "To read more about precipitation trends around Mt. Kenya see [Schmocker et al. 2016](https://agupubs.onlinelibrary.wiley.com/doi/10.1002/joc.4438).\n",
    "\n",
    "\n",
    "## Chapter Objectives\n",
    "\n",
    "* Create functions using python to seperate rainy seasons (define rainy seasons using functions)\n",
    "* Visualize distributions of planting seasons -- check out # of farmers with one, two vs. three plantings. What was the most frequently planted week? Visualize variability in planting dates\n",
    "* Hypothesize what social and environmental factors alter farmer decisions, and what impact that has on production\n",
    "* Calculate likelihood of premature maize\n",
    "* Will\n",
    "* Learn"
   ]
  },
  {
   "cell_type": "markdown",
   "metadata": {},
   "source": [
    "## Read in Data"
   ]
  },
  {
   "cell_type": "code",
   "execution_count": 1,
   "metadata": {},
   "outputs": [],
   "source": [
    "%matplotlib inline\n",
    "\n",
    "import matplotlib.pyplot as plt\n",
    "import numpy as np\n",
    "import pandas as pd"
   ]
  },
  {
   "cell_type": "code",
   "execution_count": 118,
   "metadata": {},
   "outputs": [
    {
     "name": "stdout",
     "output_type": "stream",
     "text": [
      "L2017    469\n",
      "S2016    275\n",
      "L2016    215\n",
      "Name: Season, dtype: int64\n",
      "S2016    291\n",
      "L2016    141\n",
      "L2017     13\n",
      "Name: Season, dtype: int64\n"
     ]
    }
   ],
   "source": [
    "plant = pd.read_csv('../data/maize-plant-with-season.csv', date_parser='Week')\n",
    "harvest = pd.read_csv('../data/maize-harvest-with-season.csv', date_parser='Week'); plant.head()\n",
    "\n",
    "print(plant['Season'].value_counts())\n",
    "print(harvest['Season'].value_counts())\n",
    "\n",
    "# plant.dtypes"
   ]
  },
  {
   "cell_type": "code",
   "execution_count": 90,
   "metadata": {},
   "outputs": [
    {
     "name": "stdout",
     "output_type": "stream",
     "text": [
      "684\n",
      "154\n"
     ]
    }
   ],
   "source": [
    "# for simplicity, we'll just analyze planting dates during the Short Rains in 2016 (September--end of year) and Harvest during the long rains (January-June)\n",
    "\n",
    "# filter by season \n",
    "plant[plant['Season'].str.contains(\"L\")]\n",
    "\n",
    "# how many farmers responded?\n",
    "print(len(plant[plant['Season'].str.contains(\"L\")]))\n",
    "print(len(harvest[harvest['Season'].str.contains(\"L\")]))"
   ]
  },
  {
   "cell_type": "code",
   "execution_count": 91,
   "metadata": {},
   "outputs": [
    {
     "data": {
      "text/plain": [
       "S2016    291\n",
       "L2016    141\n",
       "L2017     13\n",
       "Name: Season, dtype: int64"
      ]
     },
     "execution_count": 91,
     "metadata": {},
     "output_type": "execute_result"
    }
   ],
   "source": [
    "# how many farmers planted/harvested each week of each season?\n"
   ]
  },
  {
   "cell_type": "code",
   "execution_count": 92,
   "metadata": {},
   "outputs": [
    {
     "data": {
      "text/html": [
       "<div>\n",
       "<style scoped>\n",
       "    .dataframe tbody tr th:only-of-type {\n",
       "        vertical-align: middle;\n",
       "    }\n",
       "\n",
       "    .dataframe tbody tr th {\n",
       "        vertical-align: top;\n",
       "    }\n",
       "\n",
       "    .dataframe thead th {\n",
       "        text-align: right;\n",
       "    }\n",
       "</style>\n",
       "<table border=\"1\" class=\"dataframe\">\n",
       "  <thead>\n",
       "    <tr style=\"text-align: right;\">\n",
       "      <th></th>\n",
       "      <th>Week</th>\n",
       "      <th>Count</th>\n",
       "    </tr>\n",
       "  </thead>\n",
       "  <tbody>\n",
       "    <tr>\n",
       "      <th>0</th>\n",
       "      <td>9/19/16</td>\n",
       "      <td>41</td>\n",
       "    </tr>\n",
       "    <tr>\n",
       "      <th>1</th>\n",
       "      <td>10/17/16</td>\n",
       "      <td>35</td>\n",
       "    </tr>\n",
       "    <tr>\n",
       "      <th>2</th>\n",
       "      <td>10/10/16</td>\n",
       "      <td>28</td>\n",
       "    </tr>\n",
       "    <tr>\n",
       "      <th>3</th>\n",
       "      <td>9/26/16</td>\n",
       "      <td>27</td>\n",
       "    </tr>\n",
       "    <tr>\n",
       "      <th>4</th>\n",
       "      <td>10/3/16</td>\n",
       "      <td>24</td>\n",
       "    </tr>\n",
       "    <tr>\n",
       "      <th>5</th>\n",
       "      <td>9/5/16</td>\n",
       "      <td>23</td>\n",
       "    </tr>\n",
       "    <tr>\n",
       "      <th>6</th>\n",
       "      <td>9/12/16</td>\n",
       "      <td>23</td>\n",
       "    </tr>\n",
       "    <tr>\n",
       "      <th>7</th>\n",
       "      <td>10/24/16</td>\n",
       "      <td>22</td>\n",
       "    </tr>\n",
       "    <tr>\n",
       "      <th>8</th>\n",
       "      <td>3/14/16</td>\n",
       "      <td>21</td>\n",
       "    </tr>\n",
       "    <tr>\n",
       "      <th>9</th>\n",
       "      <td>10/31/16</td>\n",
       "      <td>19</td>\n",
       "    </tr>\n",
       "    <tr>\n",
       "      <th>10</th>\n",
       "      <td>3/21/16</td>\n",
       "      <td>19</td>\n",
       "    </tr>\n",
       "    <tr>\n",
       "      <th>11</th>\n",
       "      <td>2/22/16</td>\n",
       "      <td>18</td>\n",
       "    </tr>\n",
       "    <tr>\n",
       "      <th>12</th>\n",
       "      <td>3/28/16</td>\n",
       "      <td>18</td>\n",
       "    </tr>\n",
       "    <tr>\n",
       "      <th>13</th>\n",
       "      <td>8/22/16</td>\n",
       "      <td>15</td>\n",
       "    </tr>\n",
       "    <tr>\n",
       "      <th>14</th>\n",
       "      <td>11/7/16</td>\n",
       "      <td>12</td>\n",
       "    </tr>\n",
       "    <tr>\n",
       "      <th>15</th>\n",
       "      <td>4/4/16</td>\n",
       "      <td>10</td>\n",
       "    </tr>\n",
       "    <tr>\n",
       "      <th>16</th>\n",
       "      <td>11/14/16</td>\n",
       "      <td>9</td>\n",
       "    </tr>\n",
       "    <tr>\n",
       "      <th>17</th>\n",
       "      <td>3/7/16</td>\n",
       "      <td>9</td>\n",
       "    </tr>\n",
       "    <tr>\n",
       "      <th>18</th>\n",
       "      <td>2/29/16</td>\n",
       "      <td>6</td>\n",
       "    </tr>\n",
       "    <tr>\n",
       "      <th>19</th>\n",
       "      <td>4/25/16</td>\n",
       "      <td>6</td>\n",
       "    </tr>\n",
       "    <tr>\n",
       "      <th>20</th>\n",
       "      <td>4/11/16</td>\n",
       "      <td>5</td>\n",
       "    </tr>\n",
       "    <tr>\n",
       "      <th>21</th>\n",
       "      <td>5/9/16</td>\n",
       "      <td>5</td>\n",
       "    </tr>\n",
       "    <tr>\n",
       "      <th>22</th>\n",
       "      <td>11/21/16</td>\n",
       "      <td>5</td>\n",
       "    </tr>\n",
       "    <tr>\n",
       "      <th>23</th>\n",
       "      <td>6/19/17</td>\n",
       "      <td>4</td>\n",
       "    </tr>\n",
       "    <tr>\n",
       "      <th>24</th>\n",
       "      <td>4/18/16</td>\n",
       "      <td>4</td>\n",
       "    </tr>\n",
       "    <tr>\n",
       "      <th>25</th>\n",
       "      <td>8/29/16</td>\n",
       "      <td>4</td>\n",
       "    </tr>\n",
       "    <tr>\n",
       "      <th>26</th>\n",
       "      <td>1/23/17</td>\n",
       "      <td>4</td>\n",
       "    </tr>\n",
       "    <tr>\n",
       "      <th>27</th>\n",
       "      <td>5/16/16</td>\n",
       "      <td>3</td>\n",
       "    </tr>\n",
       "    <tr>\n",
       "      <th>28</th>\n",
       "      <td>1/30/17</td>\n",
       "      <td>3</td>\n",
       "    </tr>\n",
       "    <tr>\n",
       "      <th>29</th>\n",
       "      <td>5/23/16</td>\n",
       "      <td>3</td>\n",
       "    </tr>\n",
       "    <tr>\n",
       "      <th>30</th>\n",
       "      <td>6/6/16</td>\n",
       "      <td>3</td>\n",
       "    </tr>\n",
       "    <tr>\n",
       "      <th>31</th>\n",
       "      <td>6/13/16</td>\n",
       "      <td>3</td>\n",
       "    </tr>\n",
       "    <tr>\n",
       "      <th>32</th>\n",
       "      <td>5/30/16</td>\n",
       "      <td>3</td>\n",
       "    </tr>\n",
       "    <tr>\n",
       "      <th>33</th>\n",
       "      <td>5/2/16</td>\n",
       "      <td>2</td>\n",
       "    </tr>\n",
       "    <tr>\n",
       "      <th>34</th>\n",
       "      <td>7/4/16</td>\n",
       "      <td>2</td>\n",
       "    </tr>\n",
       "    <tr>\n",
       "      <th>35</th>\n",
       "      <td>6/27/16</td>\n",
       "      <td>2</td>\n",
       "    </tr>\n",
       "    <tr>\n",
       "      <th>36</th>\n",
       "      <td>7/25/16</td>\n",
       "      <td>1</td>\n",
       "    </tr>\n",
       "    <tr>\n",
       "      <th>37</th>\n",
       "      <td>3/13/17</td>\n",
       "      <td>1</td>\n",
       "    </tr>\n",
       "    <tr>\n",
       "      <th>38</th>\n",
       "      <td>6/20/16</td>\n",
       "      <td>1</td>\n",
       "    </tr>\n",
       "    <tr>\n",
       "      <th>39</th>\n",
       "      <td>2/6/17</td>\n",
       "      <td>1</td>\n",
       "    </tr>\n",
       "    <tr>\n",
       "      <th>40</th>\n",
       "      <td>8/8/16</td>\n",
       "      <td>1</td>\n",
       "    </tr>\n",
       "  </tbody>\n",
       "</table>\n",
       "</div>"
      ],
      "text/plain": [
       "        Week  Count\n",
       "0    9/19/16     41\n",
       "1   10/17/16     35\n",
       "2   10/10/16     28\n",
       "3    9/26/16     27\n",
       "4    10/3/16     24\n",
       "5     9/5/16     23\n",
       "6    9/12/16     23\n",
       "7   10/24/16     22\n",
       "8    3/14/16     21\n",
       "9   10/31/16     19\n",
       "10   3/21/16     19\n",
       "11   2/22/16     18\n",
       "12   3/28/16     18\n",
       "13   8/22/16     15\n",
       "14   11/7/16     12\n",
       "15    4/4/16     10\n",
       "16  11/14/16      9\n",
       "17    3/7/16      9\n",
       "18   2/29/16      6\n",
       "19   4/25/16      6\n",
       "20   4/11/16      5\n",
       "21    5/9/16      5\n",
       "22  11/21/16      5\n",
       "23   6/19/17      4\n",
       "24   4/18/16      4\n",
       "25   8/29/16      4\n",
       "26   1/23/17      4\n",
       "27   5/16/16      3\n",
       "28   1/30/17      3\n",
       "29   5/23/16      3\n",
       "30    6/6/16      3\n",
       "31   6/13/16      3\n",
       "32   5/30/16      3\n",
       "33    5/2/16      2\n",
       "34    7/4/16      2\n",
       "35   6/27/16      2\n",
       "36   7/25/16      1\n",
       "37   3/13/17      1\n",
       "38   6/20/16      1\n",
       "39    2/6/17      1\n",
       "40    8/8/16      1"
      ]
     },
     "execution_count": 92,
     "metadata": {},
     "output_type": "execute_result"
    }
   ],
   "source": [
    "# come up with proportion of farmers planting/harvesting per week\n",
    "plan = plant['Week'].value_counts().reset_index()\n",
    "plan.columns = ['Week','Count']; plan\n",
    "\n",
    "harv = harvest['Week'].value_counts().reset_index()\n",
    "harv.columns = ['Week','Count']; harv\n"
   ]
  },
  {
   "cell_type": "code",
   "execution_count": 102,
   "metadata": {},
   "outputs": [
    {
     "data": {
      "image/png": "[encoded data removed]",
      "text/plain": [
       "<matplotlib.figure.Figure at 0x1a1d72f7f0>"
      ]
     },
     "metadata": {},
     "output_type": "display_data"
    }
   ],
   "source": [
    "import seaborn as sns\n",
    "\n",
    "# plot that\n",
    "plan = plan.sort_values('Week')\n",
    "plan.set_index('Week')\n",
    "\n",
    "fig, ax = plt.subplots(1, figsize=(20,10))\n",
    "ax = plan['Count'].plot(kind='bar', color='darkblue')  #, xticks=plant.index\n",
    "plt.suptitle('Number of farmers reporting planting by week', fontsize=20)\n",
    "plt.xlabel('Date', fontsize=16)\n",
    "plt.ylabel('Number of farmers', fontsize=16)\n",
    "fig.autofmt_xdate()\n",
    "\n",
    "for label in ax.xaxis.get_ticklabels()[::2]:\n",
    "    label.set_visible(False)"
   ]
  },
  {
   "cell_type": "code",
   "execution_count": null,
   "metadata": {},
   "outputs": [],
   "source": []
  },
  {
   "cell_type": "code",
   "execution_count": 96,
   "metadata": {},
   "outputs": [
    {
     "data": {
      "text/plain": [
       "<matplotlib.axes._subplots.AxesSubplot at 0x1a1e6d3080>"
      ]
     },
     "execution_count": 96,
     "metadata": {},
     "output_type": "execute_result"
    },
    {
     "data": {
      "image/png": "[encoded data removed]",
      "text/plain": [
       "<matplotlib.figure.Figure at 0x1a1fa8d390>"
      ]
     },
     "metadata": {},
     "output_type": "display_data"
    }
   ],
   "source": [
    "sns.distplot(plan['Count'])"
   ]
  },
  {
   "cell_type": "code",
   "execution_count": 115,
   "metadata": {},
   "outputs": [
    {
     "data": {
      "image/png": "[encoded data removed]",
      "text/plain": [
       "<matplotlib.figure.Figure at 0x1a1e6c45c0>"
      ]
     },
     "metadata": {},
     "output_type": "display_data"
    }
   ],
   "source": [
    "# plot that\n",
    "#harv = harv.sort_values('Week'); harv\n",
    "#harv = harv.set_index('Week')\n",
    "\n",
    "fig, ax = plt.subplots(1, figsize=(20,10))\n",
    "ax = harv['Count'].plot(kind='bar', color='darkblue') #, xticks=harv.index)\n",
    "plt.suptitle('Number of farmers reporting harvest by week', fontsize=20)\n",
    "plt.xlabel('Date', fontsize=16)\n",
    "plt.ylabel('Number of farmers', fontsize=16)\n",
    "fig.autofmt_xdate()\n",
    "\n",
    "for label in ax.xaxis.get_ticklabels()[::2]:\n",
    "    label.set_visible(False)"
   ]
  },
  {
   "cell_type": "code",
   "execution_count": 116,
   "metadata": {},
   "outputs": [
    {
     "data": {
      "text/plain": [
       "<matplotlib.axes._subplots.AxesSubplot at 0x1a1eb5a390>"
      ]
     },
     "execution_count": 116,
     "metadata": {},
     "output_type": "execute_result"
    },
    {
     "data": {
      "image/png": "[encoded data removed]",
      "text/plain": [
       "<matplotlib.figure.Figure at 0x1a1e6d3710>"
      ]
     },
     "metadata": {},
     "output_type": "display_data"
    }
   ],
   "source": [
    "sns.distplot(harv['Count'])"
   ]
  }
 ],
 "metadata": {
  "kernelspec": {
   "display_name": "Python 3",
   "language": "python",
   "name": "python3"
  },
  "language_info": {
   "codemirror_mode": {
    "name": "ipython",
    "version": 3
   },
   "file_extension": ".py",
   "mimetype": "text/x-python",
   "name": "python",
   "nbconvert_exporter": "python",
   "pygments_lexer": "ipython3",
   "version": "3.6.4"
  }
 },
 "nbformat": 4,
 "nbformat_minor": 2
}
