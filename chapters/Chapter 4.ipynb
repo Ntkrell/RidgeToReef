{
 "cells": [
  {
   "cell_type": "markdown",
   "metadata": {},
   "source": [
    "# Chapter 4: Integrating Social and Environmental Data in Coupled Natural-Human Systems <a name=\"top\"></a>\n",
    "\n",
    "<div class=\"alert alert-info\">\n",
    " [⬅️ Previous Chapter](Chapter%203.ipynb)     \n",
    "</div>\n",
    "\n",
    "![](../assets/boni.png)\n",
    "\n",
    "Farmers make several important decisions over the course of a growing season that can have serious consequences for their livelihood. These decisions are subject to a variety of influences such as environmental variability, social norms, government policy, and socio-economic circumstances. In this module, we will explore household-level and field-level data showing variability in planting dates and rainfall, and discuss possible hypotheses for research.\n",
    "\n",
    "The WAVES lab at UCSB installed 10 crop-monitoring weather stations in Kenya in 2015 and an additional 60 in 2018. These [in-field sensors](https://www.arable.com) go beyond traditional weather measurements  by providing spectral data to sense photosynthetic activity, acoustic detection of precipitation, net radiometry for energy budgets, IR thermometers and telemetry to build advanced analytics and precision agriculture tools. For this activity, we will use data from an older generation of devices for analyzing rainfall. \n",
    "\n",
    "As you've seen in the previous chapters, our field sites in the Rift Valley Province Mt. Kenya region (0.0˚N, 37.0˚E) are characterized by equatorial rainfall with a bimodal rainfall regime which peaks in the boreal spring (roughly March to May; \"long rains\") and boreal automumn (October and November: \"short rains\").  \n",
    "\n",
    "To read more about precipitation trends around Mt. Kenya see [Schmocker et al. 2016](https://agupubs.onlinelibrary.wiley.com/doi/10.1002/joc.4438).\n",
    "\n",
    "\n",
    "## Chapter Objectives\n",
    "\n",
    "* Create functions using python to seperate rainy seasons (define rainy seasons using functions)\n",
    "* Visualize distributions of planting seasons -- check out # of farmers with one, two vs. three plantings. What was the most frequently planted week? Visualize variability in planting dates\n",
    "* Hypothesize what social and environmental factors alter farmer decisions, and what impact that has on production\n",
    "* Calculate likelihood of premature maize"
   ]
  },
  {
   "cell_type": "markdown",
   "metadata": {},
   "source": [
    "## Read in Data"
   ]
  },
  {
   "cell_type": "code",
   "execution_count": 92,
   "metadata": {},
   "outputs": [],
   "source": [
    "%matplotlib inline\n",
    "\n",
    "import matplotlib.pyplot as plt\n",
    "import numpy as np\n",
    "import pandas as pd"
   ]
  },
  {
   "cell_type": "markdown",
   "metadata": {},
   "source": [
    "### Surveys of farmer decision making\n",
    "\n",
    "We've been collecting data on farmer planting and harvest dates using an SMS-based survey system. A portion of thie data has been organzied within two files; `maize-plant-with-season.csv` and `maize-harvest-with-season.csv`. Let's load these files and take a look at their structure."
   ]
  },
  {
   "cell_type": "code",
   "execution_count": 93,
   "metadata": {},
   "outputs": [
    {
     "name": "stdout",
     "output_type": "stream",
     "text": [
      "         UID      Week Season\n",
      "0  1A12DE700    4/3/17  L2017\n",
      "1  1A12DE701   3/28/16  L2016\n",
      "2  1A12DE702  10/31/16  S2016\n",
      "3  1A12DE703    5/9/16  L2016\n",
      "4  1A12DE705   3/27/17  L2017\n",
      "        UID      Week Season\n",
      "0   1A12DE7    3/7/16  L2016\n",
      "1   1A12DE8  10/24/16  S2016\n",
      "2  1A12DE10   3/21/16  L2016\n",
      "3  1A12DE11   2/22/16  L2016\n",
      "4  1A12DE12  10/31/16  S2016\n"
     ]
    }
   ],
   "source": [
    "plant = pd.read_csv('../data/maize-plant-with-season.csv', date_parser='Week')\n",
    "harvest = pd.read_csv('../data/maize-harvest-with-season.csv', date_parser='Week'); plant.head()\n",
    "\n",
    "# Let's take a look at these data.\n",
    "print(plant.head())\n",
    "print(harvest.head())"
   ]
  },
  {
   "cell_type": "markdown",
   "metadata": {},
   "source": [
    "The data contain an anonymized, unique id for each respondent, `UID`, as well as a timestamp, `Week`, and a `Season` label. We use the `Season` label to allow us to quickly aggregate and filter the data based on individual seasons. A `Season` label consists of either an `S` or `L` (defining the `Short` or `Long` rains respectively), and the calendar year of the start of the season. Here's a breakdown of the records we have for planting and harvesting in each season. "
   ]
  },
  {
   "cell_type": "code",
   "execution_count": 94,
   "metadata": {},
   "outputs": [
    {
     "name": "stdout",
     "output_type": "stream",
     "text": [
      "Planting Date Information:\n",
      "L2017    469\n",
      "S2016    275\n",
      "L2016    215\n",
      "Name: Season, dtype: int64\n",
      "Harvest Date Information:\n",
      "S2016    291\n",
      "L2016    141\n",
      "L2017     13\n",
      "Name: Season, dtype: int64\n"
     ]
    }
   ],
   "source": [
    "print(\"Planting Date Information:\")\n",
    "print(plant['Season'].value_counts())\n",
    "\n",
    "print(\"Harvest Date Information:\")\n",
    "print(harvest['Season'].value_counts())\n",
    "\n",
    "# plant.dtypes"
   ]
  },
  {
   "cell_type": "markdown",
   "metadata": {},
   "source": [
    "### Developing a list of unique farmer IDs by season\n",
    "\n",
    "We'd like to develop a list of farmers who report both planting and harvest dates in each season. We can do this using **set()** functions, specifically the [**set.intersection()**](https://docs.python.org/3.6/library/stdtypes.html#set) function.\n",
    "\n",
    "<div class=\"alert alert-success\">✏️ **DIY Code:** Use the **set.intersection()**, and **unique()** functions to create a list of unique IDs for the season `L2016`, and call this list `L2016_ids`.</div>"
   ]
  },
  {
   "cell_type": "code",
   "execution_count": 95,
   "metadata": {},
   "outputs": [],
   "source": [
    "plant_ids = plant.loc[plant['Season'] == 'L2016']['UID'].unique()\n",
    "harvest_ids = harvest.loc[plant['Season'] == 'L2016']['UID'].unique()\n",
    "\n",
    "L2016_ids = list(set.intersection(set(plant_ids), set(harvest_ids)))"
   ]
  },
  {
   "cell_type": "markdown",
   "metadata": {},
   "source": [
    "### Convert weekly data into datetime objects\n",
    "\n",
    "We'd like to determine the time between planting and harvest for each farmer `UID`. To do this we need to coerce the `Week` column into `datetime` objects. This is easy to do in `pandas` using the [**pd.to_datetime()**](http://pandas.pydata.org/pandas-docs/stable/generated/pandas.to_datetime.html) function, which allows us to work with `datetime` in `pandas` without having to import the `datetime` library.\n",
    "\n",
    "<div class=\"alert alert-success\">✏️ **DIY Code:** Convert data in the `Week` columns of both `plant` and `harvest` into `datetime` objects.</div>"
   ]
  },
  {
   "cell_type": "code",
   "execution_count": 96,
   "metadata": {},
   "outputs": [],
   "source": [
    "plant['Week'] = pd.to_datetime(plant['Week'])\n",
    "harvest['Week'] = pd.to_datetime(harvest['Week'])"
   ]
  },
  {
   "cell_type": "markdown",
   "metadata": {},
   "source": [
    "### Determining season length\n",
    "\n",
    "We now can determine the season duration for each of the farmers who reported both planting and harvest dates in the long rains for 2016. To do this we need to select all of the records in `plant` and `harvest` that contain _any_ of the `UID` values in our list of `L2016_ids`. `pandas` has a function for list selection, **isin()**, which we will need to use. \n",
    "\n",
    "We will also need to use multiple selections. As an example:\n",
    "\n",
    "```python\n",
    "    selected = all_data.loc[(all_data['ID'].isin(list_of_ids)) & (all_data['category'] == 'this_category')] \n",
    "```\n",
    "\n",
    "<div class=\"alert alert-success\">✏️ **DIY Code:** Create a pair of dataframes that contain rows of planting and harvest dates, but only for data from farmer ids that report both planting and harvest dates for the 2016 long rains.  Save these as `L2016_plant_dates` and `L2016_harvest_dates`</div>"
   ]
  },
  {
   "cell_type": "code",
   "execution_count": 97,
   "metadata": {},
   "outputs": [],
   "source": [
    "L2016_plant_dates = plant.loc[\n",
    "    (plant['UID'].isin(L2016_ids)) & (plant['Season'] == 'L2016')\n",
    "]\n",
    "\n",
    "L2016_harvest_dates = harvest.loc[\n",
    "    (harvest['UID'].isin(L2016_ids)) & (harvest['Season'] == 'L2016')\n",
    "]"
   ]
  },
  {
   "cell_type": "code",
   "execution_count": 108,
   "metadata": {},
   "outputs": [
    {
     "name": "stdout",
     "output_type": "stream",
     "text": [
      "Farmer 1A12DE101 Planted on 2016-04-11 00:00:00, harvested on 2016-02-29 00:00:00\n"
     ]
    }
   ],
   "source": [
    "plant_dates = L2016_plant_dates.groupby('UID')['Week'].min()\n",
    "harvest_dates = L2016_harvest_dates.groupby('UID')['Week'].max()\n",
    "\n",
    "print(\"Farmer {uid} Planted on {plant}, harvested on {harvest}\".format(\n",
    "        uid=plant_dates.index[0],\n",
    "        plant=plant_dates[0],\n",
    "        harvest=harvest_dates[0]\n",
    "))"
   ]
  },
  {
   "cell_type": "markdown",
   "metadata": {},
   "source": [
    "### Confusion\n",
    "\n",
    "`Planted on 2016-04-11 00:00:00, harvested on 2016-02-29 00:00:00`\n",
    "This is the recrod for farmer \n"
   ]
  },
  {
   "cell_type": "code",
   "execution_count": 99,
   "metadata": {},
   "outputs": [
    {
     "name": "stdout",
     "output_type": "stream",
     "text": [
      "Found 66 dates for 65 ids\n"
     ]
    }
   ],
   "source": [
    "print(\"Found {dates} dates for {ids} ids\".format(\n",
    "    dates=len(L2016_plant_dates),\n",
    "    ids=len(L2016_ids)\n",
    "))"
   ]
  },
  {
   "cell_type": "markdown",
   "metadata": {},
   "source": [
    "<div class=\"alert alert-warning\">For simplicity, we'll just analyze planting dates during the Short Rains in 2016\n",
    "(September--end of year) and Harvest during the long rains (January-June)</div>"
   ]
  },
  {
   "cell_type": "code",
   "execution_count": 100,
   "metadata": {},
   "outputs": [
    {
     "name": "stdout",
     "output_type": "stream",
     "text": [
      "684\n",
      "154\n"
     ]
    }
   ],
   "source": [
    "# filter by season \n",
    "plant[plant['Season'].str.contains(\"L\")]\n",
    "\n",
    "# how many farmers responded?\n",
    "print(len(plant[plant['Season'].str.contains(\"L\")]))\n",
    "print(len(harvest[harvest['Season'].str.contains(\"L\")]))"
   ]
  },
  {
   "cell_type": "code",
   "execution_count": 101,
   "metadata": {},
   "outputs": [
    {
     "data": {
      "text/html": [
       "<div>\n",
       "<style scoped>\n",
       "    .dataframe tbody tr th:only-of-type {\n",
       "        vertical-align: middle;\n",
       "    }\n",
       "\n",
       "    .dataframe tbody tr th {\n",
       "        vertical-align: top;\n",
       "    }\n",
       "\n",
       "    .dataframe thead th {\n",
       "        text-align: right;\n",
       "    }\n",
       "</style>\n",
       "<table border=\"1\" class=\"dataframe\">\n",
       "  <thead>\n",
       "    <tr style=\"text-align: right;\">\n",
       "      <th></th>\n",
       "      <th>Week</th>\n",
       "      <th>Count</th>\n",
       "    </tr>\n",
       "  </thead>\n",
       "  <tbody>\n",
       "    <tr>\n",
       "      <th>0</th>\n",
       "      <td>2016-09-19</td>\n",
       "      <td>41</td>\n",
       "    </tr>\n",
       "    <tr>\n",
       "      <th>1</th>\n",
       "      <td>2016-10-17</td>\n",
       "      <td>35</td>\n",
       "    </tr>\n",
       "    <tr>\n",
       "      <th>2</th>\n",
       "      <td>2016-10-10</td>\n",
       "      <td>28</td>\n",
       "    </tr>\n",
       "    <tr>\n",
       "      <th>3</th>\n",
       "      <td>2016-09-26</td>\n",
       "      <td>27</td>\n",
       "    </tr>\n",
       "    <tr>\n",
       "      <th>4</th>\n",
       "      <td>2016-10-03</td>\n",
       "      <td>24</td>\n",
       "    </tr>\n",
       "    <tr>\n",
       "      <th>5</th>\n",
       "      <td>2016-09-12</td>\n",
       "      <td>23</td>\n",
       "    </tr>\n",
       "    <tr>\n",
       "      <th>6</th>\n",
       "      <td>2016-09-05</td>\n",
       "      <td>23</td>\n",
       "    </tr>\n",
       "    <tr>\n",
       "      <th>7</th>\n",
       "      <td>2016-10-24</td>\n",
       "      <td>22</td>\n",
       "    </tr>\n",
       "    <tr>\n",
       "      <th>8</th>\n",
       "      <td>2016-03-14</td>\n",
       "      <td>21</td>\n",
       "    </tr>\n",
       "    <tr>\n",
       "      <th>9</th>\n",
       "      <td>2016-03-21</td>\n",
       "      <td>19</td>\n",
       "    </tr>\n",
       "    <tr>\n",
       "      <th>10</th>\n",
       "      <td>2016-10-31</td>\n",
       "      <td>19</td>\n",
       "    </tr>\n",
       "    <tr>\n",
       "      <th>11</th>\n",
       "      <td>2016-03-28</td>\n",
       "      <td>18</td>\n",
       "    </tr>\n",
       "    <tr>\n",
       "      <th>12</th>\n",
       "      <td>2016-02-22</td>\n",
       "      <td>18</td>\n",
       "    </tr>\n",
       "    <tr>\n",
       "      <th>13</th>\n",
       "      <td>2016-08-22</td>\n",
       "      <td>15</td>\n",
       "    </tr>\n",
       "    <tr>\n",
       "      <th>14</th>\n",
       "      <td>2016-11-07</td>\n",
       "      <td>12</td>\n",
       "    </tr>\n",
       "    <tr>\n",
       "      <th>15</th>\n",
       "      <td>2016-04-04</td>\n",
       "      <td>10</td>\n",
       "    </tr>\n",
       "    <tr>\n",
       "      <th>16</th>\n",
       "      <td>2016-11-14</td>\n",
       "      <td>9</td>\n",
       "    </tr>\n",
       "    <tr>\n",
       "      <th>17</th>\n",
       "      <td>2016-03-07</td>\n",
       "      <td>9</td>\n",
       "    </tr>\n",
       "    <tr>\n",
       "      <th>18</th>\n",
       "      <td>2016-04-25</td>\n",
       "      <td>6</td>\n",
       "    </tr>\n",
       "    <tr>\n",
       "      <th>19</th>\n",
       "      <td>2016-02-29</td>\n",
       "      <td>6</td>\n",
       "    </tr>\n",
       "    <tr>\n",
       "      <th>20</th>\n",
       "      <td>2016-11-21</td>\n",
       "      <td>5</td>\n",
       "    </tr>\n",
       "    <tr>\n",
       "      <th>21</th>\n",
       "      <td>2016-05-09</td>\n",
       "      <td>5</td>\n",
       "    </tr>\n",
       "    <tr>\n",
       "      <th>22</th>\n",
       "      <td>2016-04-11</td>\n",
       "      <td>5</td>\n",
       "    </tr>\n",
       "    <tr>\n",
       "      <th>23</th>\n",
       "      <td>2016-08-29</td>\n",
       "      <td>4</td>\n",
       "    </tr>\n",
       "    <tr>\n",
       "      <th>24</th>\n",
       "      <td>2016-04-18</td>\n",
       "      <td>4</td>\n",
       "    </tr>\n",
       "    <tr>\n",
       "      <th>25</th>\n",
       "      <td>2017-01-23</td>\n",
       "      <td>4</td>\n",
       "    </tr>\n",
       "    <tr>\n",
       "      <th>26</th>\n",
       "      <td>2017-06-19</td>\n",
       "      <td>4</td>\n",
       "    </tr>\n",
       "    <tr>\n",
       "      <th>27</th>\n",
       "      <td>2016-06-06</td>\n",
       "      <td>3</td>\n",
       "    </tr>\n",
       "    <tr>\n",
       "      <th>28</th>\n",
       "      <td>2016-05-23</td>\n",
       "      <td>3</td>\n",
       "    </tr>\n",
       "    <tr>\n",
       "      <th>29</th>\n",
       "      <td>2016-05-16</td>\n",
       "      <td>3</td>\n",
       "    </tr>\n",
       "    <tr>\n",
       "      <th>30</th>\n",
       "      <td>2016-05-30</td>\n",
       "      <td>3</td>\n",
       "    </tr>\n",
       "    <tr>\n",
       "      <th>31</th>\n",
       "      <td>2016-06-13</td>\n",
       "      <td>3</td>\n",
       "    </tr>\n",
       "    <tr>\n",
       "      <th>32</th>\n",
       "      <td>2017-01-30</td>\n",
       "      <td>3</td>\n",
       "    </tr>\n",
       "    <tr>\n",
       "      <th>33</th>\n",
       "      <td>2016-07-04</td>\n",
       "      <td>2</td>\n",
       "    </tr>\n",
       "    <tr>\n",
       "      <th>34</th>\n",
       "      <td>2016-05-02</td>\n",
       "      <td>2</td>\n",
       "    </tr>\n",
       "    <tr>\n",
       "      <th>35</th>\n",
       "      <td>2016-06-27</td>\n",
       "      <td>2</td>\n",
       "    </tr>\n",
       "    <tr>\n",
       "      <th>36</th>\n",
       "      <td>2017-03-13</td>\n",
       "      <td>1</td>\n",
       "    </tr>\n",
       "    <tr>\n",
       "      <th>37</th>\n",
       "      <td>2016-06-20</td>\n",
       "      <td>1</td>\n",
       "    </tr>\n",
       "    <tr>\n",
       "      <th>38</th>\n",
       "      <td>2017-02-06</td>\n",
       "      <td>1</td>\n",
       "    </tr>\n",
       "    <tr>\n",
       "      <th>39</th>\n",
       "      <td>2016-07-25</td>\n",
       "      <td>1</td>\n",
       "    </tr>\n",
       "    <tr>\n",
       "      <th>40</th>\n",
       "      <td>2016-08-08</td>\n",
       "      <td>1</td>\n",
       "    </tr>\n",
       "  </tbody>\n",
       "</table>\n",
       "</div>"
      ],
      "text/plain": [
       "         Week  Count\n",
       "0  2016-09-19     41\n",
       "1  2016-10-17     35\n",
       "2  2016-10-10     28\n",
       "3  2016-09-26     27\n",
       "4  2016-10-03     24\n",
       "5  2016-09-12     23\n",
       "6  2016-09-05     23\n",
       "7  2016-10-24     22\n",
       "8  2016-03-14     21\n",
       "9  2016-03-21     19\n",
       "10 2016-10-31     19\n",
       "11 2016-03-28     18\n",
       "12 2016-02-22     18\n",
       "13 2016-08-22     15\n",
       "14 2016-11-07     12\n",
       "15 2016-04-04     10\n",
       "16 2016-11-14      9\n",
       "17 2016-03-07      9\n",
       "18 2016-04-25      6\n",
       "19 2016-02-29      6\n",
       "20 2016-11-21      5\n",
       "21 2016-05-09      5\n",
       "22 2016-04-11      5\n",
       "23 2016-08-29      4\n",
       "24 2016-04-18      4\n",
       "25 2017-01-23      4\n",
       "26 2017-06-19      4\n",
       "27 2016-06-06      3\n",
       "28 2016-05-23      3\n",
       "29 2016-05-16      3\n",
       "30 2016-05-30      3\n",
       "31 2016-06-13      3\n",
       "32 2017-01-30      3\n",
       "33 2016-07-04      2\n",
       "34 2016-05-02      2\n",
       "35 2016-06-27      2\n",
       "36 2017-03-13      1\n",
       "37 2016-06-20      1\n",
       "38 2017-02-06      1\n",
       "39 2016-07-25      1\n",
       "40 2016-08-08      1"
      ]
     },
     "execution_count": 101,
     "metadata": {},
     "output_type": "execute_result"
    }
   ],
   "source": [
    "# come up with proportion of farmers planting/harvesting per week\n",
    "plant = plant['Week'].value_counts().reset_index()\n",
    "plan.columns = ['Week','Count']; plan\n",
    "\n",
    "harv = harvest['Week'].value_counts().reset_index()\n",
    "harv.columns = ['Week','Count']; harv\n"
   ]
  },
  {
   "cell_type": "code",
   "execution_count": 102,
   "metadata": {},
   "outputs": [
    {
     "data": {
      "image/png": "[encoded data removed]",
      "text/plain": [
       "<Figure size 1440x720 with 1 Axes>"
      ]
     },
     "metadata": {},
     "output_type": "display_data"
    }
   ],
   "source": [
    "import seaborn as sns\n",
    "\n",
    "# plot that\n",
    "plan = plan.sort_values('Week')\n",
    "plan.set_index('Week')\n",
    "\n",
    "fig, ax = plt.subplots(1, figsize=(20,10))\n",
    "ax = plan['Count'].plot(kind='bar', color='darkblue')  #, xticks=plant.index\n",
    "plt.suptitle('Number of farmers reporting planting by week', fontsize=20)\n",
    "plt.xlabel('Date', fontsize=16)\n",
    "plt.ylabel('Number of farmers', fontsize=16)\n",
    "fig.autofmt_xdate()\n",
    "\n",
    "for label in ax.xaxis.get_ticklabels()[::2]:\n",
    "    label.set_visible(False)"
   ]
  },
  {
   "cell_type": "code",
   "execution_count": null,
   "metadata": {},
   "outputs": [],
   "source": []
  },
  {
   "cell_type": "code",
   "execution_count": 103,
   "metadata": {},
   "outputs": [
    {
     "name": "stderr",
     "output_type": "stream",
     "text": [
      "/Users/kellycaylor/anaconda3/lib/python3.6/site-packages/matplotlib/axes/_axes.py:6462: UserWarning: The 'normed' kwarg is deprecated, and has been replaced by the 'density' kwarg.\n",
      "  warnings.warn(\"The 'normed' kwarg is deprecated, and has been \"\n"
     ]
    },
    {
     "data": {
      "text/plain": [
       "<matplotlib.axes._subplots.AxesSubplot at 0x1a24abcf60>"
      ]
     },
     "execution_count": 103,
     "metadata": {},
     "output_type": "execute_result"
    },
    {
     "data": {
      "image/png": "[encoded data removed]",
      "text/plain": [
       "<Figure size 432x288 with 1 Axes>"
      ]
     },
     "metadata": {},
     "output_type": "display_data"
    }
   ],
   "source": [
    "sns.distplot(plan['Count'])"
   ]
  },
  {
   "cell_type": "code",
   "execution_count": 104,
   "metadata": {},
   "outputs": [
    {
     "data": {
      "image/png": "[encoded data removed]",
      "text/plain": [
       "<Figure size 1440x720 with 1 Axes>"
      ]
     },
     "metadata": {},
     "output_type": "display_data"
    }
   ],
   "source": [
    "# plot that\n",
    "#harv = harv.sort_values('Week'); harv\n",
    "#harv = harv.set_index('Week')\n",
    "\n",
    "fig, ax = plt.subplots(1, figsize=(20,10))\n",
    "ax = harv['Count'].plot(kind='bar', color='darkblue') #, xticks=harv.index)\n",
    "plt.suptitle('Number of farmers reporting harvest by week', fontsize=20)\n",
    "plt.xlabel('Date', fontsize=16)\n",
    "plt.ylabel('Number of farmers', fontsize=16)\n",
    "fig.autofmt_xdate()\n",
    "\n",
    "for label in ax.xaxis.get_ticklabels()[::2]:\n",
    "    label.set_visible(False)"
   ]
  },
  {
   "cell_type": "code",
   "execution_count": 105,
   "metadata": {},
   "outputs": [
    {
     "name": "stderr",
     "output_type": "stream",
     "text": [
      "/Users/kellycaylor/anaconda3/lib/python3.6/site-packages/matplotlib/axes/_axes.py:6462: UserWarning: The 'normed' kwarg is deprecated, and has been replaced by the 'density' kwarg.\n",
      "  warnings.warn(\"The 'normed' kwarg is deprecated, and has been \"\n"
     ]
    },
    {
     "data": {
      "text/plain": [
       "<matplotlib.axes._subplots.AxesSubplot at 0x1a25048080>"
      ]
     },
     "execution_count": 105,
     "metadata": {},
     "output_type": "execute_result"
    },
    {
     "data": {
      "image/png": "[encoded data removed]",
      "text/plain": [
       "<Figure size 432x288 with 1 Axes>"
      ]
     },
     "metadata": {},
     "output_type": "display_data"
    }
   ],
   "source": [
    "sns.distplot(harv['Count'])"
   ]
  }
 ],
 "metadata": {
  "kernelspec": {
   "display_name": "Python 3",
   "language": "python",
   "name": "python3"
  },
  "language_info": {
   "codemirror_mode": {
    "name": "ipython",
    "version": 3
   },
   "file_extension": ".py",
   "mimetype": "text/x-python",
   "name": "python",
   "nbconvert_exporter": "python",
   "pygments_lexer": "ipython3",
   "version": "3.6.5"
  }
 },
 "nbformat": 4,
 "nbformat_minor": 2
}
