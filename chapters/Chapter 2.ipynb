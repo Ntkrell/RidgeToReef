{
 "cells": [
  {
   "cell_type": "markdown",
   "metadata": {},
   "source": [
    "# Chapter 2: Simulating Stochastic Rainfall Processes <a name=\"top\"></a>\n",
    "\n",
    " [⬅️ Previous Chapter](Chapter%201.ipynb)     [➡️ Next Chapter](Chapter%203.ipynb)\n",
    "\n",
    "![](../assets/kenya_rainfall.png)\n",
    "\n",
    "In this chapter, we will use some of the principles and code introduced in Chapter 1 to develop a very simple model of daily rainfall. We will be able to use this model to simulate many seasons of daily rainfall that we can analyze. In addition, we will use actual rainfall data collected in Laikipia, Kenya to estimate the parameters of our model. This will allow us to simulate how rainfall variability and farmer decision making interact to affect food security outcomes in the next chapter.\n",
    "\n",
    "## Chapter Objectives\n",
    "\n",
    "* Develop a simple model of growing season daily rainfall\n",
    "* Use the model to examine variability in growing season rainfall\n",
    "* Extract model parameters from long-term rainfall data collected in Laikipia, Kenya\n",
    "* Use the model to generate realizations of rainfall under altered climates\n",
    "* Examine the impact of changing model parameters on rainfall variability \n"
   ]
  },
  {
   "cell_type": "code",
   "execution_count": 1,
   "metadata": {},
   "outputs": [],
   "source": [
    "import pandas as pd\n",
    "import numpy as np\n",
    "import matplotlib.pyplot as plt"
   ]
  },
  {
   "cell_type": "markdown",
   "metadata": {},
   "source": [
    "# Part 1. Modeling rainfall\n",
    "\n",
    "Let's make a very simple model of rainfall that assumes a poisson process (i.e. memoryless). In the last chapter, we saw that this approach is probably too simple, and later we will look at how we could improve the model. But it helps to start with the most simple approach and then add complexity as needed.\n",
    "\n",
    "Our model will be built with the following assumptions:\n",
    "\n",
    "1. The probability of an \"event\" (i.e. rainfall) occuring on any given day is given by the parameter $\\lambda_r$, which has units day$^{-1}$\n",
    "\n",
    "2. The total depth of rainfall on days with rain is a random variable, drawn from an exponential distribution with mean, $\\alpha$, which has units of mm.\n",
    "\n",
    "This type of model is a [\"marked poisson process\"](http://www.math.kit.edu/stoch/~last/seite/lectures_on_the_poisson_process/media/lastpenrose2017.pdf) and is a special case of a poisson process on a number line (in our case, the number line is time), where each event is characterized by a random \"mark\" that is independent of the event.\n",
    "\n",
    "### Step 1. Simulating poisson events\n",
    "\n",
    "We have a variety of means to simulate a poisson process, and all of them will require the use of a random number generator. The `numpy` package has lots of different builtin functions to generate pseudo-random numbers, and we can use one of these. \n",
    "\n",
    "To simulate the likelihood of a poisson event, we can draw a sample from a uniform distribution in $[0,1]$ and compare that to our probability of an event. If the value we draw is less than or equal to our probability, then an event occurs, otherwise no event occurs. The probability density function, $f(x)$ of a uniform distribution sampled over the half open interval from $a$ to $b$, $[a,b)$ is given by \n",
    "\n",
    "$$\n",
    "f(x) = \\frac{1}{b - a}\n",
    "$$\n",
    "\n",
    "\n",
    "We can sample from this distribution using the [**numpy.random.uniform()**](https://docs.scipy.org/doc/numpy/reference/generated/numpy.random.uniform.html) function:\n",
    "\n",
    "```python\n",
    "\n",
    "s = np.random.uniform(low=0,high=1)\n",
    "\n",
    "```\n",
    "\n",
    "The **np.random.uniform()** function also takes the optional argument `size`, which specifies the number of random samples to return. This allows for the generation of large lists of random samples without using a `for` loop or list comprehension approaches.\n",
    "\n",
    "```python\n",
    "\n",
    "s = np.random.uniform(low=0, high=1, size=2) # Returns an array of 2 random draws.\n",
    "\n",
    "s_mat = np.random.uniform(low=0, high=1, size=[2, 10]) # Returns an array of 2 rows each with 10 random draws.\n",
    "\n",
    "\n",
    "```\n",
    "\n",
    "<div class=\"alert alert-success\">✏️ <strong>DIY Coding</strong>: Using a $\\lambda_r$ value of <code>0.15</code>, and assuming that the length of a growing season, $T_{seas}$, is 120 days, simulate a season of rainfall \"events\", where the value of a day is <code>1</code> if rainfall occurs, and <code>0</code> if not.</div>\n",
    "\n",
    "<div class=\"alert alert-info\">💡 You can use the <strong>astype()</strong> command to force Boolean (<code>True</code>/<code>False</code>) values into integers (<code>1</code>,<code>0</code>)</div>"
   ]
  },
  {
   "cell_type": "code",
   "execution_count": 2,
   "metadata": {},
   "outputs": [
    {
     "name": "stdout",
     "output_type": "stream",
     "text": [
      "[0 0 1 0 0 0 0 0 0 0 1 0 0 0 0 0 0 1 0 0 0 0 1 0 0 0 1 0 0 0 0 0 0 0 0 1 0\n",
      " 0 0 0 0 0 0 0 0 0 0 0 0 0 0 0 0 0 0 0 0 0 0 0 0 1 0 0 0 0 0 0 0 0 0 0 0 0\n",
      " 0 0 0 0 0 0 0 0 0 1 0 0 0 1 0 0 0 0 0 0 1 1 0 0 0 0 0 0 1 0 0 0 1 1 0 1 0\n",
      " 0 0 0 0 0 0 0 0 1]\n"
     ]
    }
   ],
   "source": [
    "lambda_r = 0.15\n",
    "\n",
    "did_it_rain = np.random.uniform(low=0,high=1, size=120) <= lambda_r\n",
    "print(did_it_rain.astype(int))"
   ]
  },
  {
   "cell_type": "markdown",
   "metadata": {},
   "source": [
    "### Step 2. Adding marks to events\n",
    "\n",
    "Our approach for creating marks (i.e. daily rainfall depths) is to sample them randomly from an exponential distribution with mean $\\alpha$. The exponential probability density function $f(x)$ for $x\\gt0$ as a function of $\\alpha$ is expressed as \n",
    "\n",
    "$$\n",
    "f(x) = \\frac{1}{\\alpha} \\exp\\left(-\\frac{x}{\\alpha}\\right),\n",
    "$$\n",
    "\n",
    "Just as with sampling from a uniform distribution (and as with most everything in `python/pandas`), there's a **function** for that. In this case, we are going to use the... you guessed it... [**np.random.exponential()**](https://docs.scipy.org/doc/numpy/reference/generated/numpy.random.exponential.html) function. It is used similarly to the **np.random.uniform()** function, but with a single parameter to describe the distribution:\n",
    "\n",
    "```python\n",
    "\n",
    "s = np.random.exponential(scale=11.5)  \n",
    "\n",
    "```\n",
    "\n",
    "The `scale` parameter is the mean of the distribution, which in our simulations will be $\\alpha$ (mm), the average rainfall depth on days with rain. Just as with **np.random.uniform()**, we can generate lists or arrays of samples from the exponential distribution.\n",
    "\n",
    "```python\n",
    "\n",
    "s = np.random.exponential(scale=11.5, size=2) # Returns an array of 2 random draws.\n",
    "\n",
    "s_mat = np.random.uniform(scale=11.5, size=[2, 10]) # Returns an array of 2 rows each with 10 random draws.\n",
    "\n",
    "```\n",
    "<div class=\"alert alert-success\">✏️ <strong>DIY Coding</strong>: Assuming an average storm depth of <code>11.5 (mm)</code> and the same $\\alpha$ and $T_{seas}$ as before, generate a season of rainfall.</div>\n",
    "\n",
    "<div class=\"alert alert-info\">💡 The product of <code>0</code> and any rainfall amount is still <code>0</code>. That means you don't need to worry about which days have rain and which don't when multiplying a list of <code>rainfall_amounts</code> and a binary list of <code>rain_days</code>.</div>"
   ]
  },
  {
   "cell_type": "code",
   "execution_count": 3,
   "metadata": {},
   "outputs": [
    {
     "data": {
      "text/plain": [
       "array([238.44129824, 232.79550697, 374.28103428, 264.64191335,\n",
       "       221.26862354, 276.16110417, 288.81908606, 111.89700468,\n",
       "       204.99838258, 248.93095036])"
      ]
     },
     "execution_count": 3,
     "metadata": {},
     "output_type": "execute_result"
    }
   ],
   "source": [
    "rainfall_amounts = np.random.exponential(scale=11.6, size=[10, 120])  \n",
    "did_it_rain = np.random.uniform(low=0,high=1, size=[10, 120]) <= lambda_r\n",
    "\n",
    "rainfall = rainfall_amounts * did_it_rain\n",
    "\n",
    "# This sums according to columns rather than the entire array. (to get each season)\n",
    "rainfall.sum(axis=1) "
   ]
  },
  {
   "cell_type": "markdown",
   "metadata": {},
   "source": [
    "<div class=\"alert alert-success\">✏️ <strong>DIY Coding</strong>: Using the same $\\lambda_r$, $\\alpha$, and $T_{seas}$, do the following:</div>\n",
    "\n",
    "1. Generate 100 seasons of rainfall\n",
    "2. Plot a histogram of the seasonal totals\n",
    "3. Calculate the $\\widehat{CV}$ of seasonal rainfall.\n",
    "\n"
   ]
  },
  {
   "cell_type": "code",
   "execution_count": 4,
   "metadata": {},
   "outputs": [
    {
     "name": "stdout",
     "output_type": "stream",
     "text": [
      "The mean is 210.6806435263966, expected mean is 208.79999999999998, cv is 0.3146073885157932\n"
     ]
    },
    {
     "data": {
      "image/png": "[encoded data removed]",
      "text/plain": [
       "<Figure size 432x288 with 1 Axes>"
      ]
     },
     "metadata": {
      "needs_background": "light"
     },
     "output_type": "display_data"
    }
   ],
   "source": [
    "rainfall_amounts = np.random.exponential(scale=11.6, size=[30, 120])  \n",
    "did_it_rain = np.random.uniform(low=0,high=1, size=[30, 120]) <= lambda_r\n",
    "\n",
    "rainfall = rainfall_amounts * did_it_rain\n",
    "\n",
    "seasonal_totals = rainfall.sum(axis=1) # Average columns, not entire dataset.\n",
    "pd.DataFrame(seasonal_totals).hist()\n",
    "\n",
    "cv = seasonal_totals.std() / seasonal_totals.mean()\n",
    "print(\"The mean is {m}, expected mean is {exp}, cv is {cv}\".format(\n",
    "    m=seasonal_totals.mean(),\n",
    "    exp=120*lambda_r*11.6,\n",
    "    cv=cv))"
   ]
  },
  {
   "cell_type": "markdown",
   "metadata": {},
   "source": [
    "# Part 2. Estimate model parameters from empirical data\n",
    "\n",
    "We actually introduced most of the code necessary to determine model parameters from our rainfall data in the previous chapter. In order to have a little more fun, we're bringing in a much larger dataset of stations from around Laikipia county, Kenya. These stations span a fairly large range of annual rainfall and therefore provide a nice testbed for thinking about climate variability and agriculture. As we develop our analyses, we'll write code in a way that makes it easy to switch between stations and see how our results vary across the region.\n",
    "\n",
    "<div class=\"alert alert-info\"> 📝 Here's a recent manuscript that used most of the stations in this dataset to analyze long-term climate patterns and compare these data to other rainfall products in Laikipia:\n",
    "\n",
    "[Schmocker et al. 2015](https://www.dropbox.com/s/qxb7mixdqkpw9tc/Schmocker_2015_Rainfall_Mt._Kenya.pdf?dl=0)\n",
    "\n",
    "</div>\n",
    "\n",
    "## Reading in the rainfall dataset.\n",
    "\n",
    "After reading in the data, where going to use some built-in `pandas` and `python` functions for manipulating `DateTime` objects. These functions will:\n",
    "\n",
    "1. **Convert text strings** contained in the `RDate` column into `DateTime` objects. We will do this using a `format` string that defines the structure of the dates as they are represented in `RDate`. The function that we will use to do the conversion is the `pandas` builtin function called **to_datetime()**.\n",
    "\n",
    "2. **Reassign date values** for dates from the first half of the 20th century, that **to_datetime()** mistakenly thinks are for the first half of the _21st_ century. This happens because our data represented years with two digits instead of four. **Note:** This is the [\"Y2K problem\"](https://en.wikipedia.org/wiki/Year_2000_problem) that many of you probably haven't heard of but briefly had people worrying that planes would fall from the skies on Jan 1, 2000.\n",
    "\n",
    "<div class=\"alert alert-warning\">🗓️ **Bottom Line:** Dealing with dates and times is always difficult! Always check to make sure things look correct after any conversion. And don't be afraid to ask/look for help!</div>\n",
    "\n",
    "3. Extract new columns from our corrected `DateTime` objects that represent the `Year` and `Month` and save them into the `DataFrame`.\n",
    "\n",
    "4. Assign our corrected `DateTime` values as the `index` of the dataframe, which means that instead of storing data by \"row number\", data will be stored according to unique date values. \n",
    "\n",
    "<div class=\"alert alert-warning\">🗂️ When specifying an <code>index</code> column in <code>pandas</code>, it's necessary that the index is unqiue for each row of data. If we had multiple rows with the same date, this would not work.</div>\n",
    "\n",
    "5. Delete the original `RDate` column, which we no longer need. This isn't strictly necessary, but it's just good hygenie to clean up `DataFrames` as much as possible. And we can always re-import the original `.csv` file if we needed to get at `RDate` again.\n",
    "\n",
    "<div class=\"alert alert-info\">💡 When doing complicated, multi-step transformations, it's good practice to itemize each step in a <code>markdown</code> cell before the <code>code</code> cell, and to match your code comments to the itemized list.</div>\n"
   ]
  },
  {
   "cell_type": "code",
   "execution_count": 5,
   "metadata": {},
   "outputs": [],
   "source": [
    "from datetime import datetime\n",
    "from dateutil.relativedelta import *\n",
    "\n",
    "df = pd.read_csv(\"../data/CETRAD_rainfall.csv\")  # Read in the raw csv data.\n",
    "\n",
    "# Step 1. Convert text strings into datetime objects.\n",
    "format = '%m/%d/%y' # Column RDate has data in M/D/YY\n",
    "df['Datetime']=pd.to_datetime(df['RDate'], format=format) # Create a new column of datetime objects using RDate.\n",
    "\n",
    "# 2. Step 2. Convert future dates inferred during the conversion back into 20th century dates.\n",
    "# Python is a future-looking programming language, and assumes that 1/1/34 is Jan 1, 2034.\n",
    "# We can fix this by finding all the dates in the future (dt > datetime.now()) and removing 100 years from\n",
    "# their value. This requires using the relativedelta function, which handles weird stuff like leap years.\n",
    "df['Datetime'] = df['Datetime'].map(lambda dt: dt+relativedelta(years=-100) if dt > datetime.now() else dt)\n",
    "\n",
    "# Step 3. Extract the Year and Month from the Datetime to make aggregation easier.\n",
    "df['Year'] = [dt.year for dt in df['Datetime']]\n",
    "df['Month'] = [dt.month for dt in df['Datetime']]\n",
    "\n",
    "# Step 4. Use the Datetime values as the index for this dataframe.\n",
    "df = df.set_index(pd.DatetimeIndex(df['Datetime']))  # Set the Datetime column as the dataframe index\n",
    "\n",
    "# Step 5.  Delete the old RDate column, which we no longer need. \n",
    "# We will keep the Datetime column, in case we need it later.\n",
    "df = df.drop(['RDate'], axis=1)"
   ]
  },
  {
   "cell_type": "markdown",
   "metadata": {},
   "source": [
    "Let's make sure all of these transformations worked."
   ]
  },
  {
   "cell_type": "code",
   "execution_count": 6,
   "metadata": {},
   "outputs": [
    {
     "data": {
      "text/html": [
       "<div>\n",
       "<style scoped>\n",
       "    .dataframe tbody tr th:only-of-type {\n",
       "        vertical-align: middle;\n",
       "    }\n",
       "\n",
       "    .dataframe tbody tr th {\n",
       "        vertical-align: top;\n",
       "    }\n",
       "\n",
       "    .dataframe thead th {\n",
       "        text-align: right;\n",
       "    }\n",
       "</style>\n",
       "<table border=\"1\" class=\"dataframe\">\n",
       "  <thead>\n",
       "    <tr style=\"text-align: right;\">\n",
       "      <th></th>\n",
       "      <th>ARCHERS POST</th>\n",
       "      <th>ARDENCAPLE FARM</th>\n",
       "      <th>CASTLE FOREST STN</th>\n",
       "      <th>CHOGORIA FOREST STN</th>\n",
       "      <th>CHUKA FOREST STN</th>\n",
       "      <th>COLCHECCIO</th>\n",
       "      <th>DOL DOL DAO</th>\n",
       "      <th>EL KARAMA</th>\n",
       "      <th>EMBORI FARM</th>\n",
       "      <th>EMBU MET STN</th>\n",
       "      <th>...</th>\n",
       "      <th>SOUTH MARMANET FOREST STN</th>\n",
       "      <th>SUGUROI ESTATE</th>\n",
       "      <th>TELEKI (MT KENYA)</th>\n",
       "      <th>TELESWANI (NRM)</th>\n",
       "      <th>THARUA FARM</th>\n",
       "      <th>TIMAU MARANIA</th>\n",
       "      <th>TRENCH FARM</th>\n",
       "      <th>Datetime</th>\n",
       "      <th>Year</th>\n",
       "      <th>Month</th>\n",
       "    </tr>\n",
       "    <tr>\n",
       "      <th>Datetime</th>\n",
       "      <th></th>\n",
       "      <th></th>\n",
       "      <th></th>\n",
       "      <th></th>\n",
       "      <th></th>\n",
       "      <th></th>\n",
       "      <th></th>\n",
       "      <th></th>\n",
       "      <th></th>\n",
       "      <th></th>\n",
       "      <th></th>\n",
       "      <th></th>\n",
       "      <th></th>\n",
       "      <th></th>\n",
       "      <th></th>\n",
       "      <th></th>\n",
       "      <th></th>\n",
       "      <th></th>\n",
       "      <th></th>\n",
       "      <th></th>\n",
       "      <th></th>\n",
       "    </tr>\n",
       "  </thead>\n",
       "  <tbody>\n",
       "    <tr>\n",
       "      <th>2016-11-27</th>\n",
       "      <td>0.0</td>\n",
       "      <td>NaN</td>\n",
       "      <td>NaN</td>\n",
       "      <td>NaN</td>\n",
       "      <td>NaN</td>\n",
       "      <td>NaN</td>\n",
       "      <td>NaN</td>\n",
       "      <td>NaN</td>\n",
       "      <td>NaN</td>\n",
       "      <td>NaN</td>\n",
       "      <td>...</td>\n",
       "      <td>NaN</td>\n",
       "      <td>NaN</td>\n",
       "      <td>NaN</td>\n",
       "      <td>NaN</td>\n",
       "      <td>NaN</td>\n",
       "      <td>NaN</td>\n",
       "      <td>NaN</td>\n",
       "      <td>2016-11-27</td>\n",
       "      <td>2016</td>\n",
       "      <td>11</td>\n",
       "    </tr>\n",
       "    <tr>\n",
       "      <th>2016-11-28</th>\n",
       "      <td>1.3</td>\n",
       "      <td>NaN</td>\n",
       "      <td>NaN</td>\n",
       "      <td>NaN</td>\n",
       "      <td>NaN</td>\n",
       "      <td>NaN</td>\n",
       "      <td>NaN</td>\n",
       "      <td>NaN</td>\n",
       "      <td>NaN</td>\n",
       "      <td>NaN</td>\n",
       "      <td>...</td>\n",
       "      <td>NaN</td>\n",
       "      <td>NaN</td>\n",
       "      <td>NaN</td>\n",
       "      <td>NaN</td>\n",
       "      <td>NaN</td>\n",
       "      <td>NaN</td>\n",
       "      <td>NaN</td>\n",
       "      <td>2016-11-28</td>\n",
       "      <td>2016</td>\n",
       "      <td>11</td>\n",
       "    </tr>\n",
       "    <tr>\n",
       "      <th>2016-11-29</th>\n",
       "      <td>0.0</td>\n",
       "      <td>NaN</td>\n",
       "      <td>NaN</td>\n",
       "      <td>NaN</td>\n",
       "      <td>NaN</td>\n",
       "      <td>NaN</td>\n",
       "      <td>NaN</td>\n",
       "      <td>NaN</td>\n",
       "      <td>NaN</td>\n",
       "      <td>NaN</td>\n",
       "      <td>...</td>\n",
       "      <td>NaN</td>\n",
       "      <td>NaN</td>\n",
       "      <td>NaN</td>\n",
       "      <td>NaN</td>\n",
       "      <td>NaN</td>\n",
       "      <td>NaN</td>\n",
       "      <td>NaN</td>\n",
       "      <td>2016-11-29</td>\n",
       "      <td>2016</td>\n",
       "      <td>11</td>\n",
       "    </tr>\n",
       "    <tr>\n",
       "      <th>2016-11-30</th>\n",
       "      <td>6.8</td>\n",
       "      <td>NaN</td>\n",
       "      <td>NaN</td>\n",
       "      <td>NaN</td>\n",
       "      <td>NaN</td>\n",
       "      <td>NaN</td>\n",
       "      <td>NaN</td>\n",
       "      <td>NaN</td>\n",
       "      <td>NaN</td>\n",
       "      <td>NaN</td>\n",
       "      <td>...</td>\n",
       "      <td>NaN</td>\n",
       "      <td>NaN</td>\n",
       "      <td>NaN</td>\n",
       "      <td>NaN</td>\n",
       "      <td>NaN</td>\n",
       "      <td>NaN</td>\n",
       "      <td>NaN</td>\n",
       "      <td>2016-11-30</td>\n",
       "      <td>2016</td>\n",
       "      <td>11</td>\n",
       "    </tr>\n",
       "    <tr>\n",
       "      <th>2016-12-01</th>\n",
       "      <td>0.0</td>\n",
       "      <td>NaN</td>\n",
       "      <td>NaN</td>\n",
       "      <td>NaN</td>\n",
       "      <td>NaN</td>\n",
       "      <td>NaN</td>\n",
       "      <td>NaN</td>\n",
       "      <td>NaN</td>\n",
       "      <td>NaN</td>\n",
       "      <td>NaN</td>\n",
       "      <td>...</td>\n",
       "      <td>NaN</td>\n",
       "      <td>NaN</td>\n",
       "      <td>NaN</td>\n",
       "      <td>NaN</td>\n",
       "      <td>NaN</td>\n",
       "      <td>NaN</td>\n",
       "      <td>NaN</td>\n",
       "      <td>2016-12-01</td>\n",
       "      <td>2016</td>\n",
       "      <td>12</td>\n",
       "    </tr>\n",
       "  </tbody>\n",
       "</table>\n",
       "<p>5 rows × 83 columns</p>\n",
       "</div>"
      ],
      "text/plain": [
       "            ARCHERS POST  ARDENCAPLE FARM  CASTLE FOREST STN  \\\n",
       "Datetime                                                       \n",
       "2016-11-27           0.0              NaN                NaN   \n",
       "2016-11-28           1.3              NaN                NaN   \n",
       "2016-11-29           0.0              NaN                NaN   \n",
       "2016-11-30           6.8              NaN                NaN   \n",
       "2016-12-01           0.0              NaN                NaN   \n",
       "\n",
       "            CHOGORIA FOREST STN  CHUKA FOREST STN  COLCHECCIO  DOL DOL DAO  \\\n",
       "Datetime                                                                     \n",
       "2016-11-27                  NaN               NaN         NaN          NaN   \n",
       "2016-11-28                  NaN               NaN         NaN          NaN   \n",
       "2016-11-29                  NaN               NaN         NaN          NaN   \n",
       "2016-11-30                  NaN               NaN         NaN          NaN   \n",
       "2016-12-01                  NaN               NaN         NaN          NaN   \n",
       "\n",
       "            EL KARAMA  EMBORI FARM  EMBU MET STN  ...    \\\n",
       "Datetime                                          ...     \n",
       "2016-11-27        NaN          NaN           NaN  ...     \n",
       "2016-11-28        NaN          NaN           NaN  ...     \n",
       "2016-11-29        NaN          NaN           NaN  ...     \n",
       "2016-11-30        NaN          NaN           NaN  ...     \n",
       "2016-12-01        NaN          NaN           NaN  ...     \n",
       "\n",
       "            SOUTH MARMANET FOREST STN  SUGUROI ESTATE  TELEKI (MT KENYA)  \\\n",
       "Datetime                                                                   \n",
       "2016-11-27                        NaN             NaN                NaN   \n",
       "2016-11-28                        NaN             NaN                NaN   \n",
       "2016-11-29                        NaN             NaN                NaN   \n",
       "2016-11-30                        NaN             NaN                NaN   \n",
       "2016-12-01                        NaN             NaN                NaN   \n",
       "\n",
       "            TELESWANI (NRM)  THARUA FARM  TIMAU MARANIA  TRENCH FARM  \\\n",
       "Datetime                                                               \n",
       "2016-11-27              NaN          NaN            NaN          NaN   \n",
       "2016-11-28              NaN          NaN            NaN          NaN   \n",
       "2016-11-29              NaN          NaN            NaN          NaN   \n",
       "2016-11-30              NaN          NaN            NaN          NaN   \n",
       "2016-12-01              NaN          NaN            NaN          NaN   \n",
       "\n",
       "             Datetime  Year  Month  \n",
       "Datetime                            \n",
       "2016-11-27 2016-11-27  2016     11  \n",
       "2016-11-28 2016-11-28  2016     11  \n",
       "2016-11-29 2016-11-29  2016     11  \n",
       "2016-11-30 2016-11-30  2016     11  \n",
       "2016-12-01 2016-12-01  2016     12  \n",
       "\n",
       "[5 rows x 83 columns]"
      ]
     },
     "execution_count": 6,
     "metadata": {},
     "output_type": "execute_result"
    }
   ],
   "source": [
    "df.head()"
   ]
  },
  {
   "cell_type": "markdown",
   "metadata": {},
   "source": [
    "Looks okay. There are a ton of `NaN` values because only one or two stations have data in the 1930s. Let's look at the most recent data."
   ]
  },
  {
   "cell_type": "code",
   "execution_count": 7,
   "metadata": {},
   "outputs": [
    {
     "data": {
      "text/html": [
       "<div>\n",
       "<style scoped>\n",
       "    .dataframe tbody tr th:only-of-type {\n",
       "        vertical-align: middle;\n",
       "    }\n",
       "\n",
       "    .dataframe tbody tr th {\n",
       "        vertical-align: top;\n",
       "    }\n",
       "\n",
       "    .dataframe thead th {\n",
       "        text-align: right;\n",
       "    }\n",
       "</style>\n",
       "<table border=\"1\" class=\"dataframe\">\n",
       "  <thead>\n",
       "    <tr style=\"text-align: right;\">\n",
       "      <th></th>\n",
       "      <th>ARCHERS POST</th>\n",
       "      <th>ARDENCAPLE FARM</th>\n",
       "      <th>CASTLE FOREST STN</th>\n",
       "      <th>CHOGORIA FOREST STN</th>\n",
       "      <th>CHUKA FOREST STN</th>\n",
       "      <th>COLCHECCIO</th>\n",
       "      <th>DOL DOL DAO</th>\n",
       "      <th>EL KARAMA</th>\n",
       "      <th>EMBORI FARM</th>\n",
       "      <th>EMBU MET STN</th>\n",
       "      <th>...</th>\n",
       "      <th>SOUTH MARMANET FOREST STN</th>\n",
       "      <th>SUGUROI ESTATE</th>\n",
       "      <th>TELEKI (MT KENYA)</th>\n",
       "      <th>TELESWANI (NRM)</th>\n",
       "      <th>THARUA FARM</th>\n",
       "      <th>TIMAU MARANIA</th>\n",
       "      <th>TRENCH FARM</th>\n",
       "      <th>Datetime</th>\n",
       "      <th>Year</th>\n",
       "      <th>Month</th>\n",
       "    </tr>\n",
       "    <tr>\n",
       "      <th>Datetime</th>\n",
       "      <th></th>\n",
       "      <th></th>\n",
       "      <th></th>\n",
       "      <th></th>\n",
       "      <th></th>\n",
       "      <th></th>\n",
       "      <th></th>\n",
       "      <th></th>\n",
       "      <th></th>\n",
       "      <th></th>\n",
       "      <th></th>\n",
       "      <th></th>\n",
       "      <th></th>\n",
       "      <th></th>\n",
       "      <th></th>\n",
       "      <th></th>\n",
       "      <th></th>\n",
       "      <th></th>\n",
       "      <th></th>\n",
       "      <th></th>\n",
       "      <th></th>\n",
       "    </tr>\n",
       "  </thead>\n",
       "  <tbody>\n",
       "    <tr>\n",
       "      <th>2016-11-27</th>\n",
       "      <td>0.0</td>\n",
       "      <td>NaN</td>\n",
       "      <td>NaN</td>\n",
       "      <td>NaN</td>\n",
       "      <td>NaN</td>\n",
       "      <td>NaN</td>\n",
       "      <td>NaN</td>\n",
       "      <td>NaN</td>\n",
       "      <td>NaN</td>\n",
       "      <td>NaN</td>\n",
       "      <td>...</td>\n",
       "      <td>NaN</td>\n",
       "      <td>NaN</td>\n",
       "      <td>NaN</td>\n",
       "      <td>NaN</td>\n",
       "      <td>NaN</td>\n",
       "      <td>NaN</td>\n",
       "      <td>NaN</td>\n",
       "      <td>2016-11-27</td>\n",
       "      <td>2016</td>\n",
       "      <td>11</td>\n",
       "    </tr>\n",
       "    <tr>\n",
       "      <th>2016-11-28</th>\n",
       "      <td>1.3</td>\n",
       "      <td>NaN</td>\n",
       "      <td>NaN</td>\n",
       "      <td>NaN</td>\n",
       "      <td>NaN</td>\n",
       "      <td>NaN</td>\n",
       "      <td>NaN</td>\n",
       "      <td>NaN</td>\n",
       "      <td>NaN</td>\n",
       "      <td>NaN</td>\n",
       "      <td>...</td>\n",
       "      <td>NaN</td>\n",
       "      <td>NaN</td>\n",
       "      <td>NaN</td>\n",
       "      <td>NaN</td>\n",
       "      <td>NaN</td>\n",
       "      <td>NaN</td>\n",
       "      <td>NaN</td>\n",
       "      <td>2016-11-28</td>\n",
       "      <td>2016</td>\n",
       "      <td>11</td>\n",
       "    </tr>\n",
       "    <tr>\n",
       "      <th>2016-11-29</th>\n",
       "      <td>0.0</td>\n",
       "      <td>NaN</td>\n",
       "      <td>NaN</td>\n",
       "      <td>NaN</td>\n",
       "      <td>NaN</td>\n",
       "      <td>NaN</td>\n",
       "      <td>NaN</td>\n",
       "      <td>NaN</td>\n",
       "      <td>NaN</td>\n",
       "      <td>NaN</td>\n",
       "      <td>...</td>\n",
       "      <td>NaN</td>\n",
       "      <td>NaN</td>\n",
       "      <td>NaN</td>\n",
       "      <td>NaN</td>\n",
       "      <td>NaN</td>\n",
       "      <td>NaN</td>\n",
       "      <td>NaN</td>\n",
       "      <td>2016-11-29</td>\n",
       "      <td>2016</td>\n",
       "      <td>11</td>\n",
       "    </tr>\n",
       "    <tr>\n",
       "      <th>2016-11-30</th>\n",
       "      <td>6.8</td>\n",
       "      <td>NaN</td>\n",
       "      <td>NaN</td>\n",
       "      <td>NaN</td>\n",
       "      <td>NaN</td>\n",
       "      <td>NaN</td>\n",
       "      <td>NaN</td>\n",
       "      <td>NaN</td>\n",
       "      <td>NaN</td>\n",
       "      <td>NaN</td>\n",
       "      <td>...</td>\n",
       "      <td>NaN</td>\n",
       "      <td>NaN</td>\n",
       "      <td>NaN</td>\n",
       "      <td>NaN</td>\n",
       "      <td>NaN</td>\n",
       "      <td>NaN</td>\n",
       "      <td>NaN</td>\n",
       "      <td>2016-11-30</td>\n",
       "      <td>2016</td>\n",
       "      <td>11</td>\n",
       "    </tr>\n",
       "    <tr>\n",
       "      <th>2016-12-01</th>\n",
       "      <td>0.0</td>\n",
       "      <td>NaN</td>\n",
       "      <td>NaN</td>\n",
       "      <td>NaN</td>\n",
       "      <td>NaN</td>\n",
       "      <td>NaN</td>\n",
       "      <td>NaN</td>\n",
       "      <td>NaN</td>\n",
       "      <td>NaN</td>\n",
       "      <td>NaN</td>\n",
       "      <td>...</td>\n",
       "      <td>NaN</td>\n",
       "      <td>NaN</td>\n",
       "      <td>NaN</td>\n",
       "      <td>NaN</td>\n",
       "      <td>NaN</td>\n",
       "      <td>NaN</td>\n",
       "      <td>NaN</td>\n",
       "      <td>2016-12-01</td>\n",
       "      <td>2016</td>\n",
       "      <td>12</td>\n",
       "    </tr>\n",
       "  </tbody>\n",
       "</table>\n",
       "<p>5 rows × 83 columns</p>\n",
       "</div>"
      ],
      "text/plain": [
       "            ARCHERS POST  ARDENCAPLE FARM  CASTLE FOREST STN  \\\n",
       "Datetime                                                       \n",
       "2016-11-27           0.0              NaN                NaN   \n",
       "2016-11-28           1.3              NaN                NaN   \n",
       "2016-11-29           0.0              NaN                NaN   \n",
       "2016-11-30           6.8              NaN                NaN   \n",
       "2016-12-01           0.0              NaN                NaN   \n",
       "\n",
       "            CHOGORIA FOREST STN  CHUKA FOREST STN  COLCHECCIO  DOL DOL DAO  \\\n",
       "Datetime                                                                     \n",
       "2016-11-27                  NaN               NaN         NaN          NaN   \n",
       "2016-11-28                  NaN               NaN         NaN          NaN   \n",
       "2016-11-29                  NaN               NaN         NaN          NaN   \n",
       "2016-11-30                  NaN               NaN         NaN          NaN   \n",
       "2016-12-01                  NaN               NaN         NaN          NaN   \n",
       "\n",
       "            EL KARAMA  EMBORI FARM  EMBU MET STN  ...    \\\n",
       "Datetime                                          ...     \n",
       "2016-11-27        NaN          NaN           NaN  ...     \n",
       "2016-11-28        NaN          NaN           NaN  ...     \n",
       "2016-11-29        NaN          NaN           NaN  ...     \n",
       "2016-11-30        NaN          NaN           NaN  ...     \n",
       "2016-12-01        NaN          NaN           NaN  ...     \n",
       "\n",
       "            SOUTH MARMANET FOREST STN  SUGUROI ESTATE  TELEKI (MT KENYA)  \\\n",
       "Datetime                                                                   \n",
       "2016-11-27                        NaN             NaN                NaN   \n",
       "2016-11-28                        NaN             NaN                NaN   \n",
       "2016-11-29                        NaN             NaN                NaN   \n",
       "2016-11-30                        NaN             NaN                NaN   \n",
       "2016-12-01                        NaN             NaN                NaN   \n",
       "\n",
       "            TELESWANI (NRM)  THARUA FARM  TIMAU MARANIA  TRENCH FARM  \\\n",
       "Datetime                                                               \n",
       "2016-11-27              NaN          NaN            NaN          NaN   \n",
       "2016-11-28              NaN          NaN            NaN          NaN   \n",
       "2016-11-29              NaN          NaN            NaN          NaN   \n",
       "2016-11-30              NaN          NaN            NaN          NaN   \n",
       "2016-12-01              NaN          NaN            NaN          NaN   \n",
       "\n",
       "             Datetime  Year  Month  \n",
       "Datetime                            \n",
       "2016-11-27 2016-11-27  2016     11  \n",
       "2016-11-28 2016-11-28  2016     11  \n",
       "2016-11-29 2016-11-29  2016     11  \n",
       "2016-11-30 2016-11-30  2016     11  \n",
       "2016-12-01 2016-12-01  2016     12  \n",
       "\n",
       "[5 rows x 83 columns]"
      ]
     },
     "execution_count": 7,
     "metadata": {},
     "output_type": "execute_result"
    }
   ],
   "source": [
    "df.tail()"
   ]
  },
  {
   "cell_type": "markdown",
   "metadata": {},
   "source": [
    "Again, we see that only a few stations have the most recent data. This is probably because they hadn't been collated yet. In many places of Sub-Saharan Africa, it can take up to 5 years for rainfall data to get reported. \n",
    "\n",
    "Each column is a set of rainfall data for a specific location."
   ]
  },
  {
   "cell_type": "code",
   "execution_count": 8,
   "metadata": {},
   "outputs": [
    {
     "name": "stdout",
     "output_type": "stream",
     "text": [
      "['ARCHERS POST', 'ARDENCAPLE FARM', 'CASTLE FOREST STN', 'CHOGORIA FOREST STN', 'CHUKA FOREST STN', 'COLCHECCIO', 'DOL DOL DAO', 'EL KARAMA', 'EMBORI FARM', 'EMBU MET STN', 'ENASOIT FARM', 'GATHIURU FOREST STN', 'HOMBE FOREST STN', 'IRANGI FOREST STN', 'ISIOLO DAO', 'JACOBSON FARM', 'JUNCTION (EWASO NAROK)', 'KABARU FOREST STN', 'KAGURU', 'KALALU (NRM)', 'KAMWAKI FARM', 'KARURI (NRM)', 'KINAMBA MOW', 'KISIMA FARM', 'LAMURIA MET STN', 'LARIAK FOREST STN', 'LOGILADO (NRM)', 'LOLDAIGA FARM', 'LOLDOTO FARM', 'LOLMARIK FARM', 'LORUKU FARM', 'MARALAL DC', 'MARIENE CRS', 'MATANYA (NRM)', 'MERU FOREST STN', 'MOGWONI RANCH', 'MPALA FARM', 'MUGIE RANCH', 'MUKENYA FARM', 'MUKOGODO (NRM)', 'MUNYAKA (NRM)', 'MURINGATO FOREST STN', 'MUTARA ADC FARM', 'MWEA IRRIGATION SCHEME', 'NANYUKI FOREST STN', 'NANYUKI KAF', 'NARO MORU FG POST', 'NARO MORU FOREST STN', 'NARO MORU GATE STN', 'NARO MORU MET STN', 'NDARAGWA FOREST STN', 'NGENIA (NRM)', 'NGENIA B', 'NICOLSON FARM', 'NYERI MOW', 'OL ARABEL FOREST STN', 'OL BOLOSAT FOREST STN', 'OL DONYO FARM', 'OL JOGI FARM', 'OL JORO OROK FTC', 'OL MYSOR FARM', 'OL PEJETA FARM', 'ONTULILI FOREST STN', 'PYRAMID OL JOGI', 'RAGATI FOREST STN', 'RUMURUTI (NRM)', 'RUMURUTI MOW', 'SATIMA FARM', 'SEGERA PLANTATIONS', 'SHAMATA', 'SIRAJI (NRM)', 'SIRIMA (NRM)', 'SOLIO RANCH', 'SOUTH MARMANET FOREST STN', 'SUGUROI ESTATE', 'TELEKI (MT KENYA)', 'TELESWANI (NRM)', 'THARUA FARM', 'TIMAU MARANIA', 'TRENCH FARM']\n"
     ]
    }
   ],
   "source": [
    "station_list = [station for station in df.columns if station not in ['Year', 'Day', 'Month', 'Datetime']]\n",
    "print(station_list)"
   ]
  },
  {
   "cell_type": "markdown",
   "metadata": {},
   "source": [
    "<div class=\"alert alert-warning\">📍We won't do any mapping in this module. But, just in case, the geographic locations for most of these stations are provided in the <code>../data/precipitation_gauge_locations.csv</code>. The coordinates in that file are in <code>UTM, Zone 37 North</code> projection, using the <code>Arc1960</code> projection.</div>\n",
    "\n",
    "<div class=\"alert alert-success\">✏️ <strong>DIY Coding</strong>: Determine the mean annual rainfall for each station</div>\n",
    "\n",
    "<div class=\"alert alert-info\">💡 Go back to Chapter 1 if necessary, and take a look at our good friend <code>groupby</code>. Also, don't forget about using <code>min_count</code> when doing sums to missing or under-reported years from your analyses.</div>"
   ]
  },
  {
   "cell_type": "code",
   "execution_count": 9,
   "metadata": {},
   "outputs": [
    {
     "name": "stdout",
     "output_type": "stream",
     "text": [
      "ARCHERS POST                 0.412139\n",
      "ARDENCAPLE FARM              0.308757\n",
      "CASTLE FOREST STN            0.220171\n",
      "CHOGORIA FOREST STN          0.248054\n",
      "CHUKA FOREST STN             0.236508\n",
      "COLCHECCIO                   0.394298\n",
      "DOL DOL DAO                  0.356469\n",
      "EL KARAMA                    0.283704\n",
      "EMBORI FARM                  0.238753\n",
      "EMBU MET STN                 0.250307\n",
      "ENASOIT FARM                 0.338505\n",
      "GATHIURU FOREST STN          0.214093\n",
      "HOMBE FOREST STN             0.295779\n",
      "IRANGI FOREST STN            0.208047\n",
      "ISIOLO DAO                   0.305422\n",
      "JACOBSON FARM                0.208280\n",
      "JUNCTION (EWASO NAROK)       0.437882\n",
      "KABARU FOREST STN            0.320172\n",
      "KAGURU                       0.294438\n",
      "KALALU (NRM)                 0.312252\n",
      "KAMWAKI FARM                 0.352722\n",
      "KARURI (NRM)                 0.232499\n",
      "KINAMBA MOW                  0.166018\n",
      "KISIMA FARM                  0.305385\n",
      "LAMURIA MET STN              0.200382\n",
      "LARIAK FOREST STN            0.180911\n",
      "LOGILADO (NRM)               0.285436\n",
      "LOLDAIGA FARM                0.345938\n",
      "LOLDOTO FARM                 0.396762\n",
      "LOLMARIK FARM                0.373510\n",
      "                               ...   \n",
      "NGENIA (NRM)                 0.440778\n",
      "NGENIA B                     0.420069\n",
      "NICOLSON FARM                0.209937\n",
      "NYERI MOW                    0.249913\n",
      "OL ARABEL FOREST STN         0.223165\n",
      "OL BOLOSAT FOREST STN        0.324256\n",
      "OL DONYO FARM                0.314405\n",
      "OL JOGI FARM                 0.383170\n",
      "OL JORO OROK FTC             0.273789\n",
      "OL MYSOR FARM                0.332107\n",
      "OL PEJETA FARM               0.282978\n",
      "ONTULILI FOREST STN          0.232842\n",
      "PYRAMID OL JOGI              0.389073\n",
      "RAGATI FOREST STN            0.316254\n",
      "RUMURUTI (NRM)               0.232628\n",
      "RUMURUTI MOW                 0.299184\n",
      "SATIMA FARM                  0.224293\n",
      "SEGERA PLANTATIONS           0.339751\n",
      "SHAMATA                      0.243313\n",
      "SIRAJI (NRM)                 0.349047\n",
      "SIRIMA (NRM)                 0.142866\n",
      "SOLIO RANCH                  0.221748\n",
      "SOUTH MARMANET FOREST STN    0.328122\n",
      "SUGUROI ESTATE               0.235271\n",
      "TELEKI (MT KENYA)            0.234702\n",
      "TELESWANI (NRM)              0.212878\n",
      "THARUA FARM                  0.255891\n",
      "TIMAU MARANIA                0.302917\n",
      "TRENCH FARM                  0.213529\n",
      "Month                        0.000363\n",
      "Length: 81, dtype: float64\n"
     ]
    }
   ],
   "source": [
    "mean_rainfall = df.groupby([\"Year\"]).sum(min_count=350).mean()\n",
    "std_rainfall = df.groupby([\"Year\"]).sum(min_count=350).std()\n",
    "\n",
    "#print(std_rainfall)\n",
    "#print(mean_rainfall)\n",
    "\n",
    "\n",
    "cv = std_rainfall / mean_rainfall\n",
    "print(cv)"
   ]
  },
  {
   "cell_type": "markdown",
   "metadata": {},
   "source": [
    "## Fitting rainfall depths to an exponential distribution\n",
    "\n",
    "Our simple rainfall model makes two assumptions; (1) that events arrive according to a poisson process, and (2) that rainfall depths are distributed according to an exponential distribution. These two assumptions are accompanied by the need for two rainfall parameters; (1) the probability of rainfall events, $\\lambda_r$, and the average depth of rainfall events $\\alpha$. We've already seen how to estimate both of these parameters from rainfall data in `Chapter 1`, so here we are going to focus on testing the appropriateness of the model assumptions during the growing season for Laikipia, Kenya.\n",
    "\n",
    "As an example, we're going to use the `JACOBSON FARM` data. It has a mean rainfall of about 750 mm and 83 years of data, so it's a good choice. Feel free to use another station. \n",
    "\n",
    "### Step 1. Filter data"
   ]
  },
  {
   "cell_type": "code",
   "execution_count": 10,
   "metadata": {},
   "outputs": [
    {
     "data": {
      "text/html": [
       "<div>\n",
       "<style scoped>\n",
       "    .dataframe tbody tr th:only-of-type {\n",
       "        vertical-align: middle;\n",
       "    }\n",
       "\n",
       "    .dataframe tbody tr th {\n",
       "        vertical-align: top;\n",
       "    }\n",
       "\n",
       "    .dataframe thead th {\n",
       "        text-align: right;\n",
       "    }\n",
       "</style>\n",
       "<table border=\"1\" class=\"dataframe\">\n",
       "  <thead>\n",
       "    <tr style=\"text-align: right;\">\n",
       "      <th></th>\n",
       "      <th>JACOBSON FARM</th>\n",
       "      <th>Year</th>\n",
       "      <th>Month</th>\n",
       "      <th>Datetime</th>\n",
       "    </tr>\n",
       "    <tr>\n",
       "      <th>Datetime</th>\n",
       "      <th></th>\n",
       "      <th></th>\n",
       "      <th></th>\n",
       "      <th></th>\n",
       "    </tr>\n",
       "  </thead>\n",
       "  <tbody>\n",
       "    <tr>\n",
       "      <th>1934-01-01</th>\n",
       "      <td>0.0</td>\n",
       "      <td>1934</td>\n",
       "      <td>1</td>\n",
       "      <td>1934-01-01</td>\n",
       "    </tr>\n",
       "    <tr>\n",
       "      <th>1934-01-02</th>\n",
       "      <td>0.0</td>\n",
       "      <td>1934</td>\n",
       "      <td>1</td>\n",
       "      <td>1934-01-02</td>\n",
       "    </tr>\n",
       "    <tr>\n",
       "      <th>1934-01-03</th>\n",
       "      <td>0.0</td>\n",
       "      <td>1934</td>\n",
       "      <td>1</td>\n",
       "      <td>1934-01-03</td>\n",
       "    </tr>\n",
       "    <tr>\n",
       "      <th>1934-01-04</th>\n",
       "      <td>0.0</td>\n",
       "      <td>1934</td>\n",
       "      <td>1</td>\n",
       "      <td>1934-01-04</td>\n",
       "    </tr>\n",
       "    <tr>\n",
       "      <th>1934-01-05</th>\n",
       "      <td>0.0</td>\n",
       "      <td>1934</td>\n",
       "      <td>1</td>\n",
       "      <td>1934-01-05</td>\n",
       "    </tr>\n",
       "  </tbody>\n",
       "</table>\n",
       "</div>"
      ],
      "text/plain": [
       "            JACOBSON FARM  Year  Month   Datetime\n",
       "Datetime                                         \n",
       "1934-01-01            0.0  1934      1 1934-01-01\n",
       "1934-01-02            0.0  1934      1 1934-01-02\n",
       "1934-01-03            0.0  1934      1 1934-01-03\n",
       "1934-01-04            0.0  1934      1 1934-01-04\n",
       "1934-01-05            0.0  1934      1 1934-01-05"
      ]
     },
     "execution_count": 10,
     "metadata": {},
     "output_type": "execute_result"
    }
   ],
   "source": [
    "station = 'JACOBSON FARM'\n",
    "columns = [station] + ['Year', 'Month', 'Datetime']\n",
    "rainfall = df[columns]\n",
    "rainfall.head()"
   ]
  },
  {
   "cell_type": "markdown",
   "metadata": {},
   "source": [
    "Let's take a quick look at the data"
   ]
  },
  {
   "cell_type": "code",
   "execution_count": 11,
   "metadata": {},
   "outputs": [
    {
     "data": {
      "text/plain": [
       "<matplotlib.axes._subplots.AxesSubplot at 0x114005f98>"
      ]
     },
     "execution_count": 11,
     "metadata": {},
     "output_type": "execute_result"
    },
    {
     "data": {
      "image/png": "[encoded data removed]",
      "text/plain": [
       "<Figure size 432x288 with 1 Axes>"
      ]
     },
     "metadata": {
      "needs_background": "light"
     },
     "output_type": "display_data"
    }
   ],
   "source": [
    "# Plot a histogram of rainfall values for days with rain.\n",
    "daily_rainfall = rainfall.loc[rainfall[station] > 0][station]\n",
    "daily_rainfall.plot.hist(bins=10)"
   ]
  },
  {
   "cell_type": "markdown",
   "metadata": {},
   "source": [
    "This looks okay, but we need to check and see how well the values in `daily_rainfall` fit our assumption of an exponential distribution.\n",
    "\n",
    "### Step 2. Fit the distribution\n",
    "\n",
    "To fit the distribution, we are going to use some more functions from `python`'s suite of numerical analysis. In this case we are going to use some functions from `scipy`. The [`scipy.stats`](https://docs.scipy.org/doc/scipy/reference/stats.html) module has a large suite of distribution functions pre-defined, which we can use to develop a fit for our data. Using any of these distributions for fitting our data is very easy. The distribution we are most interested in is the exponential distribution, which is called `expon` in the `stats` module."
   ]
  },
  {
   "cell_type": "code",
   "execution_count": 12,
   "metadata": {},
   "outputs": [
    {
     "name": "stdout",
     "output_type": "stream",
     "text": [
      "(0.2, 7.792004977595121)\n"
     ]
    }
   ],
   "source": [
    "import scipy.stats as st\n",
    "\n",
    "distribution = st.expon\n",
    "data = daily_rainfall\n",
    "params = distribution.fit(data, loc=0) # Force the distribution to be built off of zero\n",
    "\n",
    "print(params)\n",
    "\n",
    "arg = params[:-2]\n",
    "loc = params[-2]\n",
    "scale = params[-1]"
   ]
  },
  {
   "cell_type": "markdown",
   "metadata": {},
   "source": [
    "### Step 3. Calculate fitted PDF and error with fit in distribution\n",
    "\n",
    "To test the fit of our distribution, we can compare the empirical histogram to that predicted by our model. To do this, we first use our `data` to generate the empirical histogram. In this exampkle, we break the data into `30` bins, and we generate a histrogram of `density` rather than counts. This allows for an easier comparison between our empirical data and the fitted probability distribution function. Here are the steps:\n",
    "\n",
    "1. Generate a histogram, from the `data`. Save the bin locations in `x` and the density of values in `y`\n",
    "2. Shift the `x` bin locations generated from the histogram to the center of bins.\n",
    "3. Calculate the value of the fitted `pdf(x)` for each of the bins in `x`.\n",
    "4. Determine the residual sum of the squares, $SS_{error}$, and total sum of squares, $SS_{yy}$, according to:\n",
    "\n",
    "$$ SS_{error} = \\sum_{i=1}^{n} \\left(y_i - f(x_i)\\right)^2 $$\n",
    "$$ SS_{yy} = \\sum_{i=1}^{n} \\left(y_i - \\bar{y}\\right)^2 $$\n",
    "\n",
    "5. Calculate the $r^2$ of the fit, according to\n",
    "\n",
    "$$ r^2 = 1- \\frac{SS_{error}}{SS_{yy}} $$ \n",
    "\n",
    " "
   ]
  },
  {
   "cell_type": "code",
   "execution_count": 13,
   "metadata": {},
   "outputs": [
    {
     "name": "stdout",
     "output_type": "stream",
     "text": [
      "0.9952863196308759\n"
     ]
    }
   ],
   "source": [
    "# Step 1. Generate a density histogram of the data \n",
    "y, x = np.histogram(data, bins=30, density=True)\n",
    "\n",
    "# Step 2. Shift the x bin locations to the center of bins.\n",
    "x = (x + np.roll(x, -1))[:-1] / 2.0\n",
    "\n",
    "# Step 3. Calculate the values of pdx(x) for all x.\n",
    "pdf = distribution.pdf(x, loc=loc, scale=scale, *arg)\n",
    "\n",
    "# Step 4. Determine the residual and total sum of the squares.\n",
    "ss_error = np.sum(np.power(y - pdf, 2.0))\n",
    "ss_yy = np.sum(np.power(y - y.mean(), 2.0))\n",
    "\n",
    "r_2 = 1 - ( ss_error / ss_yy )\n",
    "print(r_2)\n"
   ]
  },
  {
   "cell_type": "markdown",
   "metadata": {},
   "source": [
    "This is an extremely good fit, so we can be confident that our assumption about an exponential distribution of rainfall is reasonable.\n",
    "\n",
    "## Determining monthly values of  $\\lambda_r$ \n",
    "\n",
    "We did something very similar to this in `Chapter 1`. Basically, we need to determine the probability of rainfall for each month by dividing the number of rainy days per month by the total number of observations in each month. For now, we assume stationarity in the monthly values, which means that we are assuming that the values of $\\lambda_r$ in each month are the same through out the entire record (i.e. Jan 1938 has the same properties as Jan 2008). \n",
    "\n",
    "<div class=\"alert alert-info\">💡 It's worth thinking about how you could test our stationarity assumption. If you have an idea of how to do so, go ahead and give it a shot!</div>\n",
    "\n",
    "As a first step, let's get all the `rain_days` and all of the `observation_days` from the data on `JACOBSON FARM`. We will use method chaining to run a **groupby()** as we go."
   ]
  },
  {
   "cell_type": "code",
   "execution_count": 14,
   "metadata": {},
   "outputs": [
    {
     "data": {
      "text/html": [
       "<div>\n",
       "<style scoped>\n",
       "    .dataframe tbody tr th:only-of-type {\n",
       "        vertical-align: middle;\n",
       "    }\n",
       "\n",
       "    .dataframe tbody tr th {\n",
       "        vertical-align: top;\n",
       "    }\n",
       "\n",
       "    .dataframe thead th {\n",
       "        text-align: right;\n",
       "    }\n",
       "</style>\n",
       "<table border=\"1\" class=\"dataframe\">\n",
       "  <thead>\n",
       "    <tr style=\"text-align: right;\">\n",
       "      <th></th>\n",
       "      <th>JACOBSON FARM</th>\n",
       "      <th>Year</th>\n",
       "      <th>Month</th>\n",
       "      <th>Datetime</th>\n",
       "    </tr>\n",
       "    <tr>\n",
       "      <th>Datetime</th>\n",
       "      <th></th>\n",
       "      <th></th>\n",
       "      <th></th>\n",
       "      <th></th>\n",
       "    </tr>\n",
       "  </thead>\n",
       "  <tbody>\n",
       "    <tr>\n",
       "      <th>1934-03-01</th>\n",
       "      <td>0.2</td>\n",
       "      <td>1934</td>\n",
       "      <td>3</td>\n",
       "      <td>1934-03-01</td>\n",
       "    </tr>\n",
       "    <tr>\n",
       "      <th>1934-03-18</th>\n",
       "      <td>0.5</td>\n",
       "      <td>1934</td>\n",
       "      <td>3</td>\n",
       "      <td>1934-03-18</td>\n",
       "    </tr>\n",
       "    <tr>\n",
       "      <th>1934-03-20</th>\n",
       "      <td>0.2</td>\n",
       "      <td>1934</td>\n",
       "      <td>3</td>\n",
       "      <td>1934-03-20</td>\n",
       "    </tr>\n",
       "    <tr>\n",
       "      <th>1934-03-22</th>\n",
       "      <td>6.3</td>\n",
       "      <td>1934</td>\n",
       "      <td>3</td>\n",
       "      <td>1934-03-22</td>\n",
       "    </tr>\n",
       "    <tr>\n",
       "      <th>1934-03-23</th>\n",
       "      <td>2.0</td>\n",
       "      <td>1934</td>\n",
       "      <td>3</td>\n",
       "      <td>1934-03-23</td>\n",
       "    </tr>\n",
       "  </tbody>\n",
       "</table>\n",
       "</div>"
      ],
      "text/plain": [
       "            JACOBSON FARM  Year  Month   Datetime\n",
       "Datetime                                         \n",
       "1934-03-01            0.2  1934      3 1934-03-01\n",
       "1934-03-18            0.5  1934      3 1934-03-18\n",
       "1934-03-20            0.2  1934      3 1934-03-20\n",
       "1934-03-22            6.3  1934      3 1934-03-22\n",
       "1934-03-23            2.0  1934      3 1934-03-23"
      ]
     },
     "execution_count": 14,
     "metadata": {},
     "output_type": "execute_result"
    }
   ],
   "source": [
    "# First, find all the rows in the data where it rained and group by month.\n",
    "rain_days = rainfall.loc[rainfall[station] > 0]\n",
    "\n",
    "# Find all locations in the data where an observation was made.\n",
    "all_days = rainfall.loc[rainfall[station] >= 0]\n",
    "\n",
    "rain_days.head()"
   ]
  },
  {
   "cell_type": "markdown",
   "metadata": {},
   "source": [
    "With these two sets of data and a list of months, we're ready to make our list of $\\lambda_r$ values.\n",
    "\n",
    "<div class=\"alert alert-info\">💡We've often used <strong>sum()</strong> to add up all the values by month or by year. But you can also use the <strong>count()</strong> function to simply count the number of occurrences by month.</div>"
   ]
  },
  {
   "cell_type": "code",
   "execution_count": 15,
   "metadata": {},
   "outputs": [
    {
     "data": {
      "text/plain": [
       "<matplotlib.axes._subplots.AxesSubplot at 0x11532eb00>"
      ]
     },
     "execution_count": 15,
     "metadata": {},
     "output_type": "execute_result"
    },
    {
     "data": {
      "image/png": "[encoded data removed]",
      "text/plain": [
       "<Figure size 432x288 with 1 Axes>"
      ]
     },
     "metadata": {
      "needs_background": "light"
     },
     "output_type": "display_data"
    }
   ],
   "source": [
    "lambda_by_month = (\n",
    "    rain_days.groupby('Month')[station].count() /\n",
    "    all_days.groupby('Month')[station].count()\n",
    "    )\n",
    "pd.DataFrame(lambda_by_month).plot.bar()"
   ]
  },
  {
   "cell_type": "markdown",
   "metadata": {},
   "source": [
    "## Simulating annual rainfall\n",
    "\n",
    "To simulate annual rainfall, we are going to specify daily values of $\\lambda_r$ using the monthly values we just calculated. The use of a variable $\\lambda$ value in a poisson process creates what is known as an \"inhomogenous poisson process\" (or, alternatively, \"nonhomogeneous\"... unforatunetly, there isn't much homogeneity in what we call it!). These types of processes allow the properties of the process to change in space and time. Our implementation - using monthly values - is a little clunky, and we'd prefer to have the $\\lambda$ values change more smoothly throughout the year. However, we probably don't have sufficient data to allow for this, even if we could accomodate the more complicated coding it would require. \n",
    "\n",
    "In order to generate our nonhomogenous process we will first generate a daily array of month numbers for the year `2018`. This is really easy in python using `datetime` + `timedelta` (which we need to import).\n",
    "\n",
    "```python\n",
    "    import datetime\n",
    "    from datetime import timedelta\n",
    "    datetimes = np.arange(datetime(2018,1,1), datetime(2018,12,31), timedelta(days=1)).astype(datetime)\n",
    "    month_value = np.array([datetime.month for datetime in datetimes])\n",
    "```"
   ]
  },
  {
   "cell_type": "code",
   "execution_count": 16,
   "metadata": {},
   "outputs": [],
   "source": [
    "from datetime import timedelta, datetime\n",
    "datetimes = np.arange(datetime(2018,1,1), datetime(2018,12,31), timedelta(days=1)).astype(datetime)\n",
    "month_value_by_day = np.array([datetime.month for datetime in datetimes])"
   ]
  },
  {
   "cell_type": "markdown",
   "metadata": {},
   "source": [
    "Now we have a 12-element `np.array` of $\\lambda_r$ values, organized by month number:"
   ]
  },
  {
   "cell_type": "code",
   "execution_count": 17,
   "metadata": {},
   "outputs": [
    {
     "name": "stdout",
     "output_type": "stream",
     "text": [
      "Month\n",
      "1     0.138080\n",
      "2     0.130397\n",
      "3     0.258065\n",
      "4     0.471605\n",
      "5     0.299482\n",
      "6     0.162140\n",
      "7     0.164476\n",
      "8     0.180406\n",
      "9     0.184926\n",
      "10    0.354042\n",
      "11    0.445267\n",
      "12    0.264436\n",
      "Name: JACOBSON FARM, dtype: float64\n"
     ]
    }
   ],
   "source": [
    "print(lambda_by_month)"
   ]
  },
  {
   "cell_type": "markdown",
   "metadata": {},
   "source": [
    "And we have another `np.array` that specifies the month number for each day of the year: "
   ]
  },
  {
   "cell_type": "code",
   "execution_count": 18,
   "metadata": {},
   "outputs": [
    {
     "name": "stdout",
     "output_type": "stream",
     "text": [
      "[ 1  1  1  1  1  1  1  1  1  1  1  1  1  1  1  1  1  1  1  1  1  1  1  1\n",
      "  1  1  1  1  1  1  1  2  2  2  2  2  2  2  2  2  2  2  2  2  2  2  2  2\n",
      "  2  2  2  2  2  2  2  2  2  2  2  3  3  3  3  3  3  3  3  3  3  3  3  3\n",
      "  3  3  3  3  3  3  3  3  3  3  3  3  3  3  3  3  3  3  4  4  4  4  4  4\n",
      "  4  4  4  4  4  4  4  4  4  4  4  4  4  4  4  4  4  4  4  4  4  4  4  4\n",
      "  5  5  5  5  5  5  5  5  5  5  5  5  5  5  5  5  5  5  5  5  5  5  5  5\n",
      "  5  5  5  5  5  5  5  6  6  6  6  6  6  6  6  6  6  6  6  6  6  6  6  6\n",
      "  6  6  6  6  6  6  6  6  6  6  6  6  6  7  7  7  7  7  7  7  7  7  7  7\n",
      "  7  7  7  7  7  7  7  7  7  7  7  7  7  7  7  7  7  7  7  7  8  8  8  8\n",
      "  8  8  8  8  8  8  8  8  8  8  8  8  8  8  8  8  8  8  8  8  8  8  8  8\n",
      "  8  8  8  9  9  9  9  9  9  9  9  9  9  9  9  9  9  9  9  9  9  9  9  9\n",
      "  9  9  9  9  9  9  9  9  9 10 10 10 10 10 10 10 10 10 10 10 10 10 10 10\n",
      " 10 10 10 10 10 10 10 10 10 10 10 10 10 10 10 10 11 11 11 11 11 11 11 11\n",
      " 11 11 11 11 11 11 11 11 11 11 11 11 11 11 11 11 11 11 11 11 11 11 12 12\n",
      " 12 12 12 12 12 12 12 12 12 12 12 12 12 12 12 12 12 12 12 12 12 12 12 12\n",
      " 12 12 12 12]\n"
     ]
    }
   ],
   "source": [
    "print(month_value_by_day)"
   ]
  },
  {
   "cell_type": "markdown",
   "metadata": {},
   "source": [
    "`numpy` makes it really easy to map the values in one array onto the values of another.\n",
    "\n",
    "```python\n",
    "    lambda_values = [lambda_by_month[i] for i in month_value_by_day]\n",
    "```"
   ]
  },
  {
   "cell_type": "code",
   "execution_count": 19,
   "metadata": {},
   "outputs": [],
   "source": [
    "lambda_values = np.array([lambda_by_month[i] for i in month_value_by_day])"
   ]
  },
  {
   "cell_type": "markdown",
   "metadata": {},
   "source": [
    "With daily values of $\\lambda_r$, we only need to follow the same cookbook we used to make the seasonal data:\n",
    "\n",
    "```python\n",
    "    alpha = scale  # Let's use the value we estimated from our exponential fit.\n",
    "    simulated_rainfall_values = np.random.exponential(\n",
    "        scale=alpha, size=len(lambda_values)) # Use the len() function instead of a constant.\n",
    "```\n",
    "\n",
    "    "
   ]
  },
  {
   "cell_type": "code",
   "execution_count": 20,
   "metadata": {},
   "outputs": [],
   "source": [
    "alpha = scale\n",
    "\n",
    "simulated_rainy_days = (\n",
    "    np.random.uniform(low=0, high=1, size=len(lambda_values)) <= lambda_values).astype(int)\n",
    "simulated_rainfall_values = np.random.exponential(scale=alpha, size=len(lambda_values))\n",
    "\n",
    "simulated_rainfall = simulated_rainy_days * simulated_rainfall_values"
   ]
  },
  {
   "cell_type": "markdown",
   "metadata": {},
   "source": [
    "## Plotting our simulated data\n",
    "\n",
    "We can easily plot our rainfall data using the `datetimes` object we already created as the basis of our x-axis."
   ]
  },
  {
   "cell_type": "code",
   "execution_count": 21,
   "metadata": {},
   "outputs": [
    {
     "data": {
      "text/plain": [
       "<BarContainer object of 364 artists>"
      ]
     },
     "execution_count": 21,
     "metadata": {},
     "output_type": "execute_result"
    },
    {
     "data": {
      "image/png": "[encoded data removed]",
      "text/plain": [
       "<Figure size 432x288 with 1 Axes>"
      ]
     },
     "metadata": {
      "needs_background": "light"
     },
     "output_type": "display_data"
    }
   ],
   "source": [
    "fig, ax = plt.subplots()\n",
    "\n",
    "ax.bar(datetimes, simulated_rainfall, align='center', alpha=0.5)"
   ]
  },
  {
   "cell_type": "markdown",
   "metadata": {},
   "source": [
    "<div class=\"alert alert-success\">✏️ <strong>DIY Coding</strong>: Play around with our simulation. Here are a couple of ideas:</div>\n",
    "\n",
    "1. Run 100 simulations of rainfall with our model for `JACOBSON FARM`. Compare the distribution of annual rainfall to the empirical distribution of annual rainfall.\n",
    "\n",
    "2. Run the model for the same number of years that are in the `JACOBSON FARM` record and compare the mean and standard deviations of annual rainfall between the simulation and the empirical data. How well do they match?\n",
    "\n",
    "2. Using the same simulations as in `2`, compare the mean and standard deviations of monthly rainfall between the simulation and the empirical data.\n",
    "\n",
    "3. We've made $\\lambda_r$ change every month, but we've used a constant $\\alpha$ value. Determine if the assumption of a constant $\\alpha$ is reasonable.\n",
    "\n",
    "4. Determine the model parameters for a different station, preferably one with much lower or higher rainfall. How do the values of $\\alpha$ and $\\lambda_r$ change between stations?\n",
    "\n",
    "5. Earlier I touched on the idea of non-stationarity in which the values of $\\lambda_r$ and/or $\\alpha$ may be changing over time. If you're up for it, see if you can come up with a way to investigate if our assumption of stationarity is valid.\n"
   ]
  },
  {
   "cell_type": "code",
   "execution_count": 22,
   "metadata": {},
   "outputs": [],
   "source": [
    "# This cell intentionally left blank."
   ]
  },
  {
   "cell_type": "markdown",
   "metadata": {},
   "source": [
    "## ✅ End of Chapter 2\n",
    "\n",
    "We're done with the second chapter. We've learned:\n",
    "\n",
    "* How to draw random numbers from a uniform and exponential distributions\n",
    "* How to use these numbers to simulate a marked poisson process\n",
    "* How to work with `datetime` objects inside a `DataFrame`\n",
    "* How to create a `DateTimeIndex` in a `DataFrame`\n",
    "* How to fit a distribtion to a set of empirical data.\n",
    "* How to test the fit of a distribution.\n",
    "* How to create non-homogenous poisson processes.\n",
    "\n",
    "## What's Next\n",
    "\n",
    "Next we are going to explore daily data a little more and learn how to simluate rainfall as a stochastic process. We will also get to explore a much larger dataset of rainfall from the Laikipia region of Kenya, covering 80 stations and going back to 1934.\n",
    "\n",
    "[Return to top](#top)"
   ]
  }
 ],
 "metadata": {
  "kernelspec": {
   "display_name": "Python 3",
   "language": "python",
   "name": "python3"
  },
  "language_info": {
   "codemirror_mode": {
    "name": "ipython",
    "version": 3
   },
   "file_extension": ".py",
   "mimetype": "text/x-python",
   "name": "python",
   "nbconvert_exporter": "python",
   "pygments_lexer": "ipython3",
   "version": "3.7.3"
  }
 },
 "nbformat": 4,
 "nbformat_minor": 2
}
