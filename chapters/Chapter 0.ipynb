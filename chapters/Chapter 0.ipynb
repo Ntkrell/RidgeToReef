{
 "cells": [
  {
   "cell_type": "markdown",
   "metadata": {},
   "source": [
    "# Chapter 0: An introduction to interactive computing using python and pandas\n",
    "\n",
    "[Next Chapter](Chapter 1.ipynb)\n",
    "\n",
    "This courses uses [Jupyter](http://jupyter.org) notebooks. These notebooks are a web application in which you can create and share documents that contain live code, equations, visualizations as well as text. The ability to include both code and text elements makes these documents ideal for conducting data analysis and describing results. Notebooks can be run, revised, and re-run - an iterative process that allows for exploratory data analysis. \n",
    "\n",
    "Notebooks can run code from a variety of languages, and the name \"Jupyter\" is a loose acronym made up of Julia, Python, and R. While these were the first programming languages Jupyter coudl use, the notebook technology now supports [many other languages](https://github.com/jupyter/jupyter/wiki/Jupyter-kernels). The two most commonly used in Earth and Environmental Sciences are [R](https://www.r-project.org) and [python](https://www.python.org). In our excercises, we will be running python code and relying heavily on a suite of python packages designed for data analysis. This tutorial introduces you to the basis of python, and the most important features of these packages.\n",
    "\n",
    "## Chapter Contents\n",
    "\n",
    "* [Using a Jupyter Notebook & JupyterLab](#using_jupyter)\n",
    "* [Introduction to Python](#using_python)\n",
    "* [Pandas - A python data analysis library](#pandas) \n",
    "* [Where to find help](#getting_help)\n"
   ]
  },
  {
   "cell_type": "markdown",
   "metadata": {},
   "source": [
    "### Using a Jupyter Notebook & JupyterLab <a id='using_jupyter'></a>\n",
    "\n",
    "![alt text](https://cdn-images-1.medium.com/letterbox/266/72/50/50/1*wOHyKy6fl3ltcBMNpCvC6Q.png?source=logoAvatar-lo_VRb79vQwWEoh---95916e268740 \"Logo Title Text 1\")\n",
    "\n",
    "#### How Jupyter works\n",
    "\n",
    "\n",
    "The Jupyter Notebook App is a client that allows you to edit and run your notebooks via a web browser by passing commands and results to/from a server. If the server is hosted locally, the application can be executed without Internet access. Otherwise, the notebooks require internet access to a server in order to run. The two main components of this client/server system are the application dashboard (client) and an execution kernel (server). \n",
    "\n",
    "A kernel is a program that runs and introspects the user’s code. The Jupyter Notebook App we will be using has a kernel for Python code, but - as noted above - there are also kernels available for many languages.\n",
    "\n",
    "The dashboard of the application (which runs in a web browser) shows you the notebook documents that you have made, and  allows you to manage the kernel (restart/reset). \n",
    "\n",
    "Cells are executed using `Control-Enter`, which executes the cell that the cursor is currently in. Other options allow you to add cells and execute groups of cells. Use the `User Interface Tour` in the `Help` menu of any notebook to learn more. The keyboard icon at the far right of the menu bar also contains helpful shortcuts and a list of commands.\n",
    "\n",
    "#### JupyterLab\n",
    "\n",
    "[JupyterLab](https://blog.jupyter.org/jupyterlab-is-ready-for-users-5a6f039b8906) is the latest client-side interface for the Jupyter system. It builds on the Jupyter notebook model by providing an interactive development environment (IDE) for working with notebooks, code and data all in one place. In addition to having full support for Jupyter notebooks, JupyterLab enables you to use text editors, terminals, data file viewers, and other custom components side by side with notebooks in a tabbed work area. Users who have worked with MatLab, or R-Studio will find many of the features of JupyterLab similar. \n"
   ]
  },
  {
   "cell_type": "markdown",
   "metadata": {},
   "source": [
    "## Coding in Python <a id='using_python'></a>\n",
    "\n",
    "[Python](https://en.wikipedia.org/wiki/Python_(programming_language) is a language originally developed in the early 1990s. Relative to other languages, it is focused on readability and simplicity. Python has dynamic typing and automated memory management, making it well-suited for beginners and the rapid development of code. All of these attributes make Python ideal for scientific programming.\n",
    "\n",
    "The philosophy behind Python is contained in the `Zen of Python`, which can be found by executing your first jupyter notebook cell!\n",
    "\n",
    "(place your cursor in the cell below and use `Control-Enter` to execute the cell)"
   ]
  },
  {
   "cell_type": "code",
   "execution_count": 62,
   "metadata": {
    "scrolled": true
   },
   "outputs": [],
   "source": [
    "import this"
   ]
  },
  {
   "cell_type": "markdown",
   "metadata": {},
   "source": [
    "```\n",
    "The Zen of Python, by Tim Peters\n",
    "\n",
    "Beautiful is better than ugly.\n",
    "Explicit is better than implicit.\n",
    "Simple is better than complex.\n",
    "Complex is better than complicated.\n",
    "Flat is better than nested.\n",
    "Sparse is better than dense.\n",
    "Readability counts.\n",
    "Special cases aren't special enough to break the rules.\n",
    "Although practicality beats purity.\n",
    "Errors should never pass silently.\n",
    "Unless explicitly silenced.\n",
    "In the face of ambiguity, refuse the temptation to guess.\n",
    "There should be one-- and preferably only one --obvious way to do it.\n",
    "Although that way may not be obvious at first unless you're Dutch.\n",
    "Now is better than never.\n",
    "Although never is often better than *right* now.\n",
    "If the implementation is hard to explain, it's a bad idea.\n",
    "If the implementation is easy to explain, it may be a good idea.\n",
    "Namespaces are one honking great idea -- let's do more of those!\n",
    "```\n",
    "\n",
    "The code above - while only one line - emphasizes an important part of Python; namely, the use of `import`s to add functionality and extend the programming language. But before we get to that, let's review some of the basics of the python programming language.\n",
    "\n"
   ]
  },
  {
   "cell_type": "markdown",
   "metadata": {},
   "source": [
    "### Python Tutorials <a id=\"additional_tutorials\"></a>\n",
    "\n",
    "There's plenty to cover regarding the use of python. If you're new to this language, you may want to follow up with some of the following tutorials:\n",
    "\n",
    "* [First Steps in Python](01 - First Steps in Python.ipynb)\n",
    "* [Using the print() Function](02 - Using the print Function.ipynb\")\n",
    "* [Data Structures](03 - Data Structures.ipynb)\n",
    "* [Strings](04 - Strings.ipynb)\n",
    "* [Control Statements](05 - Control Statements.ipynb)\n",
    "* [Functions](06 - Functions.ipynb)\n",
    "* [Classes](07 - Classes.ipynb)\n"
   ]
  },
  {
   "cell_type": "markdown",
   "metadata": {},
   "source": [
    "## Pandas <a id='pandas'></a>\n",
    "\n"
   ]
  },
  {
   "cell_type": "markdown",
   "metadata": {},
   "source": [
    "## Where to find help <a id=\"getting_help\"></a>"
   ]
  }
 ],
 "metadata": {
  "kernelspec": {
   "display_name": "Python 3",
   "language": "python",
   "name": "python3"
  },
  "language_info": {
   "codemirror_mode": {
    "name": "ipython",
    "version": 3
   },
   "file_extension": ".py",
   "mimetype": "text/x-python",
   "name": "python",
   "nbconvert_exporter": "python",
   "pygments_lexer": "ipython3",
   "version": "3.6.5"
  }
 },
 "nbformat": 4,
 "nbformat_minor": 2
}
