{
 "cells": [
  {
   "cell_type": "markdown",
   "metadata": {},
   "source": [
    "# Chapter 3: Impacts of Decision Making on Agricultural Outcomes\n",
    "\n",
    "[⬅️ Previous Chapter](Chapter%202.ipynb)\n",
    "\n",
    "![](../assets/farm_02.png)\n",
    "\n",
    "## Chapter Objectives\n",
    "\n",
    "* Understand the tradeoffs between yield, climate, and crop phenology.\n",
    "* Learn to use functions to expedite repetative analysis \n",
    "* Develop a very simple ecohydrological model of soil water availability\n",
    "* Explore how rainfall seasonality affects the dynamics of soil water availability in annual crop systems\n",
    "* Learn how to run ensembles of simulations and aggregate output\n",
    "* Examine how planting date and crop choice alter average soil moisture during the growing season\n",
    "\n",
    "## Laikipia Climate\n",
    "\n",
    "As we've seen, the climate of northern Kenya is marked by pronounced rainfall variability. In addition, there is very little variation in temperature and solar radiation. The graphs below provide long-term monthly patterns of both temperature and rainfall, which emphasize the dominat role that temporal variation in rainfall plays in governing the climate of this system.\n",
    "\n",
    "<table>\n",
    "    <tr>\n",
    "        <td><img src=\"../assets/nanyuki_rainfall.png\" alt=\"Drawing\" style=\"width: 300px;\"/><td><img src=\"../assets/nanyuki_temperature.png\" alt=\"Drawing\" style=\"width: 300px;\"/></td>\n",
    "    </tr>\n",
    "</table>\n",
    "\n",
    "\n",
    "## Climate variability and decision making\n",
    "\n",
    "Given the variation in rainfall both within and between years, it is reasonable to wonder what timing of planting is optimal for ensuring the success of maize, which is the main crop in this region. In addition, farmers must make decisions about what variety of maize to plant. \n",
    "\n",
    "### Crop Choice\n",
    "\n",
    "Decisions about what type of maize to plant break down along two axes: Early harvesting varieties vs. Late harvest varieties, and Local varieties vs. Hybrid varieties. \n",
    "\n",
    "Recently, hybrid varieties designed specifically for the dry conditions of many Kenyan agricultural zones have started to become available. For example, here's a [report](https://basis.ucdavis.edu/news/one-change-hybrid-seeds-could-boost-maize-productivity-western-kenya) based on work at UC Davis on development of Kenya-specific hybrid maize varieties that shows great promise. That being said, hybrid varieties require farmers to purchase seeds annually, rather than saving seeds from the prior year's harvest which creates a cost burden on smallholder farmers. While it is likely that - just as in US agriculture - hybrid and even GMO varieties of maize will come to dominate Kenyan agrticulture in the coming decades, household farms will remain dependent on local seeds. Regardless, the interaction between economic and agronomic tradeoffs is too complex for our excercise, so we will focus on the first decision - choosing between fast-maturing varieties that produce lower yields vs. slower-maturing varities that have higher yields.\n",
    "\n",
    "We can investigate the relationship between `yield` and `days to maturity` using some data on hybrid maize varieties used in Kenya. Even though we will be focusing on local maize varieties which have lower yields overall than any hybrid variety, we can assume any relationship seen between `yield` and `days to maturity` in hybrid maize is similar for local maize.\n",
    "\n",
    "## Getting started\n",
    "\n",
    "As usual, we need to load pandas, our plotting libraries, and remind jupyter to render our plots into our notebooks."
   ]
  },
  {
   "cell_type": "code",
   "execution_count": 1,
   "metadata": {},
   "outputs": [],
   "source": [
    "import pandas as pd\n",
    "import numpy as np\n",
    "import matplotlib.pyplot as plt\n",
    "import numpy as np\n",
    "%matplotlib inline"
   ]
  },
  {
   "cell_type": "code",
   "execution_count": 2,
   "metadata": {},
   "outputs": [
    {
     "data": {
      "text/html": [
       "<div>\n",
       "<style scoped>\n",
       "    .dataframe tbody tr th:only-of-type {\n",
       "        vertical-align: middle;\n",
       "    }\n",
       "\n",
       "    .dataframe tbody tr th {\n",
       "        vertical-align: top;\n",
       "    }\n",
       "\n",
       "    .dataframe thead th {\n",
       "        text-align: right;\n",
       "    }\n",
       "</style>\n",
       "<table border=\"1\" class=\"dataframe\">\n",
       "  <thead>\n",
       "    <tr style=\"text-align: right;\">\n",
       "      <th></th>\n",
       "      <th>Unnamed: 0</th>\n",
       "      <th>VARIETY</th>\n",
       "      <th>ALTITUDE  RANGE (M)</th>\n",
       "      <th>yield (kg/ha)</th>\n",
       "      <th>days_to_maturity</th>\n",
       "    </tr>\n",
       "  </thead>\n",
       "  <tbody>\n",
       "    <tr>\n",
       "      <th>0</th>\n",
       "      <td>0</td>\n",
       "      <td>H6213</td>\n",
       "      <td>1700-2100</td>\n",
       "      <td>4680.0</td>\n",
       "      <td>175.0</td>\n",
       "    </tr>\n",
       "    <tr>\n",
       "      <th>1</th>\n",
       "      <td>1</td>\n",
       "      <td>H6212</td>\n",
       "      <td>1700-2100</td>\n",
       "      <td>4680.0</td>\n",
       "      <td>175.0</td>\n",
       "    </tr>\n",
       "    <tr>\n",
       "      <th>2</th>\n",
       "      <td>2</td>\n",
       "      <td>H6210</td>\n",
       "      <td>1700-2100</td>\n",
       "      <td>4500.0</td>\n",
       "      <td>175.0</td>\n",
       "    </tr>\n",
       "    <tr>\n",
       "      <th>3</th>\n",
       "      <td>3</td>\n",
       "      <td>H9401</td>\n",
       "      <td>1700-2100</td>\n",
       "      <td>4320.0</td>\n",
       "      <td>175.0</td>\n",
       "    </tr>\n",
       "    <tr>\n",
       "      <th>4</th>\n",
       "      <td>4</td>\n",
       "      <td>H629</td>\n",
       "      <td>1700-2400</td>\n",
       "      <td>4320.0</td>\n",
       "      <td>175.0</td>\n",
       "    </tr>\n",
       "    <tr>\n",
       "      <th>5</th>\n",
       "      <td>5</td>\n",
       "      <td>H628</td>\n",
       "      <td>1500-2100</td>\n",
       "      <td>4140.0</td>\n",
       "      <td>165.0</td>\n",
       "    </tr>\n",
       "    <tr>\n",
       "      <th>6</th>\n",
       "      <td>6</td>\n",
       "      <td>H627</td>\n",
       "      <td>1500-2100</td>\n",
       "      <td>3960.0</td>\n",
       "      <td>165.0</td>\n",
       "    </tr>\n",
       "    <tr>\n",
       "      <th>7</th>\n",
       "      <td>7</td>\n",
       "      <td>H626</td>\n",
       "      <td>1500-2100</td>\n",
       "      <td>3780.0</td>\n",
       "      <td>165.0</td>\n",
       "    </tr>\n",
       "    <tr>\n",
       "      <th>8</th>\n",
       "      <td>8</td>\n",
       "      <td>H625</td>\n",
       "      <td>1500-2100</td>\n",
       "      <td>3600.0</td>\n",
       "      <td>165.0</td>\n",
       "    </tr>\n",
       "    <tr>\n",
       "      <th>9</th>\n",
       "      <td>9</td>\n",
       "      <td>H614</td>\n",
       "      <td>1500-2100</td>\n",
       "      <td>3420.0</td>\n",
       "      <td>175.0</td>\n",
       "    </tr>\n",
       "    <tr>\n",
       "      <th>10</th>\n",
       "      <td>10</td>\n",
       "      <td>H624</td>\n",
       "      <td>1000-1800</td>\n",
       "      <td>2880.0</td>\n",
       "      <td>160.0</td>\n",
       "    </tr>\n",
       "    <tr>\n",
       "      <th>11</th>\n",
       "      <td>11</td>\n",
       "      <td>H623</td>\n",
       "      <td>1000-1800</td>\n",
       "      <td>2520.0</td>\n",
       "      <td>165.0</td>\n",
       "    </tr>\n",
       "    <tr>\n",
       "      <th>12</th>\n",
       "      <td>12</td>\n",
       "      <td>H516</td>\n",
       "      <td>1000-1800</td>\n",
       "      <td>2520.0</td>\n",
       "      <td>120.0</td>\n",
       "    </tr>\n",
       "    <tr>\n",
       "      <th>13</th>\n",
       "      <td>13</td>\n",
       "      <td>H515</td>\n",
       "      <td>1000-1800</td>\n",
       "      <td>2340.0</td>\n",
       "      <td>135.0</td>\n",
       "    </tr>\n",
       "    <tr>\n",
       "      <th>14</th>\n",
       "      <td>14</td>\n",
       "      <td>H513</td>\n",
       "      <td>1000-1800</td>\n",
       "      <td>2160.0</td>\n",
       "      <td>125.0</td>\n",
       "    </tr>\n",
       "    <tr>\n",
       "      <th>15</th>\n",
       "      <td>15</td>\n",
       "      <td>H511</td>\n",
       "      <td>1000-1800</td>\n",
       "      <td>2070.0</td>\n",
       "      <td>125.0</td>\n",
       "    </tr>\n",
       "    <tr>\n",
       "      <th>16</th>\n",
       "      <td>16</td>\n",
       "      <td>PH4</td>\n",
       "      <td>0 – 1200</td>\n",
       "      <td>1800.0</td>\n",
       "      <td>105.0</td>\n",
       "    </tr>\n",
       "    <tr>\n",
       "      <th>17</th>\n",
       "      <td>17</td>\n",
       "      <td>PH1</td>\n",
       "      <td>0 – 1200</td>\n",
       "      <td>1350.0</td>\n",
       "      <td>97.5</td>\n",
       "    </tr>\n",
       "    <tr>\n",
       "      <th>18</th>\n",
       "      <td>18</td>\n",
       "      <td>DH01</td>\n",
       "      <td>800-1200</td>\n",
       "      <td>1350.0</td>\n",
       "      <td>110.0</td>\n",
       "    </tr>\n",
       "    <tr>\n",
       "      <th>19</th>\n",
       "      <td>19</td>\n",
       "      <td>DH02</td>\n",
       "      <td>800 – 1200</td>\n",
       "      <td>1350.0</td>\n",
       "      <td>110.0</td>\n",
       "    </tr>\n",
       "    <tr>\n",
       "      <th>20</th>\n",
       "      <td>20</td>\n",
       "      <td>DH03</td>\n",
       "      <td>800 – 1200</td>\n",
       "      <td>1350.0</td>\n",
       "      <td>110.0</td>\n",
       "    </tr>\n",
       "    <tr>\n",
       "      <th>21</th>\n",
       "      <td>21</td>\n",
       "      <td>DH04</td>\n",
       "      <td>800 – 1200</td>\n",
       "      <td>1710.0</td>\n",
       "      <td>110.0</td>\n",
       "    </tr>\n",
       "    <tr>\n",
       "      <th>22</th>\n",
       "      <td>22</td>\n",
       "      <td>Katumani Composite</td>\n",
       "      <td>1000-1900</td>\n",
       "      <td>1350.0</td>\n",
       "      <td>97.5</td>\n",
       "    </tr>\n",
       "    <tr>\n",
       "      <th>23</th>\n",
       "      <td>23</td>\n",
       "      <td>DLC1</td>\n",
       "      <td>1000-1900</td>\n",
       "      <td>1170.0</td>\n",
       "      <td>97.5</td>\n",
       "    </tr>\n",
       "  </tbody>\n",
       "</table>\n",
       "</div>"
      ],
      "text/plain": [
       "    Unnamed: 0             VARIETY ALTITUDE  RANGE (M)  yield (kg/ha)  \\\n",
       "0            0               H6213           1700-2100         4680.0   \n",
       "1            1               H6212           1700-2100         4680.0   \n",
       "2            2               H6210           1700-2100         4500.0   \n",
       "3            3               H9401           1700-2100         4320.0   \n",
       "4            4                H629           1700-2400         4320.0   \n",
       "5            5                H628           1500-2100         4140.0   \n",
       "6            6                H627           1500-2100         3960.0   \n",
       "7            7                H626           1500-2100         3780.0   \n",
       "8            8                H625           1500-2100         3600.0   \n",
       "9            9                H614           1500-2100         3420.0   \n",
       "10          10                H624           1000-1800         2880.0   \n",
       "11          11                H623           1000-1800         2520.0   \n",
       "12          12                H516           1000-1800         2520.0   \n",
       "13          13                H515           1000-1800         2340.0   \n",
       "14          14                H513           1000-1800         2160.0   \n",
       "15          15                H511           1000-1800         2070.0   \n",
       "16          16                 PH4            0 – 1200         1800.0   \n",
       "17          17                 PH1            0 – 1200         1350.0   \n",
       "18          18                DH01            800-1200         1350.0   \n",
       "19          19                DH02          800 – 1200         1350.0   \n",
       "20          20                DH03          800 – 1200         1350.0   \n",
       "21          21                DH04          800 – 1200         1710.0   \n",
       "22          22  Katumani Composite           1000-1900         1350.0   \n",
       "23          23                DLC1           1000-1900         1170.0   \n",
       "\n",
       "    days_to_maturity  \n",
       "0              175.0  \n",
       "1              175.0  \n",
       "2              175.0  \n",
       "3              175.0  \n",
       "4              175.0  \n",
       "5              165.0  \n",
       "6              165.0  \n",
       "7              165.0  \n",
       "8              165.0  \n",
       "9              175.0  \n",
       "10             160.0  \n",
       "11             165.0  \n",
       "12             120.0  \n",
       "13             135.0  \n",
       "14             125.0  \n",
       "15             125.0  \n",
       "16             105.0  \n",
       "17              97.5  \n",
       "18             110.0  \n",
       "19             110.0  \n",
       "20             110.0  \n",
       "21             110.0  \n",
       "22              97.5  \n",
       "23              97.5  "
      ]
     },
     "execution_count": 2,
     "metadata": {},
     "output_type": "execute_result"
    }
   ],
   "source": [
    "hybrid_data = pd.read_csv('../data/hybrid_yields.csv')\n",
    "hybrid_data"
   ]
  },
  {
   "cell_type": "markdown",
   "metadata": {},
   "source": [
    "We have 23 different hybrid varieties, with data on the _maximum_ `yield (kg/ha)` and `days_to_maturity` for each variety. Let's see if there's a relationship between these two variables:"
   ]
  },
  {
   "cell_type": "code",
   "execution_count": 3,
   "metadata": {},
   "outputs": [
    {
     "data": {
      "text/plain": [
<<<<<<< HEAD
       "<matplotlib.axes._subplots.AxesSubplot at 0x11daf76d8>"
=======
       "<matplotlib.axes._subplots.AxesSubplot at 0x109385fd0>"
>>>>>>> e2aee672c8dad89d86420f4546ec1e0807abc5f7
      ]
     },
     "execution_count": 3,
     "metadata": {},
     "output_type": "execute_result"
    },
    {
     "data": {
<<<<<<< HEAD
      "image/png": "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\n",
=======
      "image/png": "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\n",
>>>>>>> e2aee672c8dad89d86420f4546ec1e0807abc5f7
      "text/plain": [
       "<matplotlib.figure.Figure at 0x1093729e8>"
      ]
     },
     "metadata": {
      "needs_background": "light"
     },
     "output_type": "display_data"
    }
   ],
   "source": [
    "hybrid_data.plot.scatter(x='days_to_maturity', y='yield (kg/ha)')"
   ]
  },
  {
   "cell_type": "markdown",
   "metadata": {},
   "source": [
    "That's a pretty clear linear relationship, which isn't totally unexpected; it stands to reason that annual crops that grow for a longer period will also yield more at harvest time.\n",
    "\n",
    "<div class=\"alert alert-success\">✏️ <strong>DIY Code:</strong> Use the tools and functions from <code>Chapter 2</code>'s curve-fitting excercise to determine the best-fit linear relationship between these data and the $r^2$ value.</div>\n",
    "\n",
    "Yield increases by 3500 kg/ha over about 80 days, which is 44 kg/ha per day.\n",
    "Assuming 100-day variety yields 1250 kg/ha, out estimate of the y-intercept is -3150 kg/ha\n",
    "\n",
    "Our equation for yield is:\n",
    "\n",
    "yield = 44*days_to_maturity - 3150\n"
   ]
  },
  {
   "cell_type": "code",
   "execution_count": 4,
   "metadata": {},
   "outputs": [],
   "source": [
    "# This cell intentionally left blank [OPTIONAL]"
   ]
  },
  {
   "cell_type": "markdown",
   "metadata": {},
   "source": [
    "### Planting Date\n",
    "\n",
    "Farmers have to choose planting dates in anticipation of there being adequate rainfall during the subsequent growing period to avoid crop failure. Despite the promising data in the figure above, which shows _optimal_ yields from hybrid varities of up to 4.5 tons/ha, actual yields of maize in Kenya are around 1.4-1.6 tons/ha. That number - while 50% higher than it was only a decade ago - is about 1/3 of the yields seen in the US Midwest. So even in the absence of crop failure, success has a lower bound than elsewhere. \n",
    "\n",
    "## Tradoffs between yield, planting date, and crop failure\n",
    "\n",
    "The remainder of this Chapter will be focused on developing a simple model that captures the dynamics implicit in the discussion above:\n",
    "\n",
    "1. Higher yield varieties of maize require longer periods of growth\n",
    "2. Longer periods of growth increase the potential for exposure of crops to prolonged drought.\n",
    "3. Prolonged drought increases the probability of crop failure\n",
    "4. The timing of planting determines how these tradeoffs will play out.\n",
    "\n",
    "Let's take each of these topics in order:\n",
    "\n",
    "### 1. Tradeoffs between yield and days to maturity\n",
    "\n",
    "Just in case you didn't actually calculate the regression line between `yield (kg/ha)` and `days_to_maturity` 😉, we can eyeball the figure, and estimate the slope of the line to be about `40:1`, so that each additional day of maturity increases yield by 40 kg/ha.\n",
    "\n",
    "### 2. Tradoffs between days to maturity and exposure to climate variability\n",
    "\n",
    "This tradeoff is harder to quantify. Instead, we will model the interaction between days to maturity and crop failure. Our strategy will be to examine a very field-scale water balance that looks only at relative water availability \\[mm/mm\\], $s$, daily rainfall, $R$ \\[mm/day\\], and daily water demand, which we will characterize as reference evapotranspiration, $ET_0$ \\[mm/day\\]. Because temperature is relatively constant, we will assume that $ET_0$ is constant. Therefore our water balance is simply:\n",
    "\n",
    "\n",
    "$$ \\frac{dS}{dt} = R(t) - ET_0 $$\n",
    "\n",
    "This formulation ignores many important processes related to soil water storage and plant response to drought. As defined, it is essentially a cumulative dryness index; during periods of the season when $\\sum_t R(t) > t \\times ET_0$, there will accumulation of water in the soil. During periods when $\\sum_t R(t) < t \\times ET_0$, the soil will dry out. \n",
    "\n",
    "Because the amount of plant available water in the soil in bounded between zero and some maximum, we add an additional parameter, $S_{max}$, which is the maximum amount of water `[mm]` that can be stored in the root zone. Now our model looks like this:\n",
    "\n",
    "$$\n",
    "\\begin{eqnarray}\n",
    "    \\frac{dS}{dt} &=& R(t) - ET_0 & if & (0 \\leq S \\leq S_{max}) \\\\\n",
    "    & & & else; \\\\\n",
    "    \\frac{dS}{dt} &=& 0 \n",
    "\\end{eqnarray}       \n",
    "$$\n",
    "\n",
    "Assuming a typical value of porosity is 0.4 and soil depth is 500 mm (0.5 meters), the value of $S_{max}$ is 200, here is what our model looks like in python:\n",
    "\n",
    "```python\n",
    "n = 0.4  # Porosity, [m3/m3]\n",
    "Zr = 500 # Rooting depth [mm]\n",
    "S_max = n*Zr    # Max soil water storage [mm]\n",
    "S[0] = 30  # Initial soil water storage [mm]\n",
    "ET_0 = 6.5 # Daily reference evapotranspiration [mm]\n",
    "\n",
    "S = np.zeros(len(R)) # Pre-allocate the array for S\n",
    "dSdt = np.zeros(len(R))# Pre-allocate the array for dSdt\n",
    "\n",
    "for t in range(len(R)):\n",
    "    dSdt[t] = R[t] - ET_0\n",
    "    S[t+1] = S[t] + dSdt[t]\n",
    "    if S[t+1] < S_max:\n",
    "        S[t+1] = S_max\n",
    "    if S[t+1] < 0:\n",
    "        S[t+1] = 0\n",
    "```\n",
    "\n",
    "However, before implementing the model, we need to organize our rainfall simulation code so it is easier to work with.\n"
   ]
  },
  {
   "cell_type": "markdown",
   "metadata": {},
   "source": [
    "I've created a few functions that will speed up our analysis.\n",
    "\n",
    "#### ▶️ read_data()\n",
    "\n",
    "<div class=\"alert alert-info\">This function will read in our CETRAD data file and returns a cleaned up version using the methods we developed in <code>Chapter 2</code>. </div>"
   ]
  },
  {
   "cell_type": "code",
<<<<<<< HEAD
   "execution_count": 5,
=======
   "execution_count": 11,
>>>>>>> e2aee672c8dad89d86420f4546ec1e0807abc5f7
   "metadata": {},
   "outputs": [],
   "source": [
    "def read_data():\n",
<<<<<<< HEAD
    "    from dateutil.relativedelta import relativedelta\n",
=======
    "    from dateutil import relativedelta\n",
>>>>>>> e2aee672c8dad89d86420f4546ec1e0807abc5f7
    "    # Read in the raw csv data.\n",
    "    df = pd.read_csv(\"../data/CETRAD_rainfall.csv\")\n",
    "\n",
    "    # Step 1. Convert text strings into datetime objects.\n",
    "    format = '%m/%d/%y'  # Column RDate has data in M/D/YY\n",
    "    df['Datetime'] = pd.to_datetime(df['RDate'], format=format)  # Create a new column of datetime objects using RDate.  # NOQA\n",
    "\n",
    "    # 2. Step 2. Convert future dates inferred during the conversion back into\n",
    "    # 20th century dates. Python is a future-looking programming language, and\n",
    "    # assumes that 1/1/34 is Jan 1, 2034. We fix this by finding all the dates\n",
    "    # in the future (dt > datetime.now()) and removing 100 years from\n",
    "    # their value. This requires using a relativedelta function, which handles\n",
    "    # weird stuff like leap years.\n",
    "    df['Datetime'] = df['Datetime'].map(\n",
    "        lambda dt: dt+relativedelta.relativedelta(years=-100) if dt > datetime.now() else dt)\n",
    "\n",
    "    # Step 3. Extract the Year and Month from the Datetime to make\n",
    "    # aggregation easier.\n",
    "    df['Year'] = [dt.year for dt in df['Datetime']]\n",
    "    df['Month'] = [dt.month for dt in df['Datetime']]\n",
    "\n",
    "    # Step 4. Use the Datetime values as the index for this dataframe.\n",
    "    df = df.set_index(pd.DatetimeIndex(df['Datetime']))  # Set the Datetime column as the dataframe index # NOQA\n",
    "\n",
    "    # Step 5.  Delete the old RDate column, which we no longer need.\n",
    "    # We will keep the Datetime column, in case we need it later.\n",
    "    df = df.drop(['RDate'], axis=1)\n",
    "\n",
    "    return df"
   ]
  },
  {
   "cell_type": "markdown",
   "metadata": {},
   "source": [
    "#### ▶️ analyze_rainfall()\n",
    "\n",
    "<div class=\"alert alert-info\"> This function will analyze a specific station and returns the raw data, as well as $\\alpha$ and $\\lambda_r$ values for each month. If <code>start_date</code> or <code>end_date</code> are passed, then they are used to subset the data to specific years. Otherwise, the entire dataset is returned.</div>"
   ]
  },
  {
   "cell_type": "code",
<<<<<<< HEAD
   "execution_count": 6,
=======
   "execution_count": 12,
>>>>>>> e2aee672c8dad89d86420f4546ec1e0807abc5f7
   "metadata": {},
   "outputs": [],
   "source": [
    "def analyze_rainfall(station='JACOBSON FARM', start_year=None, end_year=None):\n",
    "    rainfall_data = read_data()\n",
    "    data = rainfall_data[[station, 'Month', 'Year', 'Datetime']]\n",
    "    if not start_year:\n",
    "        start_year = min(data['Year'])\n",
    "    if not end_year:\n",
    "        end_year = max(data['Year'])\n",
    "    if start_year < min(data['Year']):\n",
    "        start_year = min(data['Year'])\n",
    "    if end_year > max(data['Year']):\n",
    "        end_year = max(data['Year'])\n",
    "    data = data.loc[(data['Year'] >= start_year) & (data['Year'] <= end_year)]\n",
    "\n",
    "    # First, find all the rows in the data where it rained and group by month.\n",
    "    rain_days = data.loc[data[station] > 0]\n",
    "\n",
    "    # Find all locations in the data where an observation was made.\n",
    "    all_days = data.loc[data[station] >= 0]\n",
    "\n",
    "    lambda_by_month = (\n",
    "        rain_days.groupby('Month')[station].count() /\n",
    "        all_days.groupby('Month')[station].count()\n",
    "    )\n",
    "\n",
    "    alpha = rain_days[station].mean()\n",
    "\n",
    "    return alpha, lambda_by_month, data"
   ]
  },
  {
   "cell_type": "markdown",
   "metadata": {},
   "source": [
    "#### ▶️ seasonal_lambdas()\n",
    "\n",
    "<div class=\"alert alert-info\">Generates $\\lambda_r$ values for each day in a growing season given a planting_date and an array of 12 $\\lambda_r$ values (<code>lambda_by_month</code>).</div>"
   ]
  },
  {
   "cell_type": "code",
<<<<<<< HEAD
   "execution_count": 7,
=======
   "execution_count": 13,
>>>>>>> e2aee672c8dad89d86420f4546ec1e0807abc5f7
   "metadata": {},
   "outputs": [],
   "source": [
    "from datetime import datetime, timedelta\n",
    "def seasonal_lambdas(lambda_by_month, planting_date=datetime.now(), days_to_maturity=150):\n",
    "    \"\"\" Generates daily values of lambda_r for a growing season. \n",
    "    \n",
    "    Usage: seasonal_lambdas(lambda_by_month, planting_date=datetime.now(), days_to_maturity=150)\n",
    "    \n",
    "    Arguments:\n",
    "        lambdas_by_month: an array of 12 values of lambda_r, one for each month.\n",
    "        planting_date: The datetime of planting. Default is today.\n",
    "        days_to_maturity: The length of the growing season\n",
    "    \"\"\"\n",
    "    start_date = planting_date\n",
    "    end_date = planting_date + timedelta(days=days_to_maturity)\n",
    "    datetimes = np.arange(\n",
    "        start_date, end_date, timedelta(days=1)).astype(datetime)\n",
    "    month_value_by_day = np.array([datetime.month for datetime in datetimes])\n",
    "    lambda_values = np.array([lambda_by_month[i] for i in month_value_by_day])\n",
    "    return lambda_values, datetimes\n"
   ]
  },
  {
   "cell_type": "markdown",
   "metadata": {},
   "source": [
    "#### ▶️ simulate_rainfall()\n",
    "\n",
    "<div class=\"alert alert-info\">Generates a simulation of a season of rainfall. Uses a planting date (which must be passed as a <code>DateTime</code> object, as well as a lenght of the growing season (<code>days_to_maturity</code>), which have default values of <code>now()</code> and <code>150</code>, respectively. Requires passing in an array of 12 $\\lambda_r$ values (<code>lambda_by_month</code>), and a single value of $\\alpha$ (<code>alpha</code>). Returns a time series of daily rainfall in mm (<code>simulated rainfall</code>).</div>"
   ]
  },
  {
   "cell_type": "code",
<<<<<<< HEAD
   "execution_count": 8,
=======
   "execution_count": 14,
>>>>>>> e2aee672c8dad89d86420f4546ec1e0807abc5f7
   "metadata": {},
   "outputs": [],
   "source": [
    "def simulate_rainfall(lambda_by_month, alpha, planting_date=datetime.now(), days_to_maturity=150, n_seasons=1):\n",
    "    \"\"\" Simulates a season of rainfall.\n",
    "\n",
    "    Usage:\n",
    "\n",
    "    simulate_rainfall(\n",
    "        planting_date=datetime, days_to_maturity,\n",
    "        lambda_values, alpha_values\n",
    "    )\n",
    "\n",
    "    Arguments:\n",
    "        - planting_date = datetime object specifying month/day of planting.\n",
    "        - days_to_maturity - integer number of days until crop is mature\n",
    "        - lambda_values - array of 12 lambda values; one for each month\n",
    "        - alpha value - a constant average storm depth\n",
    "\n",
    "    \"\"\"\n",
    "    lambda_values, datetimes = seasonal_lambdas(lambda_by_month, planting_date, days_to_maturity)\n",
    "    size = [n_seasons, len(lambda_values)]\n",
    "    simulated_rainy_days = (np.random.uniform(\n",
    "        low=0, high=1, size=size) <= lambda_values).astype(int)\n",
    "    simulated_rainfall_values = np.random.exponential(scale=alpha, size=size)\n",
    "    simulated_rainfall = simulated_rainy_days * simulated_rainfall_values\n",
    "    return simulated_rainfall.squeeze(), datetimes\n",
    "    # df =  pd.DataFrame(simulated_rainfall).transpose()\n",
    "    # return df"
   ]
  },
  {
   "cell_type": "markdown",
   "metadata": {},
   "source": [
    "#### ▶️ Running the rainfall model\n",
    "\n",
    "We can run the entire rainfall model using this sequence of commands:\n",
    "\n",
    "```python\n",
    "    alpha, lambda_by_month, data = analyze_rainfall(station='JACOBSON FARM')\n",
    "    R = simulate_rainfall(lambda_by_month, alpha)\n",
    "```\n",
    "\n",
    "<div class=\"alert alert-success\">✏️ <strong>DIY Code:</strong> Use the model functions to generate rainfall for 30 years for the station <code>RUMURUTI (NRM)</code>.</div>"
   ]
  },
  {
   "cell_type": "code",
   "execution_count": 9,
   "metadata": {},
   "outputs": [],
   "source": [
    "# This cell intentionally left blank"
   ]
  },
  {
   "cell_type": "code",
<<<<<<< HEAD
   "execution_count": 10,
=======
   "execution_count": 18,
>>>>>>> e2aee672c8dad89d86420f4546ec1e0807abc5f7
   "metadata": {},
   "outputs": [],
   "source": [
    "alpha, lambda_by_month, data = analyze_rainfall(station='JACOBSON FARM')\n",
    "R, dt = simulate_rainfall(lambda_by_month, alpha, planting_date=datetime(year=2018,month=12,day=1))"
   ]
  },
  {
   "cell_type": "code",
   "execution_count": null,
   "metadata": {},
   "outputs": [],
   "source": []
  },
  {
   "cell_type": "markdown",
   "metadata": {},
   "source": [
    "## Coding up the ecohydrological model\n",
    "\n",
    "Now that we have a 2-line method for generating rainfall, let's implement our model. Here's the code from above, ready to run."
   ]
  },
  {
   "cell_type": "code",
   "execution_count": 11,
   "metadata": {},
   "outputs": [],
   "source": [
    "def run_model(R,Zr=500,ET_0=3.5,S_0=30,n=0.4,):\n",
    "    \"\"\" Runs a simple model with constant ET_o. \n",
    "    \n",
    "    Usage: run_model(R,Zr=500,ET_0=6.5,S_0=30,n=0.4,)\n",
    "        Note: R must be a single-dimension array\n",
    "        n = 0.4  # Porosity, [m3/m3]\n",
    "        Zr = 500 # Rooting depth [mm]\n",
    "        ET_0 = 6.5 # Daily reference evapotranspiration [mm]\n",
    "    \"\"\"\n",
    "    S_max = n*Zr    # Max soil water storage [mm]\n",
    "    \n",
    "    S = np.zeros(len(R)) # Pre-allocate the array for S\n",
    "    dSdt = np.zeros(len(R))# Pre-allocate the array for dSdt\n",
    "\n",
    "    S[0] = 16  # Initial soil water storage [mm]\n",
    "\n",
    "    for t in range(len(R)):\n",
    "        dSdt[t] = R[t] - ET_0\n",
    "        try: # This try block avoids errors from trying to access t+1 on final timestep.\n",
    "            S[t+1] = S[t] + dSdt[t]\n",
    "            if S[t+1] > S_max:\n",
    "                S[t+1] = S_max\n",
    "            if S[t+1] < 0:\n",
    "                S[t+1] = 0\n",
    "        except IndexError:\n",
    "            return {\n",
    "                'dSdt': dSdt,\n",
    "                'S': S,\n",
    "                'R': R,\n",
    "                'ET_0': ET_0,\n",
    "                'S_max': S_max\n",
    "            }"
   ]
  },
  {
   "cell_type": "markdown",
   "metadata": {},
   "source": [
    "### Running the ecohydrological model (single season)\n",
    "\n",
    "To summarize, running the model requires stiching all the code above into the following four steps:\n",
    "\n",
    "1. **Analyze station rainfall data.** This provides the necessary $\\lambda_r$ and$\\alpha$ values for implementing the model.\n",
    "\n",
    "```python\n",
    "station = 'JACOBSON FARM'\n",
    "alpha, lambda_by_month, rain_data = analyze_rainfall(station='JACOBSON FARM')\n",
    "```\n",
    "\n",
    "2. **Simulate seasonal rainfall.** This provides a timeseries of rainfall based on planting date that we can use in our ecohydrological model.\n",
    "\n",
    "```python\n",
    "planting_date = datetime(year=2018, month=11, day=15)\n",
    "R, dt = simulate_rainfall(lambda_by_month, alpha, planting_date=planting_date)\n",
    "```\n",
    "\n",
    "3. **Run the ecohydrological model.** Now that we have our rainfall data, we can run the model.\n",
    "\n",
    "```python\n",
    "    output = run_model(R)\n",
    "```\n",
    "\n",
    "Here's everything all together:"
   ]
  },
  {
   "cell_type": "code",
   "execution_count": 12,
   "metadata": {},
   "outputs": [],
   "source": [
    "# Step 1. Analyze station rainfall data.\n",
    "station = 'JACOBSON FARM'\n",
    "alpha, lambda_by_month, rain_data = analyze_rainfall(station=station)\n",
    "\n",
    "# Step 2. Simulate seasonal rainfall\n",
    "planting_date = datetime(year=2018, month=11, day=15)\n",
    "R, dt = simulate_rainfall(lambda_by_month, alpha)\n",
    "\n",
    "# Step 3. Run the ecohydrological model.\n",
    "output = run_model(R)\n",
    "S = output['S']\n",
    "dSdt = output['dSdt']"
   ]
  },
  {
   "cell_type": "code",
   "execution_count": 13,
   "metadata": {},
   "outputs": [
    {
     "data": {
      "text/plain": [
       "Text(0.5,1,'Total rainfall    188 [mm],  avg. S:  3.79 [mm]')"
      ]
     },
     "execution_count": 13,
     "metadata": {},
     "output_type": "execute_result"
    },
    {
     "data": {
      "image/png": "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\n",
      "text/plain": [
       "<Figure size 432x288 with 1 Axes>"
      ]
     },
     "metadata": {
      "needs_background": "light"
     },
     "output_type": "display_data"
    }
   ],
   "source": [
    "plt.plot(dt,S)\n",
    "plt.title(\"Total rainfall {rain:6.0f} [mm],  avg. S:{S:6.2f} [mm]\".format(\n",
    "    rain=sum(R),\n",
    "    S=S.mean()))\n",
    "plt.xlabel('Date')\n",
    "plt.ylabel('S')"
   ]
  },
  {
   "cell_type": "markdown",
   "metadata": {},
   "source": [
    "### Running the ecohydrological model (multiple seasons)\n",
    "\n",
    "Running the model for multiple seasons requires only a slight modification to how we collect the output. Instead of a single dictionary with the output, we create a list of dictionaries, which each contain output for one simulation. We are also going to include more variables explicitly in Step 2:\n",
    "\n",
    "```python\n",
    "planting_date = datetime(year=2018, month=10, day=15)\n",
    "n_seasons = 100\n",
    "days_to_maturity = 150\n",
    "```\n"
   ]
  },
  {
   "cell_type": "code",
   "execution_count": 29,
   "metadata": {},
   "outputs": [
    {
     "data": {
      "text/plain": [
       "Text(0.5,1,'Mar 15 to Aug 12, n=100, S_avg=14.97')"
      ]
     },
     "execution_count": 14,
     "metadata": {},
     "output_type": "execute_result"
    },
    {
     "data": {
      "image/png": "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\n",
      "text/plain": [
       "<matplotlib.figure.Figure at 0x10994db38>"
      ]
     },
     "metadata": {
      "needs_background": "light"
     },
     "output_type": "display_data"
    }
   ],
   "source": [
    "# Step 1. Analyze station rainfall data.\n",
    "station = 'JACOBSON FARM'\n",
    "alpha, lambda_by_month, rain_data = analyze_rainfall(station=station)\n",
    "\n",
    "# Step 2. Simulate n seasons of rainfall\n",
    "from datetime import timedelta\n",
    "\n",
    "planting_date = datetime(year=2018, month=3, day=15)\n",
    "n_seasons = 100\n",
    "days_to_maturity = 150\n",
    "\n",
    "R, dt = simulate_rainfall(lambda_by_month, alpha, planting_date=planting_date, n_seasons=n_seasons)\n",
    "\n",
    "# Step 3. Run the ecohydrological model.\n",
    "output = []\n",
    "S = []\n",
    "dSdt = []\n",
    "for r in R:\n",
    "    output = (run_model(r))\n",
    "    S.append(output['S'])\n",
    "    dSdt.append(output['dSdt'])\n",
    "\n",
    "# It's very easy to turn a list of lists into a `DataFrame`\n",
    "df_S = pd.DataFrame(S)\n",
    "plt.plot(dt, df_S.mean())\n",
    "plt.title(\"{date} to {end}, n={n}, S_avg={s:5.2f}\".format(\n",
    "    date=datetime.strftime(planting_date,\"%b %d\"),\n",
    "    end=datetime.strftime(planting_date+timedelta(days=days_to_maturity),\"%b %d\"),\n",
    "    n=n_seasons,\n",
    "    s=df_S.mean().mean()))\n",
    "plt.ylabel('Average soil moisture')\n",
    "plt.xlabel('Date')"
   ]
  },
  {
   "cell_type": "markdown",
   "metadata": {},
   "source": [
    "## Effect of planting date on average soil water availability\n",
    "\n",
    "We can use our model to see how planting date alters the average soil water availability during the growing season.\n",
    "\n",
    "We will use a for loop to iterate across planting dates\n",
    "\n",
    "```python \n",
    "station = 'JACOBSON FARM'\n",
    "alpha, lambda_by_month, rain_data = analyze_rainfall(station=station)\n",
    "n_seasons = 100\n",
    "days_to_maturity = 150\n",
    "\n",
    "planting_dates = np.arange(datetime(2017,1,1), datetime(2017,12,31), timedelta(weeks=1)).astype(datetime)\n",
    "\n",
    "S_avg = []\n",
    "for planting_date in planting_dates:\n",
    "    R, dt = simulate_rainfall(lambda_by_month, alpha, planting_date=planting_date, n_seasons=n_seasons)\n",
    "\n",
    "    # Step 3. Run the ecohydrological model.\n",
    "    output = []\n",
    "    S = []\n",
    "    dSdt = []\n",
    "    for r in R:\n",
    "        output = (run_model(r))\n",
    "        S.append(output['S'])\n",
    "        dSdt.append(output['dSdt'])\n",
    "    df_S = pd.DataFrame(S)\n",
    "    S_avg.append(df_S.mean().mean())\n",
    "```"
   ]
  },
  {
   "cell_type": "code",
   "execution_count": 31,
   "metadata": {},
   "outputs": [
    {
     "data": {
      "text/plain": [
       "Text(0.5,0,'Planting Date')"
      ]
     },
     "execution_count": 31,
     "metadata": {},
     "output_type": "execute_result"
    },
    {
     "data": {
      "image/png": "iVBORw0KGgoAAAANSUhEUgAAAYsAAAEKCAYAAADjDHn2AAAABHNCSVQICAgIfAhkiAAAAAlwSFlzAAALEgAACxIB0t1+/AAAADl0RVh0U29mdHdhcmUAbWF0cGxvdGxpYiB2ZXJzaW9uIDIuMS4yLCBodHRwOi8vbWF0cGxvdGxpYi5vcmcvNQv5yAAAIABJREFUeJzt3Xd4XGeV+PHv0aj3LluWLcmSZTtO3GMnjtM7kEISSggQQi9LCD2w7A92gV16J0BIY0M2y0JCGiRgQhK3xLEt17hblmzLtixZvUsz5/fHXDmy1UbSjKbofJ5nHkl37tx7rq3RmfuW84qqYowxxgwnKtgBGGOMCX2WLIwxxozIkoUxxpgRWbIwxhgzIksWxhhjRmTJwhhjzIgsWRhjjBmRJQtjjDEjsmRhjDFmRNHBDsAX2dnZWlRUFOwwjDEmrGzevLlOVXP8caywSBZFRUVs2rQp2GEYY0xYEZEqfx3LmqGMMcaMyJKFMcaYEVmyMMYYMyJLFsYYY0ZkycIYY8yILFkYY4wZkSULY4wxI7JkYUwEOljbypr9tcEOw0QQSxbGRKAfr9rH3Y9vCXYYJoJYsjAmAh2sbaOhvYeWzp5gh2IihCULYyKMx6McqmsFoLqxI8jRmEgRsGQhIg+JyEkR2XnW9k+LyB4ReUNEvheo8xszWZ1o7qSzxwNAdYMlC+MfgbyzeAS4rv8GEbkcuAlYoKrzgB8E8PzGTEoVtW2nvz9qycL4ScCShaquBurP2vwJ4Duq2uXsczJQ5zdmsqpwmqBErBnK+M9E91mUAReLyAYReUVEzp/g8xsT8Spq20iKdVGclcTRhvZgh2MixESvZxENZAIXAOcD/yciM1VVz95RRD4KfBRgxowZExqkMeGsoq6N4pwkMhJjrc/C+M1E31kcBZ5Ur9cBD5A92I6qer+qLlXVpTk5flnoyZhJoaK2leLsZAoyEq3PwvjNRCeLp4DLAUSkDIgF6iY4BmMiVmePm+rGDmZmJ1GQkcCptm46ut1+P8/TW6t5aku1349rQlfAmqFE5HHgMiBbRI4CXwceAh5yhtN2A3cO1gRljBmbylNtqMLMnKTT26ob2ynNTfHbOerbuvnKkztIiY/mpoX5iIjfjm1CV8CSharePsRT7w3UOY2Z7A45w2ZLcpLp7PHeURxt6PBrsnh43SHau920d7upqGujJCfZb8c2octmcBsTQSrqvMmiODuJgoxEwL9zLZo6enhkXSULpqcDsP6AtSJPFpYsjIkgB2tbyUuNIykumtyUOGJc4tdk8d/rK2np6uW/3n4e09ITWH/wlN+ObUKbJQtjIkhFbRszs73NQlFRQn56gt8m5rV19fLgukNcNTeXc/JTubAki1crTuHxWLfjZGDJwpgIoapU1Lae0bk9LT3BbxPzHttQRWN7D5+6vBSAi0qzaGzvYfeJZr8c34Q2SxbGRIj6tm6aO3uZ2a/DuSAjwS8T8zp73Ny/+hAXz8pm0YwMAC6c6Z0itf6ANUVNBpYsAkxVOXCylftXH+T2+1/jly8dCHZIJkL1dW6feWeRyMmWrtMjo8bqf18/TF1rF//i3FUATEmLZ2ZOEusPWif3ZDDR5T4mhR63hw0V9by4p4Z/7jlJ1SlvM0BirIuKulY+eVmJjU03fldR6y0gODP7zWRRkJEAwPGmTor7bR+Nrl43v1ldwbKiTJbPzDrjuRUlWfy5vJoet4cY19CfPSvr2oiNjiI/PWFMMZjgszsLP1NV7np4I+99cAP/s+EwJTnJfOvmc1l/7xV89S1zqWnuOp08jPGnito2Yl1Rp4fMAkxzksV4+i2eLK/meFMnn76ydMBzK0qyaet2s/1o05Cv7+718K77X+XLT2wfcwwm+OzOws/+9kYNaw/U8bmry/jIxTNJiHWdfu6CmZkAvH6onqIxfsozZigVdW0UZiXiinrzrrXvzmKs/Ra9bg/3vXyABdPTWVk6sIzbhc6dxvoDdSwpzBj0GM/vPE5Ncxetnb24PXpGfCZ82J2FH3X3evjO87spzU3mk5eVnJEowDurNispltcOWYeg8b+zR0IBTEmNxxU19rkWz2w7xpH6Dj59eemgTacZSbGcMzV12PkWD62rRATaut0cONk6pjhM8Fmy8KP/2VBF5al2vvqWOUQP0n4rIiwrzuT1Q2evCWXM+PS6PRyub6c4+8zSG9GuKKakxo9prkXVqTa+9ZfdzMtP5cq5uUPut6Iki82HGwbtRC8/3MC2I43ceWERAFuPNIw6DhMaRkwWIpInIg+KyPPOz+eIyIcCH1p4aero4acv7uei0iwunz30G2tZcSZHGzpsBTPjV0caOuhx64A7C/D2W4y2z6KxvZu7HtmIR5VfvGfxsAMyVpRm0d3robxqYCJ4eF0lKfHRfOHa2aTGR7PlcOOo4jChw5c7i0eAvwH5zs/7gHsCFVC4uu/lAzR29PDVt8wd9o21vNjbxruhwpqijP8ccpZSLRkkWYx2rkV3r4ePPbqZo/Ud3P++pSOOolpWnIUrSgY0RR1v6uCvO47zrqXTSY6LZuGMDLYesWQRrnxJFtmq+n94FypCVXsB/xfID2NH6tt5eF0ltywqYF5+2rD7zpmSQmp8tDVFGb+qcKrNzsweWAG2ID2BE82d9Lg9Ix5HVbn3ye1sOFTP998xn2XFmSO+JjkumgUFaaw7a77Fo69WoarcuaIIgIXT09lX00JrV68PV2RCjS/Jok1EsgAFEJELgKHHyU1CP/j7XgT4wrVlI+4bFeXtt9hgycL40cHaNjISY8hIih3wXEFGIh6FE02dIx7n5/88wJPl1Xz2qjJuWjjN5/OvKMlm+9EmWjp7AO+M78dfP8zV5+QxPdM7lHfRjHQ8CtuP2t1FOPIlWXwOeAYoEZF1wH8Dnw5oVGFk25FGnt56jI9cPJOpab5NOFpenMWhujZONo/85jXGF96lVAdvLuqba3FkhH6Lp7ZU86NV+7hl0TTuHmROxXBWlGTh9igbK+tPH6uhvYe7Lio+vc/CAm9Zc2uKCk/DJgsRiQLigUuBFcDHgHmqarNr8N6yf/uvu8lOjuXjl5X4/Lq+W3u7uzD+cqiu7YyaUP35MtdiY2U9X/rTdpYXZ/Jft5436goDiwsziI2OYv2BU6gqD6+rZO7UVJb3a8bKSIqlKCuRrdbJHZaGTRaq6gF+qaq9qvqGqu5U1Z4Jii3krdpVw+uH6rnnqjKS43yf3zgvP5WkWNeI/RadPW6f2pnN5NbS2cPJlq5BR0IBTE1LQGT4RZC++/weclLi+M37lhAX7Rpyv6HEx7hYWpjBuoOnWH/wFHtrWrjroqIBSWfRjAy2HGnEVlMOP740Q70oIreKFTMa4P7VFczMTuLd508f1euiXVEsKcpkwzCT83rcHt7287V89ckd4w3TRLhDdUN3bgPERkeRlxI/ZLKoa+1i8+EGbltSQHriwD4PX60oyWL38WZ+8o99ZCXFcuOC/AH7LJyeTm1LF8eG6T9RVW791Xq+/7c9Y47F+J8vyeJjwB+BLhFpFpEWEZn0Bez73mA3LZw26AS8kSwvzmRfTSv1bd2DPv/E5qMcONnKqt01uG1xGTOMitPrbg89xHVaRgLVjYP3Wfxz90lU4epz8sYVx4Ul3nIgGysbeM/yGcTHDLxDWegsxzpcU9T2o01srmrg+R0nxhWP8a8R/8qpaoqqRqlqrKqmOj+nTkRwoeyfe7xvsKvOGXoC3nD614k6W3evh5//8wAJMS4a23vYUW2Dz8zQKuraiBKYkZU45D4FGQlD3lms2l1Dflo88/LH97aeX5BGUqyL6CjhvRcUDrrP3KmpxEZHseXw0DO5nyw/Cniv62SLDQIJFb7M4L5ksMdEBBfK/rHL+wY7Z+rY3mDnTUsnPiZq0KaoP2w6QnVjB/91y3mIwOp9teMN10SwitpWCjISh+1rmJaewImmTnrP6gPr6HazZn8tV52TN+6y+TGuKN53YREfu3Qmeanxg+4TGx3FufmpQ46I6u718My2Y6fLrG88ZOVBQoUv7Sdf7Pf4N+BZ4BsBjCnkdfa4WbO/blxvsNjoKBbPyBhwZ9HZ4+aX/zzAksIMblqYz3nT0ixZmGFV1LYN2bndpyAjkV6PUtPSdcb2tQfq6OzxjLsJqs+918/hi9fOGXafRTMy2FHdNOjgjVf21dLQ3sOXr59DYqyL163oZsjwpRnqhn6Pq4FzgUmd7tcfrKOjx81Vc8f3BltWnMmu4800dbw5wOzx1w9zormTz19dhohwyawcthxppLnTBqGZgTwe9Q6bHaJzu8+0IYbPrtp1gpS46NNlaCbCwunpdPV62HO8ZcBzT5YfJTs5livm5LKkMMOGl4eQsVSdPQrM9Xcg4WTVrpMkx0WzfObIpRCGs7w4C1XY5Exk6uh288uXDnLBzExWOGsHXFKWg9ujrD9gS1eagWpaOunocftwZzFwESS3R3lx90kum5NLbPTEFaA+3cl9VgXaxvZuXtx9khsXTCPGFcWyokz21rTQ2D74IBAzsXzps/i5iPzMefwCWAOUBz600OTxKC/uruHSspwxjUfvb9GMdGJdUaeboh59rZK61i4+d/XsM/ZJjovmlX2WLMxAb9aEGj5ZTEsfeGex5XADp9q6/dYE5auCjASyk+PYcla/xXPbj9Pt9nDLYm+ZkWXFmah6R1eZ4PNlJtmmft/3Ao+r6roAxRPydlQ3cbKla8yjoPqLj3GxYHoarx2qp62rl1+/UsHFs7LPKN4W44piRUkWq/fVoqq2drc5w+l1t4eYvd0nPsZFdnLcGSOiVu2uIcYlXDY7J6Axnk1EWDg9fcDw2SfLjzI7L+X0qKwF09OJjY7i9UOnJjyhmYF8ufdMV9XfOY/HVHWdiHxmpBeJyEMiclJEdg7y3OdFREVk4DqNIe4fu2twRcmwa1aMxvLiLHZWN3Hfyweob+vms1cPLEZ4SVkO1Y0dVDiTr4zpc+BkK0mxLvJS40bc1zvXol+y2FXDBTOzSI2PCWSIg1o0I52Kujaa2r19cYfq2ig/3MjbF087/YEoPsbFwunpVqE5RPiSLO4cZNsHfHjdI8B1Z28UkenANcBhH44RclbtqmFpYca4Zrr2t6w4E7dHue/lg1w+O4fFMwauY3xpmfeTn42KMmfbfLiB+QXpPt1xFvRbBOlgbSsVtW1B+8S+qK/fwqlA++fyo4jAzWdVul1enMnOY81W1jwEDJksROR2EXkWKBaRZ/o9XgZGTPWqunqI/X4MfAmn5Hk4OVLfzp4TLX59gy0pzMAVJahyRl9Ff9MzEynOTrJkYc7Q2tXLrmPNnO/DmhPgXdfiWGMnHo+yalcNAFeOc0TfWJ1XkIaIt9/E41Ge3FLNytJspqSdOT+j78PU5kFW4TMTa7g+i/XAcSAb+GG/7S3AmKrOishNQLWqbgvHtvd/7Pb/GywpLppLZmWTmhDDeQVDL5x08axs/rjpKF297nF3rJvIUF7VgEfh/KKBd6ODKchIoNvtoba1i1W7apiXn3q643uipcTHUJabwtYjjWysrOdoQwefv2ZgE+ziGd4PU68fOnX6DtsEx5B3FqpapaovA1cBa1T1FbzJowAY9V96EUkEvgr8Px/3/6iIbBKRTbW1ofGJ+h+7ayjNTR5xmcnReugD5/OTdy0cdp9LZuXQ0eNmk40MMY5NlfVEiXeSmy/65lpsPdJI+eGGoHcaL5yeztYjjTxZXk1irItr500ZsE9SXDTnTUuzfosQ4EufxWogXkSmAX8H3oe3P2K0SoBiYJuIVOJNOuUiMvA3BFDV+1V1qaouzckJ/ieKpo4eNlTUj3si3mBEZMQ25wtLsohxiTVFmdM2VjYwLz/N5/L4BRne2lHe5U7HXzhwvBbNSKexvYcntxzl+nOnkhg7+HUsL85k25EmOntsNedg8iVZiKq2A7cA96nqO4B5oz2Rqu5Q1VxVLVLVIryT+xaraliUlnxlXy29HuVqPwyZHYukuGiWFGbwiiULg7eG0pYjDSz1sQkK3pxrsfZAHdPSE8Zc18xfFs7wdnL3uJVbFw+9hOuy4ky63R622KJJQeVTshCRC4E7gL8420ZsNBeRx4FXgdkiclREPjT2MIPvH7tqyEqKZeF039+c/nZJWQ57TrTYcqyGN4410dnjYVmR71UEkuKiyUj0DpO92g+FA8drVm4KSbEupqbFc8HMocuNLC3KRGTwCs191u6vO2NYsPE/X5LFPcBXgD+r6hsiMhN4aaQXqertqjpVVWNUtUBVHzzr+SJVDYtpyT1uDy/tPcmVc3NxRQXvDXbJLGcI7f6w+GczAdS31vWSUdxZwJtNUcFuggJwRQmfvbqMr7xlLlHDvK/SEmKYOyWV1ysHLyq4el8t73toA9953hZLCiRfCgm+oqo3qup3nZ8rVPXuwIcWOjYeqqelszcg/RWjcc7UVLKTY/3Sb9Hj9rBmf+2Qiy+Z0LaxsoGirERyUwYvBT6UGZmJpMZHn1ElIJg+fPHMQVfUO9uy4kw2VzXQ3Xtmpdqa5k4++4etqMKa/bW2UFgADdkzJiI/UdV7nLkWA/4HVPXGgEYWQlbtriEuOoqVs4I74TwqSrh4Vg6v7KvF49HTn8aaO3v4y/bjPLP1GElx0Vw2O4fLZuec/hTZR1V541gzT5Qf5emtx6hv62ZBQRp//PiKCS0kZ8ZHVdlUObbBFl+8djYfXFlMzBhWdwym5cWZPLK+kp3Hmk5PXO11e7j78S20d7u5+8pZ/OzF/Ww/2ujz6DAzOsMNo3jU+fqDiQgklL2yr5YLZmYNOVpjIl1Sls2ft1Szo7qJls5e/rj5CC/sPEFXr4eZOUl0N3hOzwcpzU3msrIcVs7KZn9NK0+UH2XPiRZiXVFcdU4us/NS+fE/9vGff93NN24c9ZgFEyQHa1tpaO/h/FH0V/Qpyk6iyM9DvydC38TDDRX1p5PFz17cz4ZD9fzwHQu4Yk4uv/jnfl7ZV2vJIkCG/Ounqpudr6+ISCzQN2Nmr6pOmsUVqhs7qKht4z3LZgQ7FAAudvot3vmbV+nq9ZAaH807lhZw25LpLHAm9R2sbeXlvbW8vLeW/361igfWHgK8hdm+efO53DB/6ulyJY0d3Ty8rpLlxZlcf97U4FyUGZW+KqyjGQkV7rKT4yjJSeL1Q6f4xGUlrNlfy89fOsA7lhRw65ICwPv7/fLeWu65auDkPjN+I35UFpHLgN8BlXgn400XkTudch4Rb+1+b//AJSEyezQ7OY5bFxdwqq2L25YUcNXcPOJjzhycVpqbQmluCh++eCZtXb1sqmpgWnoCpbkDK5N+5fq5bDncyJf+tJ25U1PD8lPnZLPxUD3ZybF+nxwa6pbPzOLZrcc43tTBPf+7lVm5yfzHTeeefv7Sshx++uJ+Gtq6yUjyT+028yZfGi5/CFyjqpeq6iXAtXjrO00Kq/fXkZcax6xB/tAGyw/fuYBH7lrG2+bnD0gUZ0uKi+bSspxBEwV4l3f95R2LcbmETz5WbhOfwsDGqnqWFmYGfejrRFtenElLVy93/HYD7d1ufvmexSTEvvn7f2lZjrej2xYKCwhfkkWMqu7t+0FV9wETX9M4CNweZd2BOlaW5kT0G3NaegI/eucCdh1v5j+e2xXscCa1ndVN/OzF/agOPqrnRFMnR+o7fC4eGEn6+mgq6tr45s3nMisv5Yzn5xekk5EYwyt7beJqIPi0+JGIPAD83vn5Ds5cEClivXGsicb2Hi4O8iioiXDFnDw+cVkJv3r5IMuKMrl50dAzak3gPLyukifKjzI9M4G3LyoY8Hzf/ApfiwdGkvz0BBZOT2defiq3LRn4b+MaYrSg8Q9f7iw+AewC7nYeu5xtEW+NM/ntotLITxYAn7+6jGVFmXz1zzs4cLI12OFMSuWHvZ3X3/7LHpo6Bo4j2VRZT2KsK+ilOoLlz59cwbduPnfI5y8ty6GutYvdJ5onMKrJwZdJeV2q+iNVvcV5/FhVuyYiuGBbu7+OuVNTyUkZeRWySBDtiuLn71mEKjz6amWww5l0TrV2caiujbfNn8qpti5+9Pe9A/Z5vbKBxTMyiA6zeRL+MlLRzYvLvB/srIaa/434GycibxORLSJSLyLNItIiIhGfttu7e9lUVT8pmqD6y0uNZ+H0dDYftlLoE63cKZR354oi3ru8kEdfq2JnddPp55s7e9hzonlSDZkdrdyUeOblp/Ky9Vv4nS8fT36Cd2nVLFVNVdUUVY34e+ANh+rpceukSxbgXb1v9/EW2rttKcuJtLmqgRiXcN60NL5wzWwyk2L52lM78TglLMqrGlBlVMUDJ6NLy3Ior2qguXPSTAebEL4kiyPATh1qeEaEWrOvjtjoqDHNkg13SwozcHuUbUeaRt7Z+E15lXd9ivgYF2mJMXzl+rlsPdLIHzYdAbyd264oOV3a2wzu0rIcej3K+gODFx40Y+NLsvgS8FcR+YqIfK7vEejAgm3tgVqWF2eOOI8hEi1y/hiVW1PUhOnu9bDtaCNLCt9sYrpl8TSWFWXy3Rf2UN/WzcbKBs7NTw2JsjOhbHFhBilx0dZv4We+JItvA+1APJDS7xGxTjR1sq+mlZWTZBTU2dITYynJSWJzlSWLibLreDNdvZ4zkoWI8B83z6Ols5dvPbeLbUcaJ+Wd7mjFuKK4qDSb1ftqh5yvYkbPl48o+ao69Fi1CLTWmQEa7CqzwbSkMIO/76pBVSN6QmKo6EvM/ZMFwJwpqdy1ouh0fa+llix8cunsHF544wQHa1spzY3oz7YTxpc7i7+KyDUBjySErNlfS3ZyLHOnRHw//pCWFGbQ2N5DRV1bsEOZFMqd+l15qQPXp7jn6jLyUr3DtyfjZLyx6KvlZqOi/MfXSXkviEjHZBg663FKfFxUmj2pZ4D2fcK1pqjAU1U2VdUPuKvokxwXzU/fvYjPXlVGVvLkmPMzXtPSE5iVm2z9Fn7ky6S8FFWNUtWEyTB0ds+JFupau0+XAp+sZmYnk5YQQ7kli4A71tRJTXPXsPMnLpiZxWeumjWBUYW/S8ty2FBRb0PA/WRyTgMdxhqnJPlk7dzuExUlLJqRbiOiJkDf3dtiW7THry6bnUu328OGivpghxIRLFmcZe2BOsrykpmSNrq1jSPRkhkZ7KtpHbRGkfGf8qoGEmNdzJliHbH+dH5xBomxrtMrR5rxsWTRT2ePmw2H6llZOrmboPr0taFvsbuLgNpc1cDC6emTtt5ToMRFu7hybh7P7zxBr9sT7HDC3pC/nSKSOdxjIoOcKBsr6+nu9ZwuRjbZLZieTpRg/RYB1N7dy67jzUN2bpvxuWH+VOrbull/0GZzj9dw8yw2A4p3KdWzKTAzIBEFQWePm3UH6vjtmgpiXVEsn4QLywwmKS6auVNTTxe4M/637UgTbo+y2JJFQFw6O4eUuGie3XYsZJZGDldDJgtVLZ7IQAJhX00LtS1dJMdFkxIfTUp8DCnx0cTHuKht6eKlPSdZtbuGNftr6ezxkBwXzaevKLVyCv0snpHBk+VHcXsU1yQeShwofQMIFk+3ZBEIcdEurpk3hRfeOMG33n4ucdGTr3yPvwz5V1FE5qjqHhFZPNjzqloeuLD843frK3lsw+EB22NdUfR4PKh6x2O/a+l0rjonj+XFWcRGW7txf0sKM3j0tSr2nmjhnPyIHTEdNJurGpiVm0xa4qRYqTgoblgwlSfKj7J6Xx1Xn5MX7HDC1nAfoT8HfBT44SDPKXBFQCLyo49fWsKNC/Jp6eylpavH+9V5JMe5uGJOHnOnplg5i2Gcnpx3uMGShZ95PEr54Qaumzcl2KFEtItKs8lIjOHZbccsWYzDcM1QH3W+Xj6WA4vIQ8DbgJN9taVE5PvADUA3cBC4S1UD1iA+PTOR6ZmJgTr8pFCQkUBOShxbqhp43wWFwQ4nolTUtdHY3mP9FQEW44ri+vOm8ufyatq7e62ZeYx8WSkvRkTuFpE/OY9/ERFf7pkfAa47a9sq4FxVnQ/sA74y6ojNhBIRlszIsJXzAqB8iOKBxv9umJ9PR4+bf+45GexQwpYvDfS/ApYA9zmPJc62YanqaqD+rG1/V9W+ufevAQWjitYExeLCdKpOtVPbMimWXp8wm6saSE+MYWZ2UrBDiXjLijPJTYnj2W3Hgh1K2PIlWZyvqneq6j+dx13A+X449weB5/1wHBNgfZ98rfSHf20+3MCSGRnWZzYBXFHCW+dP5aW9tbTYcqtj4kuycItISd8PIjITcI/npCLyr0Av8Ngw+3xURDaJyKbaWqscGUzz8tOIdUVZsvCjxvZuDpxstf6KCXTDgny6ez2s2mXlP8bCl2TxReAlEXlZRF4B/gl8fqwnFJEP4O34vmO4db1V9X5VXaqqS3NybDJNMMXHuDh3WqrN5PajLc5ER+uvmDiLpqczLT3BmqLGaMRhAar6oojMAmY7m/aq6pgar0XkOrxrel+qqu1jOYYJjiWFGfzu1Sq6ez02F8UPXtxTQ6wrivkFacEOZdIQEW5YkM8DaypoaOsmIyk22CGFFV9GQ70DiFXV7cCNwONDTdQ763WPA68Cs0XkqIh8CPgF3vW7V4nIVhH59fjCNxNlSWEG3b0e3jjWFOxQwl5jezdPbK7mpoX5Noxzgt2wYCq9HuWFN04EO5Sw48tHxH9T1RYRWQlcCTyIb6OhblfVqaoao6oFqvqgqpaq6nRVXeg8Pj7eCzATo2+tBasTNX7/u/EIHT1u7roo7CvqhJ1zpqYyMyfJmqLGwKcObufrW4HfqupfALt/m2RyU+PJTo5j74mIXVF3QvS4PfxufSUrSrJsRnwQiAg3zM/n1YpTnGzuDHY4YcWXZFEtIr8B3gX8VUTifHydiTCzpySzt6Y12GGEtRd2nuB4UycftLuKoLlhwVRUsaaoUfLlj/47gb8B1zqlOTLxjpAyk0xZXgr7a1rweIYcxGZG8ODaQxRlJXLFnNxghzJpleamkJMSx46j1v82GiMmC1VtV9UnVXW/8/NxVf174EMzoWZ2Xgrt3W6qGzuCHUpYKj/cwNYjjdx1UTFRVu49qEpzkjlQa3fJo2HNScZnZc4a0XtPtAQ5kvD04NpDpMRHc9sSq3ITbKVbmGeYAAAgAElEQVS5yRw42cowU73MWWzcnvHZrNxkAPbWtHCVlXoelerGDl7YeYIPrSwmKc7edsFWkpNES2cvta1d5KbEBzUWt0d5ZH0lda1ddHS76exx09HjpqPb+/VL187hvBCYj2O/tcZnKfExTEtPYF+N3VmM1n+vrwTgzhVFQY3DeJXmeu+SD5xsDXqyeK3iFN98bhcxLiEhxkVCrIuEGBfxzqPbPa7qSn4z3Ep5LXgXORrwFKCqauP+JqGyvGRrhhqltq5eHn/9MNfNm8K09IRgh2PwNkMBHDzZyoqS7KDGsrGyHhHY/G9XkxofuismDrf4UcpEBmLCQ9mUFNYdOEWP20OMy7q8fPFE+VGaO3v54EobLhsq8lLjSI6L5mBtW7BDYXNVA7PzUkI6UcAoOrhFJFdEZvQ9AhmUCV2z81LodnuoOhX8N1k48HiUh9dVsmB6OotnpAc7HOMQEUpykjhwMrgjotweZcvhxrAoKOlLbagbRWQ/cAh4BajE1qGYtMryvDec+2xynk9e2VfLobo2PrSy2NatCDElzoioYNpzopnWrl6WFkVAsgC+CVwA7FPVYrz1oV4LaFQmZJXmJhMlNnzWV8/vPE5qfDTXnzsl2KGYs5TkJHOiuZPWrt6Rdw6QzU7Z/6WFmUGLwVe+JIseVT0FRIlIlKq+BCwNcFwmRMXHuCjKSrIRUT5QVdbsr2PlrGzr3wlB/Tu5g2VTZQO5KXEUZIT+wAdffoMbRSQZWA08JiI/BazBehIry0thryWLER2sbeV4UycXz7LFu0JRX7IIZlPU5qoGlhaFx9K6viSLm4AO4LPAC8BB4IZABmVCW9mUFCrr2ujsCY3x36Fq9b46AFaWBndophncjMxEoqOEg0Eq+3G8qYPqxg6WhEETFPi2Ul7/u4jfBTAWEyZm56XgUe8n53n5wZ9ZGqrW7K9lZnYS0zMTgx2KGUSMK4qi7OCNiHqzvyL0O7fBt9FQt4jIfhFpEpFmEWkREVvUYBKbPcV7+279FkPr6nXzWkU9F8+yu4pQFsyCgpsqG0iIcYXNuia+NEN9D7hRVdNUNVVVU2z29uRWmJVEjEvYe8KGzw5lc2UDHT1u668IcSW5SRw+1U6P2zPh595c1cCC6WlhM/jBlyhrVHV3wCMxYSPGFUVJTrLdWQxj9f46oqOEC0qygh2KGUZpbjK9Hp3wSaZtXb3sOt4cFkNm+/hSSHCTiPwBeAro6tuoqk8GLCoT8sryUk63uZqB1uyvZXFhBslWYTaklea8WVCwr7jgRNh2pBG3R1kSBpPx+vhyZ5EKtAPX4B0FdQPwtkAGZULf7CkpVDd20NLZE+xQQk5daxdvHGvmEuuvCHkzc5IAJrxG1KaqBkRg8YzwSRa+jIa6ayICMeGlr+zH/pOtYfULPxHWHfAOmbX+itCXFBdNflr8hI+I2lTVQFluCmkJoV08sD9fRkMViMifReSk83hCRGypr0ludl+NKCv7McDqfXVkJMZw7jQbVhwOJrpGlNujbKlqYHGYDJnt40sz1MPAM0C+83jW2WYmsYKMBBJiXDaT+yzeEh+1XFSajcvW2Q4LJTnJHKxtxeOZmCVW99W00NLVGzbzK/r4kixyVPVhVe11Ho8Adn89yUVFCWV5NiLqbPtqWjnZ0sUl1gQVNkpzk2nvdnOiuXNCzrepbzJeGHVug2/J4pSIvFdEXM7jvcCpQAdmQl9ZXorNtTjLmv21AKy0zu2wMdE1ojZX1pOdHMeMMJvZ70uy+CDwTuCE87gNsE5vw+wpKdS1dlHf1h3sUELGK/tqKc1NJt+WTw0bJTkTmyw2VTWwtDA8igf2N2KyUNUqVb1RVXOcx82qenik14nIQ06H+M5+2zJFZJVTPmSViITXfZg5w6zTCyFZUxRAZ4+b1w9ZiY9wk50cS1pCzIQUFKxp7uRoQ0fYNUGBb6OhviciqSISIyIvikit0xQ1kkeA687adi/woqrOAl50fjZharYlizNsrKynq9dj/RVhRkQonaARUZsqvf0V4bCM6tl8aYa6RlWb8U7EqwRKgS+O9CJVXQ3Un7X5Jt6sXPs74GafIzUhJy81jtT4aFs1z7Fmfx0xLmH5zPAp4WC8SnKSJuTOYlNVPXHRUWFZrdmXZNE3ce+twB9VtWkc58tT1ePO9yeAvHEcywSZiDB7SordWThW76tlaWEmibFW4iPclOYmU9faTWN7YPvfvMUD04mNDo/igf35EvFzIrIHWAK8KCI5wLjHmKmqAkMObBaRj4rIJhHZVFtbO97TmQDxjohqwfvfOXmdbO5kz4kWLimzJqhwdHqJ1QDeXbR39/LGseawm1/Rx5cO7nuBFcBSVe3Bu6TqTWM8X42ITAVwvp4c5rz3q+pSVV2ak2NvwFA1e0oKzZ291DR3jbxzBFt7usSHdW6Ho4kYEfXK3lrcHuXCMK1E7Ou9UD5wq4i8H+/Q2WvGeL5ngDud7+8Enh7jcUyI6KsRNdlncq89UEdmUiznTLWlXsJRQUYisdFRAS0o+ER5NbkpcawoCc8PFL6Mhvo68HPncTnOYkg+vO5x4FVgtogcFZEPAd8BrhaR/cBVzs8mjJ0uKDiJk4Wqsu5AHReWZBFlJT7CkitKmBnAJVZPtXbx8t6TvH3RtLAtA+NLT9xtwAJgi6reJSJ5wO9HepGq3j7EU1eOIj4T4jKTvGPUKyd48ZhQcrC2lZrmLlaWhucnRuNVkpvMjqPjGb8ztGe2HaPXo9yyOHxrsPrSDNWhqh6gV0RS8fYzTA9sWCacFGUlUlnXHuwwgmbtfm9/hSWL8Faak8yRhnY6e9x+P/aT5dXMy09l9pSJW2DJ33xJFptEJB34LbAZKMfbvGQM4F2TezLfWaw9cIoZmYlMD7NaP+ZMpbnJqMKhOv/+Lu+raWFHdVNY31WAb6OhPqmqjar6a+Bq4E5bEMn0V5SdxLHGDrp6/f+JLNT1uj1sqDjFRXZXEfYCNSLqyfJqXFHCTQvz/XrcieZLB7c4VWf/n6pWAo0isizwoZlwUZSViEfhSH1HsEOZcNurm2jp6uWi0vAcDmneNDMnicRYFw+sqaCtq9cvx3R7lKe2VHNZWQ7ZyXF+OWaw+NIMdR9wIdDXYd0C/DJgEZmwU5jlXce4ahI2Ra1z+ivCdTikeVN8jIufvGshO6qb+PjvN/vlTvnVg6c40dwZ9k1Q4FuyWK6qn8KZta2qDUBsQKMyYaU425ssKk9Nvk7utQfqmJefSmaSvSUiwTXzpvDdW+ezZn8dn/vDNtzjXD3vifKjpMZHc+XcXD9FGDy+DJ3tEREXTmkOp9yHJ6BRmbCSkRhDSnz0pLuzaO/upfxwAx+8qDjYoRg/esfS6TR19PCtv+wmNSGG/3z7uWNae6K1q5cXdp7g7YunER/jCkCkE8uXZPEz4M9Aroh8G++8i68FNCoTVkSEoqwkv48iCXUbKxvocat1bkegD188k/q2bu57+SCZSTF88do5p5/zeJQtRxp4dttxXj14ipsW5fPxS0oGTMh8YecJOnrc3Lp42kSHHxAjJgtVfUxENuOdTCfAzaq6O+CRmbBSlJ3EtiONwQ5jQq07UEesK4rzi6wkeST64rWzaWjv4ZcvHSQ9IZblMzN5bvtxntt2jGNNncRGRzErN5nvvbCXjYfq+fG7FpKe+GZz5JPlRynMSmTxjPAsHHi2EZOFiJQAh1T1lyJyGd5yHcdVdXL9ZTDDKspK5C/bj9Hd6wnL8stjsXZ/HYsL00mIDf8mBjOQiPCtm8+luaOHb//V+/k4Okq4pCyHL1w7m6vPySM5LppHX6vim8/t4q0/W8t9dyxmwfR0qhs7eLXiFPdcWRZ2y6cOxZdmqCeApSJSCvwGbzHA/wHeEsjATHgpzErCo3C0oZ2Zznj1SHaqtYtdx5v5wjVlwQ7FBJArSvjRuxYwMyeJgowErp035Yy7B4D3X1jE/IJ0PvVYObf9ej3/723n0NzZiyrcEiFNUOBbsvCoaq+I3AL8QlV/LiJbAh2YCS9FWd7Zy1WnJkeyWH/wFID1V0wCcdEuPn/N7GH3WTg9nec+vZLP/d9W/u3pN4hxCcuKMyNqVr8v7QU9InI78H7gOWdbTOBCMuGo6PTw2cnRyb3+YB0p8dGcNy38lsc0gZGRFMuDd57PF6+djduj3LF8RrBD8itf7izuAj4OfFtVD4lIMfBoYMMy4SYrKZbkuGiqJslci7UH6rhwZhbRrsnRP2N8ExUlfOryUu66qCjiltf1ZTTULuDufj8fAr4byKBM+BERCrMSJ8Xw2cOn2jlS38GHV84MdigmREVaogDfV8ozZkRF2UmTYmJe3xKq1l9hJhNLFsZvirISOdrQQY87sif4rztQx5TUeEpykoIdijETxudkISKR061vAqIwK4lej3KsMXKrz3o8yvqDdVxUmh0x4+eN8YUvJcpXiMguYI/z8wIRuS/gkZmw01dQMJL7LXYdb6ahvYeVs6wkuZlcfLmz+DFwLXAKQFW3AZcEMigTngr7zbWIVL9ZXUGMS6y/wkw6PjVDqeqRszZNviXRzIhykuNIjHVF7FyLF3Ye59ltx/j0FbPITYkPdjjGTChfxncdEZEVgIpIDPAZwAoJmgG8w2eTqIzAZqj6tm6+9tRO5uWn8onLSoIdjjETzpc7i48DnwKmAdXAQudnYwYozk6MyGaorz/zBk0dPfzgHQuIsYl4ZhLyZVJeHXDHBMRiIkBhVhKrdtXQ6/ZEzOzmvuanz11dxtypqcEOx5ig8KVE+c8G2dwEbFLVp/0fkglnRVmJ9LiV402dEVFEzZqfjPHy5aNfPN6mp/3OYz5QAHxIRH4SwNhMGCrKiqzhs9+w5idjAN86uOcDF6mqG0BEfgWsAVYCOwIYmwlDfdVnvWU/coIbzDi9sPMEz1jzkzGAb3cWGUD/BQqSgEwneXSN5aQi8lkReUNEdorI4yJi4xAjRG5KHAkxLirDvJO7oa2brz21w5qfjHH4kiy+B2wVkYdF5BFgC/B9EUkC/jHaE4rINLxVbJeq6rmAC3j3aI9jQlNf9dlwHz77zLZj1LV2891b51vzkzH4NhrqQRH5K7DM2fRVVT3mfP/FcZw3QUR6gETg2Aj7mzBSlJXE/pMtwQ5jXDZW1pOfFs+5triRMYDvhQQ7geNAA1AqImMu96Gq1cAPgMPOMZtU9e9jPZ4JPYXZiRyp78Dt0WCHMiaqyqbKBpYUZQY7FGNChi+FBD8MrAb+Bvy78/UbYz2hiGQANwHFQD6QJCLvHWS/j4rIJhHZVFtbO9bTmSAozkqi2+3heFN4Vp+tbuzgRHMn5xdlBDsUY0KGL3cWnwHOB6pU9XJgEdA4jnNeBRxS1VpV7QGeBFacvZOq3q+qS1V1aU5OeI+qmWwKneGzlXXh2cm9qbIBgCWFliyM6eNLsuhU1U4AEYlT1T3A7HGc8zBwgYgkindBgCuxWlMRpSjbOxkvXAsKbqysJzkumjlTbLisMX18mWdxVETSgaeAVSLSAFSN9YSqukFE/gSUA714R1fdP9bjmdCTlxJPXHRU2C6xurmqgcWFGbiibHEjY/r4Mhrq7c633xCRl4A04IXxnFRVvw58fTzHMKErKkooykoKy7kWTR097K1p4S3nTQ12KMaElGGThYi4gDdUdQ6Aqr4yIVGZsFeYlRiWJT/KDzegCkutc9uYMwzbZ+HM0t4rIjMmKB4TIYqyk6iqb8cTZsNnN1XWEx0lLJyeHuxQjAkpvvRZZABviMjrwOmPiqp6Y8CiMmGvKCuJ7l4PJ5o7yU9PCHY4PttY2cC8/FQSY315axgzefjyjvi3gEdhIk6Rsx53ZV1b2CSL7l4P24408t4LCoMdijEhZ8Shs04/RSUQ43y/Ee9IJmOGNDPHW3vyt2sqaO3qDXI0vtl5rImuXg9LbX6FMQP4MoP7I8CfgN84m6bhHUZrzJCmpMXz7zfOY/X+Om65b11YDKPd3DcZzzq3jRnAl0l5nwIuApoBVHU/kBvIoExkuHNFEY9+cBknW7q48RfrWLM/tMu2bKyspygrkdwUq5hvzNl8SRZdqtrd94OIRAPhNcTFBM2K0mye+dRKpqbFc+dDr/PAmgpUQ+/XR1XZXNXAkkIrHmjMYHxJFq+IyFfxlhS/Gvgj8GxgwzKRZEZWIk98YgXXnDOFb/1lN5//4za6ez3BDusMh+raONXWbcUDjRmCL8niXqAW7xKqHwP+CnwtkEGZyJMUF819dyzmnqtm8WR5NU9tqQ52SGfoKx641MqSGzMoX5LFzcB/q+o7VPU2Vf2thmI7ggl5UVHCZ66cRXpiDOWHG4Idzhk2VdWTkRhDSU5SsEMxJiT5kixuAPaJyKMi8janz8KYMRERzpuWxvajTcEO5QybKr39Fd5CyMaYs/kyz+IuoBRvX8XtwEEReSDQgZnItaAgnb01LXT2uIMdCgB1rV1U1LVZPShjhuHTsqrOIkXPA/8LbMbbNGXMmJxXkIbbo+w63hzsUABvSXLAOreNGYYvk/KuF5FHgP3ArcADwJQAx2Ui2IICb5G+7UfGs+Ci/2yqrCc2Oopzp6UFOxRjQpYv/Q/vB/4AfExVuwIcj5kE8lLjyEmJC5l+i01VDSwoSCMu2hXsUIwJWb70Wdyuqk/1JQoRWSkivwx8aCZSiQgLCtLYXh38ZNHR7WZndZMNmTVmBD71WYjIIhH5vohUAt8E9gQ0KhPxzpuWzsHa1qAXGdx6pJEet1p/hTEjGLIZSkTK8I5+uh2ow9sUJap6+QTFZiLY/OlpqMLO6iYumJkVtDhe2HmcuOgozrc7C2OGNdydxR7gCuBtqrpSVX8OhMZYRxP25judyduPBq+Tu8ft4bntx7lqbh4p8TFBi8OYcDBcsrgFOA68JCK/FZErAZuxZPwiKzmOaekJQe3kXnegjlNt3dy0MD9oMRgTLoZMFk6n9ruBOcBLwD1Aroj8SkSumagATeRaMD24M7mf3nqM1PhoLp2dE7QYjAkXvoyGalPV/1HVG4ACYAvw5YBHZiLeedPSOVzfTkNb98g7+1lHt5u/vXGCt86fakNmjfGBT6Oh+qhqg6rer6pXBiogM3ksKPD2W+wIwhDaVbtraO92c9PCaRN+bmPC0aiShTH+NC+IndxPb6lmalo8y2wUlDE+sWRhgiYtIYaZ2UkT3m/R0NbNK/tquXFBPlFRNmbDGF9YsjBBdV7BxHdy/2XHcXo9ak1QxoxCUJKFiKSLyJ9EZI+I7BaRC4MRhwm++QXpnGju5GRz54Sd85mtx5iVm8zcqSkTdk5jwl2w7ix+CrygqnOABcDuIMVhgmx+QV+/xcTcXRxtaOf1ynpuXjTNFjoyZhQmPFmISBpwCfAggKp2q2po1Ko2E25efipRMnGd3M9uOw7AjQtsIp4xoxGMO4tioBZ4WES2iMgDImILH09SibHRlOWlDFmBtrKujbsefp19NS1+Od/TW6tZUpjB9MxEvxzPmMkiGMkiGlgM/EpVFwFtwL1n7yQiHxWRTSKyqba2dqJjNBOob01uVT1je3t3Lx///WZe2lvLfzy7a9zn2XOimT0nWrjZynsYM2rBSBZHgaOqusH5+U94k8cZnMl/S1V1aU6OlWOIZPOnp1Pf1k11Y8fpbarKvU/sYG9NC2+dP5W1B+pYvW/kDw1NHT384G97eWbbMerPmhn+9NZjuKKEt5w31e/XYEyk82WlPL9S1RMickREZqvqXuBKYPwfG03YerMCbRMFGd7moYfXVfLMtmN88drZfPjiYrYdaeQ7z+9hZWn2sHMjvv70Tp7aegwAEW+fyMrSHC6elc0zW49xyaxsspLjAn9RxkSYYI2G+jTwmIhsBxYC/xmkOEwImDM1hRiXnB4R9fqhev7zr7u5+pw8PnFpCXHRLr5wzWx2HW/m6W3VQx7n+R3HeWrrMe6+chZ//uQKPntVGYkx0TywpoI7HthAdWOHza0wZowm/M4CQFW3AkuDcW4TeuKiXcyZksr2o43UNHfyycfKmZGZyA/fueD0XcSNC/L57ZoKfvC3fVx/7lTiY84s/lfb0sVX/7yD+QVpfPqKUmJcUSyakcHdV86itauXDRWnOFTXZk1QxoyRzeA2IWF+QRo7jjbxycfKae/u5dfvW0JqvwWJoqKEe6+fQ3VjB79/reqM16oqX3lyB23dbn74jgXEuM78tU6Oi+bKuXl8+OKZxEbbr7wxY2HvHBMS5hek0dLVy+aqBr5323zK8gbOrr54lrfv4RcvHaCpo+f09ifKq/nH7hq+dO1sZg3yOmPM+FmyMCFhSaG3+utHLi7mbfOHHtr65evm0Njew69fOQhAdWMH//7MGywrzuSDFxVPSKzGTEZB6bMw5mylucm8+PlLKc4afn7mudPSuHlhPg+tPcT7Lijky3/ajluVH9y2wCrIGhNAdmdhQkZJTrJPf/A/f81sVOHd97/G2gN1fO2t5zAjy2ZkGxNIlixM2Jmemcj7LizkcH07l5blcPuy6cEOyZiIZ81QJizdfeUsYqOjuOuiIqsea8wEsGRhwlJaQgxfvm5OsMMwZtKwZihjjDEjsmRhjDFmRJYsjDHGjMiShTHGmBFZsjDGGDMiSxbGGGNGZMnCGGPMiCxZGGOMGZGoarBjGJGI1AJVI+44uGygzo/hBEukXEcfu57QF2nXNBmvp1BVc/xxsrBIFuMhIptUNexX5YuU6+hj1xP6Iu2a7HrGx5qhjDHGjMiShTHGmBFNhmRxf7AD8JNIuY4+dj2hL9Kuya5nHCK+z8IYY8z4TYY7C2OMMeMUcslCRKaLyEsisktE3hCRzzjbM0VklYjsd75mONvniMirItIlIl/od5zZIrK136NZRO4Z4pzXicheETkgIvf22/4vzjYVkewwvo4HRWSbiGwXkT+JSPJoriUEr+cRETnU7xgLw/x61vR7/TEReWq01xOC13SFiJSLyE4R+Z2IjHrtnCBdz0MiclJEdp61/R1ODB4RGdMIJH9dj/PcZ51j7BSRx0Ukfohz3ukcd7+I3Nlv+7dF5IiItPp8AaoaUg9gKrDY+T4F2AecA3wPuNfZfi/wXef7XOB84NvAF4Y4pgs4gXfM8WDPHQRmArHANuAc57lFQBFQCWSH8XWk9tvvR33nD+PreQS4LVJ+z87a7wng/eF8TXg/hB4Bypz9/gP4UKhfj/P8JcBiYOdZ2+cCs4GXgaXB/P8BpgGHgATn5/8DPjDI+TKBCudrhvN9hvPcBU48rb7GH3J3Fqp6XFXLne9bgN14/3FuAn7n7PY74GZnn5OquhHoGeawVwIHVXWwiX3LgAOqWqGq3cD/OudCVbeoamUEXEczgIgIkACMuqMqlK7HH0LxekQkFbgCGNOdRQhdUxbQrar7nP1WAbeGwfWgqquB+kG271bVvaO9hrOO4c/riQYSnDu2RODYIPtcC6xS1XpVbcD7/3Cdc+zXVPX4aOIPuWTRn4gU4f10vwHI63dxJ4C8URzq3cDjQzw3De+noD5HnW1+EwrXISIPO+ebA/x8FOccIBSuB/i2eJvVfiwicaM45wAhcj3g/SPxYl9yH48gX1MdEN2vueY2YPoozjnABF3PhBnP9ahqNfAD4DBwHGhS1b8Psqtf/7aFbLIQb7v6E8A9Z7951Hsf5dOnYxGJBW4E/uj3IH07f0hch6reBeTj/TTzrrEcw4kjFK7nK3iT3vl4b7G/PIZj9MURCtfT53b88Ics2NfknOPdwI9F5HWgBXCP5hhnxRFK/0fjNt7rcfo0bgKK8b6nk0TkvQEK97SQTBYiEoP3H/MxVX3S2VwjIlOd56cCJ3083PVAuarWOK+d3q+j6+NANWd+6ilwtkXcdaiqG29TwaibBELpepzbeVXVLuBhvM0hYXs9zv7ZznX8ZSzXEmrXpKqvqurFqroMWI23fT7Uryfg/HQ9VwGHVLVWVXuAJ4EVIrK83/XciJ//to16hEKgOe3qDwK7VfVH/Z56BrgT+I7z9WkfD3nGpzVVPQKcHj3jtPnNEpFivP+Q7wbeM55rcI4bEtfhxFGiqgec728E9oTr9TjPTVXV405MNwNnjFwJt+tx3AY8p6qdo72WfucImWsSkVxVPek0EX4ZbydtSF9PoPnxeg4DF4hIItCBtx9mk6pu4Mz/n0zgP507EYBr8N6Vj42OY0RJIB7ASry3YduBrc7jLXg7zV4E9gP/ADKd/afgbYtrBhqd71Od55KAU0DaCOd8C95PPgeBf+23/W7neL14O5AeCLfrwHv3uA7YgfeP6mP0Gx0VbtfjbP9nv+v5PZAcztfjPPcycF0EvXe+j7fJcy/e5pZwuZ7H8fYD9Div/5Cz/e3Oz11ADfC3IF/Pv+P90LcTeBSIG+KcHwQOOI+7+m3/nnM8j/P1GyPFbzO4jTHGjCgk+yyMMcaEFksWxhhjRmTJwhhjzIgsWRhjjBmRJQtjjDEjsmRhwpaIuJ0JSDtF5I/OuHNGVUlz4DE/ICL5/X5+QETO8XO8b4i3CvDnRWTY96CIFInIuOf9GDNelixMOOtQ1YWqei7QDfhjFu4H8JZQAEBVP6yqu/xwXHgz3nnA1XhnFH99hNcU4YdJosaMlyULEynWAKX9N4hIsoi8KN51FXaIyE3O9iIR2S0iv3U+5f9dRBJE5DZgKfCYcweQICIvi1MQT0RaxbsOwDYReU1E8pztJc7PO0TkW77c2ajqSeCjwL+IV5F417Uodx4rnF2/A1zsxPNZEXGJyPdFZKN4Cyl+zG//gsYMw5KFCXtO2Ynr8c7q7q8TeLuqLgYuB37olFwAmAX80vmU3wjcqqp/AjYBdzh3AB1nHS8JeE1VF+Ctd/QRZ/tPgZ+q6nl4Z8P6RFUr8K6vkIu3HtDVTqzvAn7m7HYvsMaJ58fAh/BWGT0fbyHFjzjlNowJqJCrDWXMKCSIyFbn+zV46+70J3hr41yCt6zBND3chn0AAAGESURBVN4s/3xIVfteuxlvc89IuoHn+r3mauf7C3HWIAD+B2/56NGKAX4h3lX/3EDZEPtdA8x37oIA0vAmvkNjOKcxPrNkYcJZh6oOVwjuDiAHWKKqPSJSCfQtP9nVbz833kWhRtKjb9bHcTPO94+IzHSOcxJv30UNsADvHf9QBQUF+LSq/m085zZmtKwZykSyNOCkkyguBwp9eE0L3iUvR+M13iz7/m5fXiAiOcCvgV84CSgNOK6qHuB9eJunBovnb8AnnFLXiEiZiCSNMl5jRs3uLEwkewx4VkR24O2L8KU0+yPAr0WkA2/zki/uAX4vIv8KvAA0DbFfX7NZDN5Kxo/iXRMd4D7gCRF5v3OMNmf7dsAtItuc2H6Kt8ms3Ol/qeXNJjBjAsaqzhozTn3rCqiqisi7gdtV1W/rhRsTCuzOwpjxW4K3c1rwjqz6YJDjMcbv7M7CGGPMiKyD2xhjzIgsWRhjjBmRJQtjjDEjsmRhjDFmRJYsjDHGjMiShTHGmBH9f3DhdAW+fmy2AAAAAElFTkSuQmCC\n",
      "text/plain": [
       "<matplotlib.figure.Figure at 0x1096e9dd8>"
      ]
     },
     "metadata": {
      "needs_background": "light"
     },
     "output_type": "display_data"
    }
   ],
   "source": [
    "station = 'JACOBSON FARM'\n",
    "alpha, lambda_by_month, rain_data = analyze_rainfall(station=station)\n",
    "n_seasons = 200\n",
    "days_to_maturity = 150\n",
    "\n",
    "planting_dates = np.arange(datetime(2017,1,1), datetime(2017,12,31), timedelta(weeks=1)).astype(datetime)\n",
    "\n",
    "S_avg = []\n",
    "for planting_date in planting_dates:\n",
    "    R, dt = simulate_rainfall(lambda_by_month, alpha, planting_date=planting_date, n_seasons=n_seasons)\n",
    "\n",
    "    # Step 3. Run the ecohydrological model.\n",
    "    output = []\n",
    "    S = []\n",
    "    dSdt = []\n",
    "    for r in R:\n",
    "        output = (run_model(r))\n",
    "        S.append(output['S'])\n",
    "        dSdt.append(output['dSdt'])\n",
    "    df_S = pd.DataFrame(S)\n",
    "    S_avg.append(df_S.mean().mean())\n",
    "\n",
    "plt.plot(planting_dates,S_avg)\n",
    "plt.ylabel('Average seasonal soil moisture')\n",
    "plt.xlabel('Planting Date')"
   ]
  },
  {
   "cell_type": "markdown",
   "metadata": {},
   "source": [
    "It appears that there are two fairly broad periods of moderate water availability, separated by deep valleys of low water availability. Our next question is how do planting date and days to maturity interact. We can examine this by nesting two for loops.\n",
    "\n",
    "```python\n",
    "station = 'JACOBSON FARM'\n",
    "alpha, lambda_by_month, rain_data = analyze_rainfall(station=station)\n",
    "n_seasons = 100\n",
    "varieties = [120, 180]\n",
    "\n",
    "planting_dates = np.arange(datetime(2017,1,1), datetime(2017,12,31), timedelta(weeks=1)).astype(datetime)\n",
    "\n",
    "S_avg = [[],[]]\n",
    "\n",
    "for planting_date in planting_dates:\n",
    "    for i, days_to_maturity in enumerate(varieties): \n",
    "        R, dt = simulate_rainfall(\n",
    "            lambda_by_month, alpha,\n",
    "            days_to_maturity=days_to_maturity,\n",
    "            planting_date=planting_date, n_seasons=n_seasons)\n",
    "\n",
    "        # Step 3. Run the ecohydrological model.\n",
    "        output = []\n",
    "        S = []\n",
    "        dSdt = []\n",
    "        for r in R:\n",
    "            output = (run_model(r))\n",
    "            S.append(output['S'])\n",
    "            dSdt.append(output['dSdt'])\n",
    "        df_S = pd.DataFrame(S)\n",
    "        S_avg[i].append(df_S.mean().mean())\n",
    "```"
   ]
  },
  {
   "cell_type": "code",
   "execution_count": 70,
   "metadata": {},
   "outputs": [
    {
     "data": {
      "text/plain": [
       "Text(0.5,1,'Effect of planting date and variety on soil water availability')"
      ]
     },
     "execution_count": 70,
     "metadata": {},
     "output_type": "execute_result"
    },
    {
     "data": {
      "image/png": "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\n",
      "text/plain": [
       "<matplotlib.figure.Figure at 0x10a811240>"
      ]
     },
     "metadata": {
      "needs_background": "light"
     },
     "output_type": "display_data"
    }
   ],
   "source": [
    "station = 'JACOBSON FARM'\n",
    "alpha, lambda_by_month, rain_data = analyze_rainfall(station=station)\n",
    "n_seasons = 100\n",
    "varieties = [120, 180]\n",
    "\n",
    "planting_dates = np.arange(datetime(2017,1,1), datetime(2017,12,31), timedelta(weeks=1)).astype(datetime)\n",
    "\n",
    "S_avg = [[],[]]\n",
    "\n",
    "for planting_date in planting_dates:\n",
    "    for i, days_to_maturity in enumerate(varieties): \n",
    "        R, dt = simulate_rainfall(\n",
    "            lambda_by_month, alpha,\n",
    "            days_to_maturity=days_to_maturity,\n",
    "            planting_date=planting_date, n_seasons=n_seasons)\n",
    "\n",
    "        # Step 3. Run the ecohydrological model.\n",
    "        output = []\n",
    "        S = []\n",
    "        Y = []\n",
    "        dSdt = []\n",
    "        for r in R:\n",
    "            output = (run_model(r))\n",
    "            S.append(output['S'])\n",
    "            Y.append(yield_calc(output['S'],output['S_max']))\n",
    "            dSdt.append(output['dSdt'])\n",
    "        df_S = pd.DataFrame(S)\n",
    "        df_Y = pd.DataFrame(Y)\n",
    "        S_avg[i].append(df_S.mean().mean())\n",
    "\n",
    "df = pd.DataFrame({\n",
    "    'x': planting_dates,\n",
    "    '120-day': S_avg[0],\n",
    "    '180-day': S_avg[1]\n",
    "})\n",
    "\n",
    "plt.plot(\n",
    "    'x', '120-day', data=df, marker='', color='skyblue',\n",
    "    label='120-day variety', linewidth=2\n",
    ")\n",
    "plt.plot('x', '180-day', data=df, marker='', color='skyblue',\n",
    "    label='180-day variety', linestyle='dashed', linewidth=2\n",
    ")\n",
    "plt.legend()\n",
    "plt.title('Effect of planting date and variety on soil water availability')"
   ]
  },
  {
   "cell_type": "markdown",
   "metadata": {},
   "source": [
    "We see that the variety that matures more quickly has a narrow range of success, but higher peaks in terms of seasonal water availability."
   ]
  },
  {
   "cell_type": "markdown",
   "metadata": {},
   "source": [
    "# Convert average soil moisture into a yield.\n",
    "\n",
    "We have the maximum yields already, they are in the relationship we derived between days to maturity and yield. \n",
    "\n"
   ]
  },
  {
   "cell_type": "code",
   "execution_count": 71,
   "metadata": {},
   "outputs": [],
   "source": [
    "def yield_max(days_to_maturity):\n",
    "    # Returns maximum yield in kg/ha\n",
    "    return max(0, 44*days_to_maturity-3150)"
   ]
  },
  {
   "cell_type": "code",
   "execution_count": 73,
   "metadata": {},
   "outputs": [],
   "source": [
    "def yield_calc(S,S_max,a=1):\n",
    "    stress = []\n",
    "    Y_max = yield_max(len(S)) # WARNING ASSUMES S IS FOR A CROP AND HAS LENGTH OF DAYS TO MATURITY.\n",
    "    '''\n",
    "    1. Use a threshold S value at which there is no stress (S*).\n",
    "        (right now, this is an S value of S_max, which is too high!)\n",
    "    2. Use a threshold S value at which point stress is 1 (this is the wilting point)\n",
    "        (right now, this is an S value of 0, which is too low!)\n",
    "    '''    \n",
    "    stress = pd.DataFrame([(1-s/S_max)**a for s in S])\n",
    "    return float((1-stress.mean())*Y_max)"
   ]
  },
  {
   "cell_type": "code",
   "execution_count": 74,
   "metadata": {},
   "outputs": [
    {
     "data": {
      "text/plain": [
       "1058.17326943094"
      ]
     },
     "execution_count": 74,
     "metadata": {},
     "output_type": "execute_result"
    }
   ],
   "source": [
    "yield_calc(S[1],40,a=1)"
   ]
  },
  {
   "cell_type": "markdown",
   "metadata": {},
   "source": [
    "## Coefficients of Seasonal Rainfall Variability across Laikipia\n",
    "\n",
    "Analysis from [Philip Thornton](https://ccafs.cgiar.org/about/people/philip-thornton#.W4H37S2ZPOQ) at CCAFS/CGIAR suggests that there are fairly sharp thresholds in the relationship between rainfall climatology and crop failure. The following two figures demonstrate this relationship from some of his previous work.\n",
    "\n",
    "<img src=\"../assets/crop_failure_vs_rainfall_cv.png\" alt=\"\" style=\"width: 500px;\"/>\n",
    "<img src=\"../assets/cropping_extent_vs_rainfall_cv.png\" alt=\"\" style=\"width: 500px;\"/>\n",
    "\n",
    "The top panel demonstrates how rainfall CV (on the x-axis) relates to the probability of crop failure in dryland agricultural systems (y-axis). The bottom panel provides the distribution of rainfall values and cropping extent (% area occupied by crops) across Sub-Saharan Africa. Rather than depicting a scatterplot, the varying color represents the density of observations in each portion of the graph's coordinate space.\n",
    "\n",
    "Based on the upper panel, we can analyze various stations around Laikipia to see how they compare to the CV thresholds.\n",
    "\n",
    "<div class=\"alert alert-success\">✏️ <strong>DIY Code:</strong> Use our code from Chapter 2 to analyze the simulated CV of growing season rainfall for different stations across Laikpia.</div>\n",
    "\n",
    "<div class=\"alert alert-info\">💡 <strong>Hint</strong>: You can use our model analyses to determine optimal planting dates for any station. Running the model gives a suite of seasonal rainfall amounts from which you can determin the CV of seasonal rainfall amounts.</div>"
   ]
  },
  {
   "cell_type": "code",
   "execution_count": 17,
   "metadata": {},
   "outputs": [],
   "source": [
    "# This cell intentionally left blank"
   ]
  },
  {
   "cell_type": "code",
   "execution_count": null,
   "metadata": {},
   "outputs": [],
   "source": []
  },
  {
   "cell_type": "markdown",
   "metadata": {},
   "source": [
    "## Coupling rainfall variability, water availability, and yield\n",
    "\n",
    "Our next step will be to develop a relationship between soil water availability and yield. Most annual crops require a minimuim amount of soil moisture to avoid wilting. Furthermore, prolonged periods of wilting/stress are likely to cause complete crop failure. \n",
    "\n",
    "We can specify a threshold of water resource scarcity, and/or a maximum duration of water scarcity that would lead to crop failure and use our same analysis framework to examine how our system responds. We don't need to change our model, we only need to analyze our results.\n",
    "\n",
    "Let's say that for any variety, at least **10 mm** of water is necessary to avoid wilting. For our soil, 10 mm corresponds to a volumetric soil moisture of 5%, which is pretty dry. In addition, let's say that any season with more the 25% of the days are below this threshold leads to crop failure. \n",
    "\n",
    "Let's define these two new variables as $S_{wp}=10$, the soil water amount associated with wilting point) and $T_{wp}=0.25*T_{harvest}$, the maximum amount of time at or below wilting point before crops fail.\n",
    "\n",
    "<div class=\"alert alert-success\">✏️ <strong>DIY Code:</strong> Use the $S_{wp}$ and $T_{wp}$ values to determine the likelihood of crop failure based on planting date.</div>\n",
    "\n",
    "<div class=\"alert alert-info\">💡 <strong>Hint</strong>: Since we haven't changed the model - only how we interpret the data - you can use the same output we've already generated for our earlier analyses.</div>"
   ]
  },
  {
   "cell_type": "code",
   "execution_count": 18,
   "metadata": {},
   "outputs": [],
   "source": [
    "# This cell intentionally left blank."
   ]
  }
 ],
 "metadata": {
  "kernelspec": {
   "display_name": "Python 3",
   "language": "python",
   "name": "python3"
  },
  "language_info": {
   "codemirror_mode": {
    "name": "ipython",
    "version": 3
   },
   "file_extension": ".py",
   "mimetype": "text/x-python",
   "name": "python",
   "nbconvert_exporter": "python",
   "pygments_lexer": "ipython3",
   "version": "3.6.4"
  }
 },
 "nbformat": 4,
 "nbformat_minor": 2
}
