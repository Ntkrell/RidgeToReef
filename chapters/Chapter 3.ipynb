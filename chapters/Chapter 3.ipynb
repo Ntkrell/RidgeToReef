{
 "cells": [
  {
   "cell_type": "markdown",
   "metadata": {},
   "source": [
    "# Chapter 3: Impacts of Decision Making on Agricultural Outcomes\n",
    "\n",
    "[⬅️ Previous Chapter](Chapter%202.ipynb)\n",
    "\n",
    "![](../assets/farm_02.png)\n",
    "\n",
    "## Chapter Objectives\n",
    "\n",
    "* Understand the tradeoffs between yield, climate, and crop phenology.\n",
    "* Learn to use functions to expedite repetative analysis \n",
    "* Develop a very simple ecohydrological model of soil water availability\n",
    "* Explore how rainfall seasonality affects the dynamics of soil water availability in annual crop systems\n",
    "* Learn how to run ensembles of simulations and aggregate output\n",
    "* Examine how planting date and crop choice alter average soil moisture during the growing season\n",
    "\n",
    "## Laikipia Climate\n",
    "\n",
    "As we've seen, the climate of northern Kenya is marked by pronounced rainfall variability. In addition, there is very little variation in temperature and solar radiation. The graphs below provide long-term monthly patterns of both temperature and rainfall, which emphasize the dominat role that temporal variation in rainfall plays in governing the climate of this system.\n",
    "\n",
    "<table>\n",
    "    <tr>\n",
    "        <td>![](../assets/nanyuki_rainfall.png)</td><td>![](../assets/nanyuki_temperature.png)</td>\n",
    "    </tr>\n",
    "</table>\n",
    "\n",
    "\n",
    "## Climate variability and decision making\n",
    "\n",
    "Given the variation in rainfall both within and between years, it is reasonable to wonder what timing of planting is optimal for ensuring the success of maize, which is the main crop in this region. In addition, farmers must make decisions about what variety of maize to plant. \n",
    "\n",
    "### Crop Choice\n",
    "\n",
    "Decisions about what type of maize to plant break down along two axes: Early harvesting varieties vs. Late harvest varieties, and Local varieties vs. Hybrid varieties. \n",
    "\n",
    "Recently, hybrid varieties designed specifically for the dry conditions of many Kenyan agricultural zones have started to become available. For example, here's a [report](https://basis.ucdavis.edu/news/one-change-hybrid-seeds-could-boost-maize-productivity-western-kenya) based on work at UC Davis on development of Kenya-specific hybrid maize varieties that shows great promise. That being said, hybrid varieties require farmers to purchase seeds annually, rather than saving seeds from the prior year's harvest which creates a cost burden on smallholder farmers. While it is likely that - just as in US agriculture - hybrid and even GMO varieties of maize will come to dominate Kenyan agrticulture in the coming decades, household farms will remain dependent on local seeds. Regardless, the interaction between economic and agronomic tradeoffs is too complex for our excercise, so we will focus on the first decision - choosing between fast-maturing varieties that produce lower yields vs. slower-maturing varities that have higher yields.\n",
    "\n",
    "We can investigate the relationship between `yield` and `days to maturity` using some data on hybrid maize varieties used in Kenya. Eventhough we will be focusing on local maize varieties which have lower yields overall than any hybrid variety, we can assume any relationship seen between `yield` and `days to maturity` in hybrid maize is similar for local maize.\n",
    "\n",
    "## Getting started\n",
    "\n",
    "As usual, we need to load pands, our plotting libraries, and remind jupyter to render our plots into our notebooks."
   ]
  },
  {
   "cell_type": "code",
   "execution_count": 1,
   "metadata": {},
   "outputs": [],
   "source": [
    "import pandas as pd\n",
    "import numpy as np\n",
    "import matplotlib.pyplot as plt\n",
    "%matplotlib inline"
   ]
  },
  {
   "cell_type": "code",
   "execution_count": 2,
   "metadata": {},
   "outputs": [
    {
     "data": {
      "text/html": [
       "<div>\n",
       "<style scoped>\n",
       "    .dataframe tbody tr th:only-of-type {\n",
       "        vertical-align: middle;\n",
       "    }\n",
       "\n",
       "    .dataframe tbody tr th {\n",
       "        vertical-align: top;\n",
       "    }\n",
       "\n",
       "    .dataframe thead th {\n",
       "        text-align: right;\n",
       "    }\n",
       "</style>\n",
       "<table border=\"1\" class=\"dataframe\">\n",
       "  <thead>\n",
       "    <tr style=\"text-align: right;\">\n",
       "      <th></th>\n",
       "      <th>Unnamed: 0</th>\n",
       "      <th>VARIETY</th>\n",
       "      <th>ALTITUDE  RANGE (M)</th>\n",
       "      <th>yield (kg/ha)</th>\n",
       "      <th>days_to_maturity</th>\n",
       "    </tr>\n",
       "  </thead>\n",
       "  <tbody>\n",
       "    <tr>\n",
       "      <th>0</th>\n",
       "      <td>0</td>\n",
       "      <td>H6213</td>\n",
       "      <td>1700-2100</td>\n",
       "      <td>4680.0</td>\n",
       "      <td>175.0</td>\n",
       "    </tr>\n",
       "    <tr>\n",
       "      <th>1</th>\n",
       "      <td>1</td>\n",
       "      <td>H6212</td>\n",
       "      <td>1700-2100</td>\n",
       "      <td>4680.0</td>\n",
       "      <td>175.0</td>\n",
       "    </tr>\n",
       "    <tr>\n",
       "      <th>2</th>\n",
       "      <td>2</td>\n",
       "      <td>H6210</td>\n",
       "      <td>1700-2100</td>\n",
       "      <td>4500.0</td>\n",
       "      <td>175.0</td>\n",
       "    </tr>\n",
       "    <tr>\n",
       "      <th>3</th>\n",
       "      <td>3</td>\n",
       "      <td>H9401</td>\n",
       "      <td>1700-2100</td>\n",
       "      <td>4320.0</td>\n",
       "      <td>175.0</td>\n",
       "    </tr>\n",
       "    <tr>\n",
       "      <th>4</th>\n",
       "      <td>4</td>\n",
       "      <td>H629</td>\n",
       "      <td>1700-2400</td>\n",
       "      <td>4320.0</td>\n",
       "      <td>175.0</td>\n",
       "    </tr>\n",
       "    <tr>\n",
       "      <th>5</th>\n",
       "      <td>5</td>\n",
       "      <td>H628</td>\n",
       "      <td>1500-2100</td>\n",
       "      <td>4140.0</td>\n",
       "      <td>165.0</td>\n",
       "    </tr>\n",
       "    <tr>\n",
       "      <th>6</th>\n",
       "      <td>6</td>\n",
       "      <td>H627</td>\n",
       "      <td>1500-2100</td>\n",
       "      <td>3960.0</td>\n",
       "      <td>165.0</td>\n",
       "    </tr>\n",
       "    <tr>\n",
       "      <th>7</th>\n",
       "      <td>7</td>\n",
       "      <td>H626</td>\n",
       "      <td>1500-2100</td>\n",
       "      <td>3780.0</td>\n",
       "      <td>165.0</td>\n",
       "    </tr>\n",
       "    <tr>\n",
       "      <th>8</th>\n",
       "      <td>8</td>\n",
       "      <td>H625</td>\n",
       "      <td>1500-2100</td>\n",
       "      <td>3600.0</td>\n",
       "      <td>165.0</td>\n",
       "    </tr>\n",
       "    <tr>\n",
       "      <th>9</th>\n",
       "      <td>9</td>\n",
       "      <td>H614</td>\n",
       "      <td>1500-2100</td>\n",
       "      <td>3420.0</td>\n",
       "      <td>175.0</td>\n",
       "    </tr>\n",
       "    <tr>\n",
       "      <th>10</th>\n",
       "      <td>10</td>\n",
       "      <td>H624</td>\n",
       "      <td>1000-1800</td>\n",
       "      <td>2880.0</td>\n",
       "      <td>160.0</td>\n",
       "    </tr>\n",
       "    <tr>\n",
       "      <th>11</th>\n",
       "      <td>11</td>\n",
       "      <td>H623</td>\n",
       "      <td>1000-1800</td>\n",
       "      <td>2520.0</td>\n",
       "      <td>165.0</td>\n",
       "    </tr>\n",
       "    <tr>\n",
       "      <th>12</th>\n",
       "      <td>12</td>\n",
       "      <td>H516</td>\n",
       "      <td>1000-1800</td>\n",
       "      <td>2520.0</td>\n",
       "      <td>120.0</td>\n",
       "    </tr>\n",
       "    <tr>\n",
       "      <th>13</th>\n",
       "      <td>13</td>\n",
       "      <td>H515</td>\n",
       "      <td>1000-1800</td>\n",
       "      <td>2340.0</td>\n",
       "      <td>135.0</td>\n",
       "    </tr>\n",
       "    <tr>\n",
       "      <th>14</th>\n",
       "      <td>14</td>\n",
       "      <td>H513</td>\n",
       "      <td>1000-1800</td>\n",
       "      <td>2160.0</td>\n",
       "      <td>125.0</td>\n",
       "    </tr>\n",
       "    <tr>\n",
       "      <th>15</th>\n",
       "      <td>15</td>\n",
       "      <td>H511</td>\n",
       "      <td>1000-1800</td>\n",
       "      <td>2070.0</td>\n",
       "      <td>125.0</td>\n",
       "    </tr>\n",
       "    <tr>\n",
       "      <th>16</th>\n",
       "      <td>16</td>\n",
       "      <td>PH4</td>\n",
       "      <td>0 – 1200</td>\n",
       "      <td>1800.0</td>\n",
       "      <td>105.0</td>\n",
       "    </tr>\n",
       "    <tr>\n",
       "      <th>17</th>\n",
       "      <td>17</td>\n",
       "      <td>PH1</td>\n",
       "      <td>0 – 1200</td>\n",
       "      <td>1350.0</td>\n",
       "      <td>97.5</td>\n",
       "    </tr>\n",
       "    <tr>\n",
       "      <th>18</th>\n",
       "      <td>18</td>\n",
       "      <td>DH01</td>\n",
       "      <td>800-1200</td>\n",
       "      <td>1350.0</td>\n",
       "      <td>110.0</td>\n",
       "    </tr>\n",
       "    <tr>\n",
       "      <th>19</th>\n",
       "      <td>19</td>\n",
       "      <td>DH02</td>\n",
       "      <td>800 – 1200</td>\n",
       "      <td>1350.0</td>\n",
       "      <td>110.0</td>\n",
       "    </tr>\n",
       "    <tr>\n",
       "      <th>20</th>\n",
       "      <td>20</td>\n",
       "      <td>DH03</td>\n",
       "      <td>800 – 1200</td>\n",
       "      <td>1350.0</td>\n",
       "      <td>110.0</td>\n",
       "    </tr>\n",
       "    <tr>\n",
       "      <th>21</th>\n",
       "      <td>21</td>\n",
       "      <td>DH04</td>\n",
       "      <td>800 – 1200</td>\n",
       "      <td>1710.0</td>\n",
       "      <td>110.0</td>\n",
       "    </tr>\n",
       "    <tr>\n",
       "      <th>22</th>\n",
       "      <td>22</td>\n",
       "      <td>Katumani Composite</td>\n",
       "      <td>1000-1900</td>\n",
       "      <td>1350.0</td>\n",
       "      <td>97.5</td>\n",
       "    </tr>\n",
       "    <tr>\n",
       "      <th>23</th>\n",
       "      <td>23</td>\n",
       "      <td>DLC1</td>\n",
       "      <td>1000-1900</td>\n",
       "      <td>1170.0</td>\n",
       "      <td>97.5</td>\n",
       "    </tr>\n",
       "  </tbody>\n",
       "</table>\n",
       "</div>"
      ],
      "text/plain": [
       "    Unnamed: 0             VARIETY ALTITUDE  RANGE (M)  yield (kg/ha)  \\\n",
       "0            0               H6213           1700-2100         4680.0   \n",
       "1            1               H6212           1700-2100         4680.0   \n",
       "2            2               H6210           1700-2100         4500.0   \n",
       "3            3               H9401           1700-2100         4320.0   \n",
       "4            4                H629           1700-2400         4320.0   \n",
       "5            5                H628           1500-2100         4140.0   \n",
       "6            6                H627           1500-2100         3960.0   \n",
       "7            7                H626           1500-2100         3780.0   \n",
       "8            8                H625           1500-2100         3600.0   \n",
       "9            9                H614           1500-2100         3420.0   \n",
       "10          10                H624           1000-1800         2880.0   \n",
       "11          11                H623           1000-1800         2520.0   \n",
       "12          12                H516           1000-1800         2520.0   \n",
       "13          13                H515           1000-1800         2340.0   \n",
       "14          14                H513           1000-1800         2160.0   \n",
       "15          15                H511           1000-1800         2070.0   \n",
       "16          16                 PH4            0 – 1200         1800.0   \n",
       "17          17                 PH1            0 – 1200         1350.0   \n",
       "18          18                DH01            800-1200         1350.0   \n",
       "19          19                DH02          800 – 1200         1350.0   \n",
       "20          20                DH03          800 – 1200         1350.0   \n",
       "21          21                DH04          800 – 1200         1710.0   \n",
       "22          22  Katumani Composite           1000-1900         1350.0   \n",
       "23          23                DLC1           1000-1900         1170.0   \n",
       "\n",
       "    days_to_maturity  \n",
       "0              175.0  \n",
       "1              175.0  \n",
       "2              175.0  \n",
       "3              175.0  \n",
       "4              175.0  \n",
       "5              165.0  \n",
       "6              165.0  \n",
       "7              165.0  \n",
       "8              165.0  \n",
       "9              175.0  \n",
       "10             160.0  \n",
       "11             165.0  \n",
       "12             120.0  \n",
       "13             135.0  \n",
       "14             125.0  \n",
       "15             125.0  \n",
       "16             105.0  \n",
       "17              97.5  \n",
       "18             110.0  \n",
       "19             110.0  \n",
       "20             110.0  \n",
       "21             110.0  \n",
       "22              97.5  \n",
       "23              97.5  "
      ]
     },
     "execution_count": 2,
     "metadata": {},
     "output_type": "execute_result"
    }
   ],
   "source": [
    "hybrid_data = pd.read_csv('../data/hybrid_yields.csv')\n",
    "hybrid_data"
   ]
  },
  {
   "cell_type": "markdown",
   "metadata": {},
   "source": [
    "We have 23 different hybrid varieties, with data on the _maximum_ `yield (kg/ha)` and `days_to_maturity` for each variety. Let's see if there's a relationship between these two variables:"
   ]
  },
  {
   "cell_type": "code",
   "execution_count": 3,
   "metadata": {},
   "outputs": [
    {
     "data": {
      "text/plain": [
       "<matplotlib.axes._subplots.AxesSubplot at 0x11daf76d8>"
      ]
     },
     "execution_count": 3,
     "metadata": {},
     "output_type": "execute_result"
    },
    {
     "data": {
      "image/png": "[encoded data removed]",
      "text/plain": [
       "<Figure size 432x288 with 1 Axes>"
      ]
     },
     "metadata": {
      "needs_background": "light"
     },
     "output_type": "display_data"
    }
   ],
   "source": [
    "hybrid_data.plot.scatter(x='days_to_maturity', y='yield (kg/ha)')"
   ]
  },
  {
   "cell_type": "markdown",
   "metadata": {},
   "source": [
    "That's a pretty clear linear relationship, which isn't totally unexpected; it stands to reason that annual crops that grow for a longer period will also yield more at harvest time.\n",
    "\n",
    "<div class=\"alert alert-success\">✏️ <strong>DIY Code:</strong> Use the tools and functions from <code>Chapter 2</code>'s curve-fitting excercise to determine the best-fit linear relationship between these data and the $r^2$ value.</div>"
   ]
  },
  {
   "cell_type": "code",
   "execution_count": 4,
   "metadata": {},
   "outputs": [],
   "source": [
    "# This cell intentionally left blank [OPTIONAL]"
   ]
  },
  {
   "cell_type": "markdown",
   "metadata": {},
   "source": [
    "### Planting Date\n",
    "\n",
    "Farmers have to choose planting dates in anticipation of there being adequate rainfall during the subsequent growing period to avoid crop failure. Despite the promising data in the figure above, which shows _optimal_ yields from hybrid varities of up to 4.5 tons/ha, actual yields of maize in Kenya are around 1.4-1.6 tons/ha. That number - while 50% higher than it was only a decade ago - is about 1/3 of the yields seen in the US Midwest. So even in the absence of crop failure, success has a lower bound than elsewhere. \n",
    "\n",
    "## Tradoffs between yield, planting date, and crop failure\n",
    "\n",
    "The remainder of this Chapter will be focused on developing a simple model that captures the dynamics implicit in the discussion above:\n",
    "\n",
    "1. Higher yield varieties of maize require longer periods of growth\n",
    "2. Longer periods of growth increase the potention for exposure of crops to prolonged drought.\n",
    "3. Prolonged drought increases the probability of crop failure\n",
    "4. The timing of planting determines how these tradeoffs will play out.\n",
    "\n",
    "Let's take each of these topics in order:\n",
    "\n",
    "### 1. Tradeoffs between yield and days to maturity\n",
    "\n",
    "Just in case you didn't actually calculate the regression line between `yield (kg/ha)` and `days_to_maturity` 😉, we can eyeball the figure, and estimate the slope of the line to be about `40:1`, so that each additional day of maturity increases yield by 40 kg/ha.\n",
    "\n",
    "### 2. Tradoffs between days to maturity and exposure to climate variability\n",
    "\n",
    "This tradeoff is harder to quantify. Instead, we will model the interaction between days to maturity and crop failure. Our strategy will be to examine a very field-scale water balance that looks only at relative water availability \\[mm/mm\\], $s$, daily rainfall, $R$ \\[mm/day\\], and daily water demand, which we will characterize as reference evapotranspiration, $ET_0$ \\[mm/day\\]. Because temperature is relatively constant, we will assume that $ET_0$ is constant. Therefore our water balance is simply:\n",
    "\n",
    "\n",
    "$$ \\frac{dS}{dt} = R(t) - ET_0 $$\n",
    "\n",
    "This formulation ignores many important processes related to soil water storage and plant response to drought. As defined, it is essentially a cumulative dryness index; during periods of the season when $\\sum_t R(t) > t \\times ET_0$, there will accumulation of water in the soil. During periods when $\\sum_t R(t) < t \\times ET_0$, the soil will dry out. \n",
    "\n",
    "Because the amount of plant available water in the soil in bounded between zero and some maximum, we add an additional parameter, $S_{max}$, which is the maximum amount of water `[mm]` that can be stored in the root zone. Now our model looks like this:\n",
    "\n",
    "$$\n",
    "\\begin{eqnarray}\n",
    "    \\frac{dS}{dt} &=& R(t) - ET_0 & if & (0 \\leq S \\leq S_{max}) \\\\\n",
    "    & & & else; \\\\\n",
    "    \\frac{dS}{dt} &=& 0 \n",
    "\\end{eqnarray}       \n",
    "$$\n",
    "\n",
    "Assuming a typical value of porosity is 0.4 and soil depth is 500 mm (0.5 meters), the value of $S_{max}$ is 200, here is what our model looks like in python:\n",
    "\n",
    "```python\n",
    "n = 0.4  # Porosity, [m3/m3]\n",
    "Zr = 500 # Rooting depth [mm]\n",
    "S_max = n*Zr    # Max soil water storage [mm]\n",
    "S[0] = 30  # Initial soil water storage [mm]\n",
    "ET_0 = 6.5 # Daily reference evapotranspiration [mm]\n",
    "\n",
    "S = np.zeros(len(R)) # Pre-allocate the array for S\n",
    "dSdt = np.zeros(len(R))# Pre-allocate the array for dSdt\n",
    "\n",
    "for t in range(len(R)):\n",
    "    dSdt[t] = R[t] - ET_0\n",
    "    S[t+1] = S[t] + dSdt[t]\n",
    "    if S[t+1] < S_max:\n",
    "        S[t+1] = S_max\n",
    "    if S[t+1] < 0:\n",
    "        S[t+1] = 0\n",
    "```\n",
    "\n",
    "However, before implementing the model, we need to organize our rainfall simulation code so it is easier to work with.\n"
   ]
  },
  {
   "cell_type": "markdown",
   "metadata": {},
   "source": [
    "I've created a few functions that will speed up our analysis.\n",
    "\n",
    "#### ▶️ read_data()\n",
    "\n",
    "<div class=\"alert alert-info\">This function will read in our CETRAD data file and returns a cleaned up version using the methods we developed in <code>Chapter 2</code>. </div>"
   ]
  },
  {
   "cell_type": "code",
   "execution_count": 5,
   "metadata": {},
   "outputs": [],
   "source": [
    "def read_data():\n",
    "    from dateutil.relativedelta import relativedelta\n",
    "    # Read in the raw csv data.\n",
    "    df = pd.read_csv(\"../data/CETRAD_rainfall.csv\")\n",
    "\n",
    "    # Step 1. Convert text strings into datetime objects.\n",
    "    format = '%m/%d/%y'  # Column RDate has data in M/D/YY\n",
    "    df['Datetime'] = pd.to_datetime(df['RDate'], format=format)  # Create a new column of datetime objects using RDate.  # NOQA\n",
    "\n",
    "    # 2. Step 2. Convert future dates inferred during the conversion back into\n",
    "    # 20th century dates. Python is a future-looking programming language, and\n",
    "    # assumes that 1/1/34 is Jan 1, 2034. We fix this by finding all the dates\n",
    "    # in the future (dt > datetime.now()) and removing 100 years from\n",
    "    # their value. This requires using a relativedelta function, which handles\n",
    "    # weird stuff like leap years.\n",
    "    df['Datetime'] = df['Datetime'].map(\n",
    "        lambda dt: dt+relativedelta(years=-100) if dt > datetime.now() else dt)\n",
    "\n",
    "    # Step 3. Extract the Year and Month from the Datetime to make\n",
    "    # aggregation easier.\n",
    "    df['Year'] = [dt.year for dt in df['Datetime']]\n",
    "    df['Month'] = [dt.month for dt in df['Datetime']]\n",
    "\n",
    "    # Step 4. Use the Datetime values as the index for this dataframe.\n",
    "    df = df.set_index(pd.DatetimeIndex(df['Datetime']))  # Set the Datetime column as the dataframe index # NOQA\n",
    "\n",
    "    # Step 5.  Delete the old RDate column, which we no longer need.\n",
    "    # We will keep the Datetime column, in case we need it later.\n",
    "    df = df.drop(['RDate'], axis=1)\n",
    "\n",
    "    return df"
   ]
  },
  {
   "cell_type": "markdown",
   "metadata": {},
   "source": [
    "#### ▶️ analyze_rainfall()\n",
    "\n",
    "<div class=\"alert alert-info\"> This function will analyze a specific station and returns the raw data, as well as $\\alpha$ and $\\lambda_r$ values for each month. If <code>start_date</code> or <code>end_date</code> are passed, then they are used to subset the data to specific years. Otherwise, the entire dataset is returned.</div>"
   ]
  },
  {
   "cell_type": "code",
   "execution_count": 6,
   "metadata": {},
   "outputs": [],
   "source": [
    "def analyze_rainfall(station='JACOBSON FARM', start_year=None, end_year=None):\n",
    "    rainfall_data = read_data()\n",
    "    data = rainfall_data[[station, 'Month', 'Year', 'Datetime']]\n",
    "    if not start_year:\n",
    "        start_year = min(data['Year'])\n",
    "    if not end_year:\n",
    "        end_year = max(data['Year'])\n",
    "    if start_year < min(data['Year']):\n",
    "        start_year = min(data['Year'])\n",
    "    if end_year > max(data['Year']):\n",
    "        end_year = max(data['Year'])\n",
    "    data = data.loc[(data['Year'] >= start_year) & (data['Year'] <= end_year)]\n",
    "\n",
    "    # First, find all the rows in the data where it rained and group by month.\n",
    "    rain_days = data.loc[data[station] > 0]\n",
    "\n",
    "    # Find all locations in the data where an observation was made.\n",
    "    all_days = data.loc[data[station] >= 0]\n",
    "\n",
    "    lambda_by_month = (\n",
    "        rain_days.groupby('Month')[station].count() /\n",
    "        all_days.groupby('Month')[station].count()\n",
    "    )\n",
    "\n",
    "    alpha = rain_days[station].mean()\n",
    "\n",
    "    return alpha, lambda_by_month, data"
   ]
  },
  {
   "cell_type": "markdown",
   "metadata": {},
   "source": [
    "#### ▶️ seasonal_lambdas()\n",
    "\n",
    "<div class=\"alert alert-info\">Generates $\\lambda_r$ values for each day in a growing season given a planting_date and an array of 12 $\\lambda_r$ values (<code>lambda_by_month</code>).</div>"
   ]
  },
  {
   "cell_type": "code",
   "execution_count": 7,
   "metadata": {},
   "outputs": [],
   "source": [
    "from datetime import datetime, timedelta\n",
    "def seasonal_lambdas(lambda_by_month, planting_date=datetime.now(), days_to_maturity=150):\n",
    "    \"\"\" Generates daily values of lambda_r for a growing season. \n",
    "    \n",
    "    Usage: seasonal_lambdas(lambda_by_month, planting_date=datetime.now(), days_to_maturity=150)\n",
    "    \n",
    "    Arguments:\n",
    "        lambdas_by_month: an array of 12 values of lambda_r, one for each month.\n",
    "        planting_date: The datetime of planting. Default is today.\n",
    "        days_to_maturity: The length of the growing season\n",
    "    \"\"\"\n",
    "    start_date = planting_date\n",
    "    end_date = planting_date + timedelta(days=days_to_maturity)\n",
    "    datetimes = np.arange(\n",
    "        start_date, end_date, timedelta(days=1)).astype(datetime)\n",
    "    month_value_by_day = np.array([datetime.month for datetime in datetimes])\n",
    "    lambda_values = np.array([lambda_by_month[i] for i in month_value_by_day])\n",
    "    return lambda_values, datetimes\n"
   ]
  },
  {
   "cell_type": "markdown",
   "metadata": {},
   "source": [
    "#### ▶️ simulate_rainfall()\n",
    "\n",
    "<div class=\"alert alert-info\">Generates a simulation of a season of rainfall. Uses a planting date (which must be passed as a <code>DateTime</code> object, as well as a lenght of the growing season (<code>days_to_maturity</code>), which have default values of <code>now()</code> and <code>150</code>, respectively. Requires passing in an array of 12 $\\lambda_r$ values (<code>lambda_by_month</code>), and a single value of $\\alpha$ (<code>alpha</code>). Returns a time series of daily rainfall in mm (<code>simulated rainfall</code>).</div>"
   ]
  },
  {
   "cell_type": "code",
   "execution_count": 8,
   "metadata": {},
   "outputs": [],
   "source": [
    "def simulate_rainfall(lambda_by_month, alpha, planting_date=datetime.now(), days_to_maturity=150, n_seasons=1):\n",
    "    \"\"\" Simulates a season of rainfall.\n",
    "\n",
    "    Usage:\n",
    "\n",
    "    simulate_rainfall(\n",
    "        planting_date=datetime, days_to_maturity,\n",
    "        lambda_values, alpha_values\n",
    "    )\n",
    "\n",
    "    Arguments:\n",
    "        - planting_date = datetime object specifying month/day of planting.\n",
    "        - days_to_maturity - integer number of days until crop is mature\n",
    "        - lambda_values - array of 12 lambda values; one for each month\n",
    "        - alpha value - a constant average storm depth\n",
    "\n",
    "    \"\"\"\n",
    "    lambda_values, datetimes = seasonal_lambdas(lambda_by_month, planting_date, days_to_maturity)\n",
    "    size = [n_seasons, len(lambda_values)]\n",
    "    simulated_rainy_days = (np.random.uniform(\n",
    "        low=0, high=1, size=size) <= lambda_values).astype(int)\n",
    "    simulated_rainfall_values = np.random.exponential(scale=alpha, size=size)\n",
    "    simulated_rainfall = simulated_rainy_days * simulated_rainfall_values\n",
    "    return simulated_rainfall.squeeze(), datetimes\n",
    "    # df =  pd.DataFrame(simulated_rainfall).transpose()\n",
    "    # return df"
   ]
  },
  {
   "cell_type": "markdown",
   "metadata": {},
   "source": [
    "#### ▶️ Running the rainfall model\n",
    "\n",
    "We can run the entire rainfall model using this sequence of commands:\n",
    "\n",
    "```python\n",
    "    alpha, lambda_by_month, data = analyze_rainfall(station='JACOBSON FARM')\n",
    "    R = simulate_rainfall(lambda_by_month, alpha)\n",
    "```\n",
    "\n",
    "<div class=\"alert alert-success\">✏️ <strong>DIY Code:</strong> Use the model functions to generate rainfall for 30 years for the station <code>RUMURUTI (NRM)</code>.</div>"
   ]
  },
  {
   "cell_type": "code",
   "execution_count": 9,
   "metadata": {},
   "outputs": [],
   "source": [
    "# This cell intentionally left blank"
   ]
  },
  {
   "cell_type": "code",
   "execution_count": 10,
   "metadata": {},
   "outputs": [],
   "source": [
    "alpha, lambda_by_month, data = analyze_rainfall(station='JACOBSON FARM')\n",
    "R, dt = simulate_rainfall(lambda_by_month, alpha, planting_date=datetime(year=2018,month=12,day=1))"
   ]
  },
  {
   "cell_type": "code",
   "execution_count": null,
   "metadata": {},
   "outputs": [],
   "source": []
  },
  {
   "cell_type": "markdown",
   "metadata": {},
   "source": [
    "## Coding up the ecohydrological model\n",
    "\n",
    "Now that we have a 2-line method for generating rainfall, let's implement our model. Here's the code from above, ready to run."
   ]
  },
  {
   "cell_type": "code",
   "execution_count": 11,
   "metadata": {},
   "outputs": [],
   "source": [
    "def run_model(R,Zr=500,ET_0=3.5,S_0=30,n=0.4,):\n",
    "    \"\"\" Runs a simple model with constant ET_o. \n",
    "    \n",
    "    Usage: run_model(R,Zr=500,ET_0=6.5,S_0=30,n=0.4,)\n",
    "        Note: R must be a single-dimension array\n",
    "        n = 0.4  # Porosity, [m3/m3]\n",
    "        Zr = 500 # Rooting depth [mm]\n",
    "        ET_0 = 6.5 # Daily reference evapotranspiration [mm]\n",
    "    \"\"\"\n",
    "    S_max = n*Zr    # Max soil water storage [mm]\n",
    "    \n",
    "    S = np.zeros(len(R)) # Pre-allocate the array for S\n",
    "    dSdt = np.zeros(len(R))# Pre-allocate the array for dSdt\n",
    "\n",
    "    S[0] = 16  # Initial soil water storage [mm]\n",
    "\n",
    "    for t in range(len(R)):\n",
    "        dSdt[t] = R[t] - ET_0\n",
    "        try: # This try block avoids errors from trying to access t+1 on final timestep.\n",
    "            S[t+1] = S[t] + dSdt[t]\n",
    "            if S[t+1] > S_max:\n",
    "                S[t+1] = S_max\n",
    "            if S[t+1] < 0:\n",
    "                S[t+1] = 0\n",
    "        except IndexError:\n",
    "            return {\n",
    "                'dSdt': dSdt,\n",
    "                'S': S,\n",
    "                'R': R,\n",
    "                'ET_0': ET_0\n",
    "            }"
   ]
  },
  {
   "cell_type": "markdown",
   "metadata": {},
   "source": [
    "### Running the ecohydrological model (single season)\n",
    "\n",
    "To summarize, running the model requires stiching all the code above into the following four steps:\n",
    "\n",
    "1. **Analyze station rainfall data.** This provides the necessary $\\lambda_r$ and$\\alpha$ values for implementing the model.\n",
    "\n",
    "```python\n",
    "station = 'JACOBSON FARM'\n",
    "alpha, lambda_by_month, rain_data = analyze_rainfall(station='JACOBSON FARM')\n",
    "```\n",
    "\n",
    "2. **Simulate seasonal rainfall.** This provides a timeseries of rainfall based on planting date that we can use in our ecohydrological model.\n",
    "\n",
    "```python\n",
    "planting_date = datetime(year=2018, month=11, day=15)\n",
    "R, dt = simulate_rainfall(lambda_by_month, alpha, planting_date=planting_date)\n",
    "```\n",
    "\n",
    "3. **Run the ecohydrological model.** Now that we have our rainfall data, we can run the model.\n",
    "\n",
    "```python\n",
    "    output = run_model(R)\n",
    "```\n",
    "\n",
    "Here's everything all together:"
   ]
  },
  {
   "cell_type": "code",
   "execution_count": 12,
   "metadata": {},
   "outputs": [],
   "source": [
    "# Step 1. Analyze station rainfall data.\n",
    "station = 'JACOBSON FARM'\n",
    "alpha, lambda_by_month, rain_data = analyze_rainfall(station=station)\n",
    "\n",
    "# Step 2. Simulate seasonal rainfall\n",
    "planting_date = datetime(year=2018, month=11, day=15)\n",
    "R, dt = simulate_rainfall(lambda_by_month, alpha)\n",
    "\n",
    "# Step 3. Run the ecohydrological model.\n",
    "output = run_model(R)\n",
    "S = output['S']\n",
    "dSdt = output['dSdt']"
   ]
  },
  {
   "cell_type": "code",
   "execution_count": 13,
   "metadata": {},
   "outputs": [
    {
     "data": {
      "text/plain": [
       "Text(0.5,1,'Total rainfall    188 [mm],  avg. S:  3.79 [mm]')"
      ]
     },
     "execution_count": 13,
     "metadata": {},
     "output_type": "execute_result"
    },
    {
     "data": {
      "image/png": "[encoded data removed]",
      "text/plain": [
       "<Figure size 432x288 with 1 Axes>"
      ]
     },
     "metadata": {
      "needs_background": "light"
     },
     "output_type": "display_data"
    }
   ],
   "source": [
    "plt.plot(dt,S)\n",
    "plt.title(\"Total rainfall {rain:6.0f} [mm],  avg. S:{S:6.2f} [mm]\".format(\n",
    "    rain=sum(R),\n",
    "    S=S.mean()\n",
    "))"
   ]
  },
  {
   "cell_type": "markdown",
   "metadata": {},
   "source": [
    "### Running the ecohydrological model (multiple seasons)\n",
    "\n",
    "Running the model for multiple seasons requires only a slight modification to how we collect the output. Instead of a single dictionary with the output, we create a list of dictionaries, which each contain output for one simulation. We are also going to include more variables explicitly in Step 2:\n",
    "\n",
    "```python\n",
    "planting_date = datetime(year=2018, month=10, day=15)\n",
    "n_seasons = 100\n",
    "days_to_maturity = 150\n",
    "```\n"
   ]
  },
  {
   "cell_type": "code",
   "execution_count": 14,
   "metadata": {},
   "outputs": [
    {
     "data": {
      "text/plain": [
       "Text(0.5,1,'Mar 15 to Aug 12, n=100, S_avg=14.97')"
      ]
     },
     "execution_count": 14,
     "metadata": {},
     "output_type": "execute_result"
    },
    {
     "data": {
      "image/png": "[encoded data removed]",
      "text/plain": [
       "<Figure size 432x288 with 1 Axes>"
      ]
     },
     "metadata": {
      "needs_background": "light"
     },
     "output_type": "display_data"
    }
   ],
   "source": [
    "# Step 1. Analyze station rainfall data.\n",
    "station = 'JACOBSON FARM'\n",
    "alpha, lambda_by_month, rain_data = analyze_rainfall(station=station)\n",
    "\n",
    "# Step 2. Simulate n seasons of rainfall\n",
    "from datetime import timedelta\n",
    "\n",
    "planting_date = datetime(year=2018, month=3, day=15)\n",
    "n_seasons = 100\n",
    "days_to_maturity = 150\n",
    "\n",
    "R, dt = simulate_rainfall(lambda_by_month, alpha, planting_date=planting_date, n_seasons=n_seasons)\n",
    "\n",
    "# Step 3. Run the ecohydrological model.\n",
    "output = []\n",
    "S = []\n",
    "dSdt = []\n",
    "for r in R:\n",
    "    output = (run_model(r))\n",
    "    S.append(output['S'])\n",
    "    dSdt.append(output['dSdt'])\n",
    "\n",
    "# It's very easy to turn a list of lists into a `DataFrame`\n",
    "df_S = pd.DataFrame(S)\n",
    "plt.plot(dt, df_S.mean())\n",
    "plt.title(\"{date} to {end}, n={n}, S_avg={s:5.2f}\".format(\n",
    "    date=datetime.strftime(planting_date,\"%b %d\"),\n",
    "    end=datetime.strftime(planting_date+timedelta(days=days_to_maturity),\"%b %d\"),\n",
    "    n=n_seasons,\n",
    "    s=df_S.mean().mean()))"
   ]
  },
  {
   "cell_type": "markdown",
   "metadata": {},
   "source": [
    "## Effect of planting date on average soil water availability\n",
    "\n",
    "We can use our model to see how planting date alters the average soil water availability during the growing season.\n",
    "\n",
    "We will use a for loop to iterate across planting dates\n",
    "\n",
    "```python \n",
    "station = 'JACOBSON FARM'\n",
    "alpha, lambda_by_month, rain_data = analyze_rainfall(station=station)\n",
    "n_seasons = 100\n",
    "days_to_maturity = 150\n",
    "\n",
    "planting_dates = np.arange(datetime(2017,1,1), datetime(2017,12,31), timedelta(weeks=1)).astype(datetime)\n",
    "\n",
    "S_avg = []\n",
    "for planting_date in planting_dates:\n",
    "    R, dt = simulate_rainfall(lambda_by_month, alpha, planting_date=planting_date, n_seasons=n_seasons)\n",
    "\n",
    "    # Step 3. Run the ecohydrological model.\n",
    "    output = []\n",
    "    S = []\n",
    "    dSdt = []\n",
    "    for r in R:\n",
    "        output = (run_model(r))\n",
    "        S.append(output['S'])\n",
    "        dSdt.append(output['dSdt'])\n",
    "    df_S = pd.DataFrame(S)\n",
    "    S_avg.append(df_S.mean().mean())\n",
    "```"
   ]
  },
  {
   "cell_type": "code",
   "execution_count": 15,
   "metadata": {},
   "outputs": [
    {
     "data": {
      "text/plain": [
       "[<matplotlib.lines.Line2D at 0x11e038b00>]"
      ]
     },
     "execution_count": 15,
     "metadata": {},
     "output_type": "execute_result"
    },
    {
     "data": {
      "image/png": "[encoded data removed]",
      "text/plain": [
       "<Figure size 432x288 with 1 Axes>"
      ]
     },
     "metadata": {
      "needs_background": "light"
     },
     "output_type": "display_data"
    }
   ],
   "source": [
    "station = 'JACOBSON FARM'\n",
    "alpha, lambda_by_month, rain_data = analyze_rainfall(station=station)\n",
    "n_seasons = 100\n",
    "days_to_maturity = 150\n",
    "\n",
    "planting_dates = np.arange(datetime(2017,1,1), datetime(2017,12,31), timedelta(weeks=1)).astype(datetime)\n",
    "\n",
    "S_avg = []\n",
    "for planting_date in planting_dates:\n",
    "    R, dt = simulate_rainfall(lambda_by_month, alpha, planting_date=planting_date, n_seasons=n_seasons)\n",
    "\n",
    "    # Step 3. Run the ecohydrological model.\n",
    "    output = []\n",
    "    S = []\n",
    "    dSdt = []\n",
    "    for r in R:\n",
    "        output = (run_model(r))\n",
    "        S.append(output['S'])\n",
    "        dSdt.append(output['dSdt'])\n",
    "    df_S = pd.DataFrame(S)\n",
    "    S_avg.append(df_S.mean().mean())\n",
    "\n",
    "plt.plot(planting_dates,S_avg)"
   ]
  },
  {
   "cell_type": "markdown",
   "metadata": {},
   "source": [
    "It appears that there are two fairly broad periods of moderate water availability, separated by deep valleys of low water availability. Our next question is how do planting date and days to maturity interact. We can examine this by nesting two for loops.\n",
    "\n",
    "```python\n",
    "station = 'JACOBSON FARM'\n",
    "alpha, lambda_by_month, rain_data = analyze_rainfall(station=station)\n",
    "n_seasons = 100\n",
    "varieties = [120, 180]\n",
    "\n",
    "planting_dates = np.arange(datetime(2017,1,1), datetime(2017,12,31), timedelta(weeks=1)).astype(datetime)\n",
    "\n",
    "S_avg = [[],[]]\n",
    "\n",
    "for planting_date in planting_dates:\n",
    "    for i, days_to_maturity in enumerate(varieties): \n",
    "        R, dt = simulate_rainfall(\n",
    "            lambda_by_month, alpha,\n",
    "            days_to_maturity=days_to_maturity,\n",
    "            planting_date=planting_date, n_seasons=n_seasons)\n",
    "\n",
    "        # Step 3. Run the ecohydrological model.\n",
    "        output = []\n",
    "        S = []\n",
    "        dSdt = []\n",
    "        for r in R:\n",
    "            output = (run_model(r))\n",
    "            S.append(output['S'])\n",
    "            dSdt.append(output['dSdt'])\n",
    "        df_S = pd.DataFrame(S)\n",
    "        S_avg[i].append(df_S.mean().mean())\n",
    "```"
   ]
  },
  {
   "cell_type": "code",
   "execution_count": 16,
   "metadata": {},
   "outputs": [
    {
     "data": {
      "text/plain": [
       "Text(0.5,1,'Effect of planting date and variety on soil water availability')"
      ]
     },
     "execution_count": 16,
     "metadata": {},
     "output_type": "execute_result"
    },
    {
     "data": {
      "image/png": "[encoded data removed]",
      "text/plain": [
       "<Figure size 432x288 with 1 Axes>"
      ]
     },
     "metadata": {
      "needs_background": "light"
     },
     "output_type": "display_data"
    }
   ],
   "source": [
    "station = 'JACOBSON FARM'\n",
    "alpha, lambda_by_month, rain_data = analyze_rainfall(station=station)\n",
    "n_seasons = 100\n",
    "varieties = [120, 180]\n",
    "\n",
    "planting_dates = np.arange(datetime(2017,1,1), datetime(2017,12,31), timedelta(weeks=1)).astype(datetime)\n",
    "\n",
    "S_avg = [[],[]]\n",
    "\n",
    "for planting_date in planting_dates:\n",
    "    for i, days_to_maturity in enumerate(varieties): \n",
    "        R, dt = simulate_rainfall(\n",
    "            lambda_by_month, alpha,\n",
    "            days_to_maturity=days_to_maturity,\n",
    "            planting_date=planting_date, n_seasons=n_seasons)\n",
    "\n",
    "        # Step 3. Run the ecohydrological model.\n",
    "        output = []\n",
    "        S = []\n",
    "        dSdt = []\n",
    "        for r in R:\n",
    "            output = (run_model(r))\n",
    "            S.append(output['S'])\n",
    "            dSdt.append(output['dSdt'])\n",
    "        df_S = pd.DataFrame(S)\n",
    "        S_avg[i].append(df_S.mean().mean())\n",
    "\n",
    "df = pd.DataFrame({\n",
    "    'x': planting_dates,\n",
    "    '120-day': S_avg[0],\n",
    "    '180-day': S_avg[1]\n",
    "})\n",
    "\n",
    "plt.plot(\n",
    "    'x', '120-day', data=df, marker='', color='skyblue',\n",
    "    label='120-day variety', linewidth=2\n",
    ")\n",
    "plt.plot('x', '180-day', data=df, marker='', color='skyblue',\n",
    "    label='180-day variety', linestyle='dashed', linewidth=2\n",
    ")\n",
    "plt.legend()\n",
    "plt.title('Effect of planting date and variety on soil water availability')"
   ]
  },
  {
   "cell_type": "markdown",
   "metadata": {},
   "source": [
    "We see that the variety that matures more quickly has a narrow range of success, but higher peaks in terms of seasonal water availability."
   ]
  },
  {
   "cell_type": "markdown",
   "metadata": {},
   "source": [
    "## Coefficients of Seasonal Rainfall Variability across Laikipia\n",
    "\n",
    "Analysis from [Philip Thornton](https://ccafs.cgiar.org/about/people/philip-thornton#.W4H37S2ZPOQ) at CCAFS/CGIAR suggests that there are fairly sharp thresholds in the relationship between rainfall climatology and crop failure. The following two figures demonstrate this relationship from some of his previous work.\n",
    "\n",
    "![](../assets/crop_failure_vs_rainfall_cv.png)\n",
    "            \n",
    "![](../assets/cropping_extent_vs_rainfall_cv.png)\n",
    "\n",
    "\n",
    "The top panel demonstrates how rainfall CV (on the x-axis) relates to the probability of crop failure in dryland agricultural systems (y-axis). The bottom panel provides the distribution of rainfall values and cropping extent (% area occupied by crops) across Sub-Saharan Africa. Rather than depicting a scatterplot, the varying color represents the density of observations in each portion of the graph's coordinate space.\n",
    "\n",
    "Based on the upper panel, we can analyze various stations around Laikipia to see how they compare to the CV thresholds.\n",
    "\n",
    "<div class=\"alert alert-success\">✏️ <strong>DIY Code:</strong> Use our code from Chapter 2 to analyze the simulated CV of growing season rainfall for different stations across Laikpia.</div>\n",
    "\n",
    "<div class=\"alert alert-info\">💡 <strong>Hint</strong>: You can use our model analyses to determine optimal planting dates for any station. Running the model gives a suite of seasonal rainfall amounts from which you can determin the CV of seasonal rainfall amounts.</div>"
   ]
  },
  {
   "cell_type": "code",
   "execution_count": 17,
   "metadata": {},
   "outputs": [],
   "source": [
    "# This cell intentionally left blank"
   ]
  },
  {
   "cell_type": "code",
   "execution_count": null,
   "metadata": {},
   "outputs": [],
   "source": []
  },
  {
   "cell_type": "markdown",
   "metadata": {},
   "source": [
    "## Coupling rainfall variability, water availability, and yield\n",
    "\n",
    "Our next step will be to develop a relationship between soil water availability and yield. Most annual crops require a minimuim amount of soil moisture to avoid wilting. Furthermore, prolonged periods of wilting/stress are likely to cause complete crop failure. \n",
    "\n",
    "We can specify a threshold of water resource scarcity, and/or a maximum duration of water scarcity that would lead to crop failure and use our same analysis framework to examine how our system responds. We don't need to change our model, we only need to analyze our results.\n",
    "\n",
    "Let's say that for any variety, at least **10 mm** of water is necessary to avoid wilting. For our soil, 10 mm corresponds to a volumetric soil moisture of 5%, which is pretty dry. In addition, let's say that any season with more the 25% of the days are below this threshold leads to crop failure. \n",
    "\n",
    "Let's define these two new variables as $S_{wp}=10$, the soil water amount associated with wilting point) and $T_{wp}=0.25*T_{harvest}$, the maximum amount of time at or below wilting point before crops fail.\n",
    "\n",
    "<div class=\"alert alert-success\">✏️ <strong>DIY Code:</strong> Use the $S_{wp}$ and $T_{wp}$ values to determine the likelihood of crop failure based on planting date.</div>\n",
    "\n",
    "<div class=\"alert alert-info\">💡 <strong>Hint</strong>: Since we haven't changed the model - only how we interpret the data - you can use the same output we've already generated for our earlier analyses.</div>"
   ]
  },
  {
   "cell_type": "code",
   "execution_count": 18,
   "metadata": {},
   "outputs": [],
   "source": [
    "# This cell intentionally left blank."
   ]
  }
 ],
 "metadata": {
  "kernelspec": {
   "display_name": "Python 3",
   "language": "python",
   "name": "python3"
  },
  "language_info": {
   "codemirror_mode": {
    "name": "ipython",
    "version": 3
   },
   "file_extension": ".py",
   "mimetype": "text/x-python",
   "name": "python",
   "nbconvert_exporter": "python",
   "pygments_lexer": "ipython3",
   "version": "3.7.0"
  }
 },
 "nbformat": 4,
 "nbformat_minor": 2
}
