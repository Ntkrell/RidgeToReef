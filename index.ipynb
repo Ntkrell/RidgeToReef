{
 "cells": [
  {
   "cell_type": "markdown",
   "metadata": {},
   "source": [
    "![waves_logo](assets/waves_logo.png)\n",
    "\n",
    "# Climate Variability, Food Security, and Farmer Decision Making\n",
    "\n",
    "This module is an introduction to the analysis of rainfall variability, the development of stochastic models for daily rainfall in tropical drylands, and their application to understanding climate, food security, and farmer decision making. The content in this module is more than possibly be done in a single day, but it is designed to allow students from any background to work through the material at their own pace.\n",
    "\n",
    "The module assumes no prior experience with `python`, `pandas`, or `jupyter` notebooks. There is a substantial tutorial covering the basics of `python` that is included in `Chapter 0`, and the main module materials begin in `Chapter 1`. Where relevant, we've included links to external material that provides back\n",
    "\n",
    "### External Resources\n",
    "\n",
    "* [K. Caylor - ESA 2018 Invited Talk on Climate Variability & Dryland Vegetation](https://www.dropbox.com/s/082oe26qnh52mal/ESA%202018%20-%20Mulit-scale%20Pattern%20and%20Process.pdf?dl=0)\n",
    "* [K. Caylor - SESYNC Seminar, 2015](https://www.dropbox.com/s/6ryrds9o9n16bua/Caylor%20SESYNC%20October%202015.pdf?dl=0)\n",
    "* [N. Krell - AGU 2017 Presentation](https://www.dropbox.com/s/d92own7krvi5c4a/agu_fm_2017_draft-2.pdf?dl=0)\n",
    "* [D. Gower et al. - Environmental Research Letters, 2017](https://www.dropbox.com/s/bloitkk87bs5qo4/Gower_2016_Environ._Res._Lett._11_115005.pdf?dl=0)\n",
    "\n"
   ]
  },
  {
   "cell_type": "markdown",
   "metadata": {},
   "source": [
    "## Module Objectives\n",
    "\n",
    "(what ideas we are going to explore)\n",
    "\n",
    "* Approaches for characterizing rainfall variability\n",
    "* Simulation of stochastic processes\n",
    "* Simple ecohydrological models of crop success/failure\n",
    "* Examination of the links between farmer decision-making and climate\n"
   ]
  },
  {
   "cell_type": "markdown",
   "metadata": {},
   "source": [
    "## Learning Goals\n",
    "\n",
    "(what you will be able to do)\n",
    "\n",
    "* Conducting reproducible analyses within interactive jupyter notebook environments \n",
    "* Load, aggregate, analyze, and display rainfall data using pandas\n",
    "* Learn basics of matplotlib for plotting data.\n",
    "* Use scipy functions to develop fits of distributions to empirical data\n",
    "* Implemnent simple ecohydrological models to examine how planting date and seed choice affect crop performance in dryland systems\n"
   ]
  },
  {
   "cell_type": "markdown",
   "metadata": {},
   "source": [
    "## Activity Outline"
   ]
  },
  {
   "cell_type": "markdown",
   "metadata": {},
   "source": [
    "### Chapter 0 - Introduction to Python and Data Analysis in Pandas\n",
    "\n",
    "The materials in Chapter 0 are to be completed before we begin Module 1. Students with no prior experience in python or pandas will want to review these materials, as well as some of the links provided in the tutorials for additional information. \n",
    "\n",
    "**Duration**: It is expected that working through this material will take about 90 minutes.\n",
    "\n",
    "[Chapter 0 - Python and Pandas Tutorial](chapters/Chapter%200.ipynb)"
   ]
  },
  {
   "cell_type": "markdown",
   "metadata": {},
   "source": [
    "### Chapter 1 - Characterizing Seasonal Rainfall Variability\n",
    "\n",
    "The materials in Chapter 1 are designed to provide a more comprehensive introduction to how we can use the `pandas` data analysis library to investigate timeseries of rainfall data (and, more generally, any data). \n",
    "\n",
    "**Duration**: This material will take at least **90 mins** to work through, possibly longer depending on your comfort with `pandas` and `python`.\n",
    "\n",
    "[Chapter 1 - Characterizing Seasonal Rainfall Variability](chapters/Chapter%201.ipynb)"
   ]
  },
  {
   "cell_type": "markdown",
   "metadata": {},
   "source": [
    "### Chapter 2 - Simulating Stochastic Rainfall Processes and Fitting Empirical Data\n",
    "\n",
    "Chapter 2 expands on Chapter 1 to develop a simple stochastic model of rainfall. We then implement the model by fitting its parameters to empirical data. The module closes with an open-ended invitation to explore both the model and the datasets using the building blocks of code we have developed in the first 2 chapters.\n",
    "\n",
    "**Duration**: It is expected that this material will take at least **2 hours** to work through, and possibly much longer depending on how far the student pursues some of the open-ended investigations presented at the end of the Chapter.\n",
    "\n",
    "[Chapter 2 - Simulating Stochastic Rainfall Processes](chapters/Chapter%202.ipynb)"
   ]
  },
  {
   "cell_type": "markdown",
   "metadata": {},
   "source": [
    "### Chapter 3 - Impacts of Decision Making on Agricultural Outcomes\n",
    "\n",
    "Chapter 3 presents an extremely simplified model of crop success/failure that can be easily implemented on top of the rainfall simulations developed in Chapter 2. In leiu of complex process-based approaches, we develop a heuristic model that allows us to quickly assess the potential for crop failure across a wide range of rainfall climatologies.\n",
    "\n",
    "[Chapter 3 - Impacts of Decision Making on Agricultural Outcomes](chapters/Chapter%203.ipynb)"
   ]
  },
  {
   "cell_type": "markdown",
   "metadata": {},
   "source": [
    "<table>\n",
    "    <tr>\n",
    "        <td><img src=\"assets/nsf_logo.png\" width=\"100\" /></td>\n",
    "        <td><img src=\"assets/ucsb_logo.png\" width=\"100\" /></td> \n",
    "        <td><img src=\"assets/eri_logo.png\" width=\"100\" /></td>\n",
    "    </tr>\n",
    "</table>\n"
   ]
  }
 ],
 "metadata": {
  "kernelspec": {
   "display_name": "Python 3",
   "language": "python",
   "name": "python3"
  },
  "language_info": {
   "codemirror_mode": {
    "name": "ipython",
    "version": 3
   },
   "file_extension": ".py",
   "mimetype": "text/x-python",
   "name": "python",
   "nbconvert_exporter": "python",
   "pygments_lexer": "ipython3",
   "version": "3.6.5"
  }
 },
 "nbformat": 4,
 "nbformat_minor": 2
}
